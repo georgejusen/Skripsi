{
  "cells": [
    {
      "attachments": {},
      "cell_type": "markdown",
      "metadata": {
        "id": "44JRqlK3IyFv"
      },
      "source": [
        "**Face Mask Detection**\n",
        "\n",
        "Program Machine Learning untuk mendeteksi penggunaan masker. Program dibuat menggunakan metode CNN dengan arsitektur VGG16Net dan MTCNN untuk face detection.\n"
      ]
    },
    {
      "attachments": {},
      "cell_type": "markdown",
      "metadata": {
        "id": "_BvjSZ30YhWh"
      },
      "source": [
        "## Mengimpor Libraries yang dibutuhkan\n"
      ]
    },
    {
      "cell_type": "code",
      "execution_count": 1,
      "metadata": {
        "colab": {
          "base_uri": "https://localhost:8080/"
        },
        "id": "W3Za-KOKf-Ot",
        "outputId": "24adee42-c900-4da4-e315-be0b6ebae6a5"
      },
      "outputs": [
        {
          "name": "stderr",
          "output_type": "stream",
          "text": [
            "c:\\Users\\georg\\anaconda3\\envs\\tf\\lib\\site-packages\\numpy\\_distributor_init.py:30: UserWarning: loaded more than 1 DLL from .libs:\n",
            "c:\\Users\\georg\\anaconda3\\envs\\tf\\lib\\site-packages\\numpy\\.libs\\libopenblas.FB5AE2TYXYH2IJRDKGDGQ3XBKLKTF43H.gfortran-win_amd64.dll\n",
            "c:\\Users\\georg\\anaconda3\\envs\\tf\\lib\\site-packages\\numpy\\.libs\\libopenblas64__v0.3.21-gcc_10_3_0.dll\n",
            "  warnings.warn(\"loaded more than 1 DLL from .libs:\"\n"
          ]
        },
        {
          "name": "stdout",
          "output_type": "stream",
          "text": [
            "Num GPUs Available:  1\n",
            "Tue Aug 29 15:02:33 2023       \n",
            "+---------------------------------------------------------------------------------------+\n",
            "| NVIDIA-SMI 537.13                 Driver Version: 537.13       CUDA Version: 12.2     |\n",
            "|-----------------------------------------+----------------------+----------------------+\n",
            "| GPU  Name                     TCC/WDDM  | Bus-Id        Disp.A | Volatile Uncorr. ECC |\n",
            "| Fan  Temp   Perf          Pwr:Usage/Cap |         Memory-Usage | GPU-Util  Compute M. |\n",
            "|                                         |                      |               MIG M. |\n",
            "|=========================================+======================+======================|\n",
            "|   0  NVIDIA GeForce GTX 1050      WDDM  | 00000000:01:00.0 Off |                  N/A |\n",
            "| N/A   45C    P0              N/A / ERR! |    140MiB /  3072MiB |      3%      Default |\n",
            "|                                         |                      |                  N/A |\n",
            "+-----------------------------------------+----------------------+----------------------+\n",
            "                                                                                         \n",
            "+---------------------------------------------------------------------------------------+\n",
            "| Processes:                                                                            |\n",
            "|  GPU   GI   CI        PID   Type   Process name                            GPU Memory |\n",
            "|        ID   ID                                                             Usage      |\n",
            "|=======================================================================================|\n",
            "|    0   N/A  N/A     23092      C   ...\\georg\\anaconda3\\envs\\tf\\python.exe    N/A      |\n",
            "+---------------------------------------------------------------------------------------+\n"
          ]
        }
      ],
      "source": [
        "import tensorflow as tf\n",
        "from tensorflow.keras.preprocessing.image import ImageDataGenerator\n",
        "from tensorflow.keras.applications import vgg16\n",
        "from tensorflow.keras.layers import AveragePooling2D\n",
        "from tensorflow.keras.layers import Dropout\n",
        "from tensorflow.keras.layers import Flatten\n",
        "from tensorflow.keras.layers import Dense\n",
        "from tensorflow.keras.layers import Input\n",
        "from tensorflow.keras.models import Model\n",
        "from tensorflow.keras.optimizers import Adam\n",
        "from tensorflow.keras.applications.mobilenet_v2 import preprocess_input\n",
        "from tensorflow.keras.preprocessing.image import img_to_array\n",
        "from tensorflow.keras.preprocessing.image import load_img\n",
        "from tensorflow.keras.utils import to_categorical\n",
        "from sklearn.preprocessing import LabelBinarizer\n",
        "from sklearn.model_selection import train_test_split\n",
        "from sklearn.metrics import classification_report\n",
        "from sklearn.metrics import confusion_matrix\n",
        "from imutils import paths\n",
        "import matplotlib.pyplot as plt\n",
        "import pathlib\n",
        "import numpy as np\n",
        "import argparse\n",
        "import os\n",
        "import itertools\n",
        "\n",
        "\n",
        "print(\"Num GPUs Available: \", len(tf.config.list_physical_devices('GPU')))\n",
        "tf.test.gpu_device_name()\n",
        "\n",
        "!nvidia-smi\n",
        "\n",
        "\n"
      ]
    },
    {
      "attachments": {},
      "cell_type": "markdown",
      "metadata": {
        "id": "ZU5Fqk2vLELg"
      },
      "source": [
        "## Preprocessing Datasets\n"
      ]
    },
    {
      "cell_type": "code",
      "execution_count": 2,
      "metadata": {
        "colab": {
          "base_uri": "https://localhost:8080/"
        },
        "id": "D48VICs21pna",
        "outputId": "cea2273f-1fce-4e75-d91a-b7d54b84edf2"
      },
      "outputs": [
        {
          "name": "stdout",
          "output_type": "stream",
          "text": [
            "Menginput gambar...\n",
            "Input gambar berhasil\n"
          ]
        }
      ],
      "source": [
        "# Inisialisasi nilai Initial Learning Rate, berapa banyak Epoch pelatihan, dan Batch Size\n",
        "import sys\n",
        "from PIL import Image\n",
        "\n",
        "INIT_LR = 1e-4\n",
        "EPOCHS = 30\n",
        "BS = 32\n",
        " \n",
        "# Mengambil gambar dari dataset directory, kemudian inisialisasi data dan class gambar\n",
        "print(\"Menginput gambar...\")\n",
        "\n",
        "# imagePaths = list(paths.list_images('dataset'))\n",
        "imagePaths = list(paths.list_images('dataset_small'))\n",
        "data = []\n",
        "labels = []\n",
        " \n",
        "# Melakukan perulangan pada image paths\n",
        "for imagePath in imagePaths:\n",
        " \n",
        "    # Mengekstrak class label dari filename\n",
        "    label = imagePath.split(os.path.sep)[-2]\n",
        "    # Memuat input gambar (224x224) dan melakukan proses\n",
        "    image = load_img(imagePath, target_size=(224, 224))\n",
        "    image = img_to_array(image)\n",
        "    image = preprocess_input(image)\n",
        " \n",
        "    # Mengupdate data dan labels lists, berurutan\n",
        "    data.append(image)\n",
        "    labels.append(label)\n",
        " \n",
        "# Mengkonversi data dan label ke dalam NumPy Arrays\n",
        "data = np.array(data, dtype=\"float32\")\n",
        "labels = np.array(labels)\n",
        " \n",
        "# Melakukan one-hot encoding on the labels\n",
        "lb = LabelBinarizer()\n",
        "labels = lb.fit_transform(labels)\n",
        "labels = to_categorical(labels)\n",
        "print(\"Input gambar berhasil\")"
      ]
    },
    {
      "attachments": {},
      "cell_type": "markdown",
      "metadata": {
        "id": "aF2vfrgni3tq"
      },
      "source": [
        "### Membuat objek ImageDataGenerator dan Data Augmentation\n"
      ]
    },
    {
      "cell_type": "code",
      "execution_count": 3,
      "metadata": {
        "colab": {
          "base_uri": "https://localhost:8080/"
        },
        "id": "tRBrygye5yvc",
        "outputId": "cbf33c6e-2b61-4896-a861-b723597e9581"
      },
      "outputs": [],
      "source": [
        "# Mempartisi data ke dalam pelatihan dan pengujian ( 75% : 25% )\n",
        "'''\n",
        "(trainX, testX, trainY, testY) = train_test_split(data, labels,\n",
        "    test_size=0.25, stratify=labels, random_state=42)\n",
        " '''\n",
        "\n",
        "\n",
        "# Membentuk training image generator untuk data augmentation\n",
        "aug = ImageDataGenerator(\n",
        "    rotation_range=20,\n",
        "    zoom_range=0.15,\n",
        "    width_shift_range=0.2,\n",
        "    height_shift_range=0.2,\n",
        "    shear_range=0.15,\n",
        "    horizontal_flip=True,\n",
        "    fill_mode=\"nearest\")"
      ]
    },
    {
      "attachments": {},
      "cell_type": "markdown",
      "metadata": {
        "id": "bHPD753f5205"
      },
      "source": [
        "## Membuat Model Jaringan CNN yang sudah dipelajari sebelumnya (pre-trained convnets)\n"
      ]
    },
    {
      "cell_type": "code",
      "execution_count": 4,
      "metadata": {
        "colab": {
          "base_uri": "https://localhost:8080/"
        },
        "id": "FaDceTqP6HLr",
        "outputId": "549de847-15bc-46e9-f9d8-e024c5fd2a89"
      },
      "outputs": [],
      "source": [
        "# Arsitektur jaringan VGG16Net\n",
        "baseModel = tf.keras.applications.VGG16(weights=\"imagenet\", include_top=False,\n",
        "    input_tensor=Input(shape=(224, 224, 3)))"
      ]
    },
    {
      "attachments": {},
      "cell_type": "markdown",
      "metadata": {
        "id": "NfSLr2q2LWRZ"
      },
      "source": [
        "### Feature Extraction\n"
      ]
    },
    {
      "cell_type": "code",
      "execution_count": 5,
      "metadata": {
        "colab": {
          "base_uri": "https://localhost:8080/"
        },
        "id": "Z0U2qYnO6KYW",
        "outputId": "00a32ad0-22a0-42a6-8495-b1527f745d2e"
      },
      "outputs": [
        {
          "name": "stdout",
          "output_type": "stream",
          "text": [
            "Model: \"vgg16\"\n",
            "_________________________________________________________________\n",
            " Layer (type)                Output Shape              Param #   \n",
            "=================================================================\n",
            " input_1 (InputLayer)        [(None, 224, 224, 3)]     0         \n",
            "                                                                 \n",
            " block1_conv1 (Conv2D)       (None, 224, 224, 64)      1792      \n",
            "                                                                 \n",
            " block1_conv2 (Conv2D)       (None, 224, 224, 64)      36928     \n",
            "                                                                 \n",
            " block1_pool (MaxPooling2D)  (None, 112, 112, 64)      0         \n",
            "                                                                 \n",
            " block2_conv1 (Conv2D)       (None, 112, 112, 128)     73856     \n",
            "                                                                 \n",
            " block2_conv2 (Conv2D)       (None, 112, 112, 128)     147584    \n",
            "                                                                 \n",
            " block2_pool (MaxPooling2D)  (None, 56, 56, 128)       0         \n",
            "                                                                 \n",
            " block3_conv1 (Conv2D)       (None, 56, 56, 256)       295168    \n",
            "                                                                 \n",
            " block3_conv2 (Conv2D)       (None, 56, 56, 256)       590080    \n",
            "                                                                 \n",
            " block3_conv3 (Conv2D)       (None, 56, 56, 256)       590080    \n",
            "                                                                 \n",
            " block3_pool (MaxPooling2D)  (None, 28, 28, 256)       0         \n",
            "                                                                 \n",
            " block4_conv1 (Conv2D)       (None, 28, 28, 512)       1180160   \n",
            "                                                                 \n",
            " block4_conv2 (Conv2D)       (None, 28, 28, 512)       2359808   \n",
            "                                                                 \n",
            " block4_conv3 (Conv2D)       (None, 28, 28, 512)       2359808   \n",
            "                                                                 \n",
            " block4_pool (MaxPooling2D)  (None, 14, 14, 512)       0         \n",
            "                                                                 \n",
            " block5_conv1 (Conv2D)       (None, 14, 14, 512)       2359808   \n",
            "                                                                 \n",
            " block5_conv2 (Conv2D)       (None, 14, 14, 512)       2359808   \n",
            "                                                                 \n",
            " block5_conv3 (Conv2D)       (None, 14, 14, 512)       2359808   \n",
            "                                                                 \n",
            " block5_pool (MaxPooling2D)  (None, 7, 7, 512)         0         \n",
            "                                                                 \n",
            "=================================================================\n",
            "Total params: 14,714,688\n",
            "Trainable params: 0\n",
            "Non-trainable params: 14,714,688\n",
            "_________________________________________________________________\n"
          ]
        }
      ],
      "source": [
        "baseModel.trainable = False\n",
        "baseModel.summary()"
      ]
    },
    {
      "attachments": {},
      "cell_type": "markdown",
      "metadata": {
        "id": "ENpg9P6Q6SpL"
      },
      "source": [
        "## Tahap Pembuatan Model\n"
      ]
    },
    {
      "cell_type": "code",
      "execution_count": 6,
      "metadata": {},
      "outputs": [
        {
          "name": "stdout",
          "output_type": "stream",
          "text": [
            "Model: \"model\"\n",
            "_________________________________________________________________\n",
            " Layer (type)                Output Shape              Param #   \n",
            "=================================================================\n",
            " input_1 (InputLayer)        [(None, 224, 224, 3)]     0         \n",
            "                                                                 \n",
            " block1_conv1 (Conv2D)       (None, 224, 224, 64)      1792      \n",
            "                                                                 \n",
            " block1_conv2 (Conv2D)       (None, 224, 224, 64)      36928     \n",
            "                                                                 \n",
            " block1_pool (MaxPooling2D)  (None, 112, 112, 64)      0         \n",
            "                                                                 \n",
            " block2_conv1 (Conv2D)       (None, 112, 112, 128)     73856     \n",
            "                                                                 \n",
            " block2_conv2 (Conv2D)       (None, 112, 112, 128)     147584    \n",
            "                                                                 \n",
            " block2_pool (MaxPooling2D)  (None, 56, 56, 128)       0         \n",
            "                                                                 \n",
            " block3_conv1 (Conv2D)       (None, 56, 56, 256)       295168    \n",
            "                                                                 \n",
            " block3_conv2 (Conv2D)       (None, 56, 56, 256)       590080    \n",
            "                                                                 \n",
            " block3_conv3 (Conv2D)       (None, 56, 56, 256)       590080    \n",
            "                                                                 \n",
            " block3_pool (MaxPooling2D)  (None, 28, 28, 256)       0         \n",
            "                                                                 \n",
            " block4_conv1 (Conv2D)       (None, 28, 28, 512)       1180160   \n",
            "                                                                 \n",
            " block4_conv2 (Conv2D)       (None, 28, 28, 512)       2359808   \n",
            "                                                                 \n",
            " block4_conv3 (Conv2D)       (None, 28, 28, 512)       2359808   \n",
            "                                                                 \n",
            " block4_pool (MaxPooling2D)  (None, 14, 14, 512)       0         \n",
            "                                                                 \n",
            " block5_conv1 (Conv2D)       (None, 14, 14, 512)       2359808   \n",
            "                                                                 \n",
            " block5_conv2 (Conv2D)       (None, 14, 14, 512)       2359808   \n",
            "                                                                 \n",
            " block5_conv3 (Conv2D)       (None, 14, 14, 512)       2359808   \n",
            "                                                                 \n",
            " block5_pool (MaxPooling2D)  (None, 7, 7, 512)         0         \n",
            "                                                                 \n",
            " average_pooling2d (AverageP  (None, 1, 1, 512)        0         \n",
            " ooling2D)                                                       \n",
            "                                                                 \n",
            " flatten (Flatten)           (None, 512)               0         \n",
            "                                                                 \n",
            " dense (Dense)               (None, 128)               65664     \n"
          ]
        },
        {
          "name": "stdout",
          "output_type": "stream",
          "text": [
            "                                                                 \n",
            " dropout (Dropout)           (None, 128)               0         \n",
            "                                                                 \n",
            " dense_1 (Dense)             (None, 2)                 258       \n",
            "                                                                 \n",
            "=================================================================\n",
            "Total params: 14,780,610\n",
            "Trainable params: 65,922\n",
            "Non-trainable params: 14,714,688\n",
            "_________________________________________________________________\n"
          ]
        }
      ],
      "source": [
        "# Membentuk bagian head dari model yang akan ditempatkan pada base model\n",
        "headModel = baseModel.output\n",
        "headModel = AveragePooling2D(pool_size=(7, 7))(headModel)\n",
        "headModel = Flatten(name=\"flatten\")(headModel)\n",
        "headModel = Dense(128, activation=\"relu\")(headModel)\n",
        "headModel = Dropout(0.5)(headModel)\n",
        "headModel = Dense(2, activation=\"softmax\")(headModel)\n",
        " \n",
        "# Menempatkan head model pada base model\n",
        "model = Model(inputs=baseModel.input, outputs=headModel)\n",
        "model.summary()\n",
        "\n"
      ]
    },
    {
      "cell_type": "code",
      "execution_count": 7,
      "metadata": {
        "colab": {
          "base_uri": "https://localhost:8080/"
        },
        "id": "WXEyXB5NTU13",
        "outputId": "c5f827c0-3a25-4e98-8b38-2d9a88076619"
      },
      "outputs": [
        {
          "name": "stdout",
          "output_type": "stream",
          "text": [
            "Mengkompilasi model...\n",
            "fold 1\n",
            "Training head model...\n",
            "Epoch 1/30\n",
            "40/40 [==============================] - 37s 519ms/step - loss: 0.6776 - accuracy: 0.6148 - val_loss: 0.6138 - val_accuracy: 0.9219\n",
            "Epoch 2/30\n",
            "40/40 [==============================] - 19s 472ms/step - loss: 0.6052 - accuracy: 0.7383 - val_loss: 0.5519 - val_accuracy: 0.9563\n",
            "Epoch 3/30\n",
            "40/40 [==============================] - 22s 541ms/step - loss: 0.5637 - accuracy: 0.7852 - val_loss: 0.4976 - val_accuracy: 0.9625\n",
            "Epoch 4/30\n",
            "40/40 [==============================] - 20s 506ms/step - loss: 0.4954 - accuracy: 0.8711 - val_loss: 0.4492 - val_accuracy: 0.9656\n",
            "Epoch 5/30\n",
            "40/40 [==============================] - 20s 496ms/step - loss: 0.4504 - accuracy: 0.9039 - val_loss: 0.4027 - val_accuracy: 0.9656\n",
            "Epoch 6/30\n",
            "40/40 [==============================] - 20s 504ms/step - loss: 0.4070 - accuracy: 0.9359 - val_loss: 0.3574 - val_accuracy: 0.9656\n",
            "Epoch 7/30\n",
            "40/40 [==============================] - 19s 473ms/step - loss: 0.3708 - accuracy: 0.9352 - val_loss: 0.3252 - val_accuracy: 0.9656\n",
            "Epoch 8/30\n",
            "40/40 [==============================] - 21s 524ms/step - loss: 0.3313 - accuracy: 0.9477 - val_loss: 0.2898 - val_accuracy: 0.9656\n",
            "Epoch 9/30\n",
            "40/40 [==============================] - 19s 473ms/step - loss: 0.3038 - accuracy: 0.9516 - val_loss: 0.2639 - val_accuracy: 0.9656\n",
            "Epoch 10/30\n",
            "40/40 [==============================] - 19s 483ms/step - loss: 0.2789 - accuracy: 0.9586 - val_loss: 0.2391 - val_accuracy: 0.9656\n",
            "Epoch 11/30\n",
            "40/40 [==============================] - 21s 522ms/step - loss: 0.2626 - accuracy: 0.9539 - val_loss: 0.2201 - val_accuracy: 0.9656\n",
            "Epoch 12/30\n",
            "40/40 [==============================] - 21s 505ms/step - loss: 0.2322 - accuracy: 0.9672 - val_loss: 0.2044 - val_accuracy: 0.9656\n",
            "Epoch 13/30\n",
            "40/40 [==============================] - 19s 470ms/step - loss: 0.2175 - accuracy: 0.9641 - val_loss: 0.1858 - val_accuracy: 0.9656\n",
            "Epoch 14/30\n",
            "40/40 [==============================] - 18s 455ms/step - loss: 0.2115 - accuracy: 0.9625 - val_loss: 0.1748 - val_accuracy: 0.9656\n",
            "Epoch 15/30\n",
            "40/40 [==============================] - 19s 465ms/step - loss: 0.1893 - accuracy: 0.9742 - val_loss: 0.1666 - val_accuracy: 0.9688\n",
            "Epoch 16/30\n",
            "40/40 [==============================] - 21s 531ms/step - loss: 0.1790 - accuracy: 0.9711 - val_loss: 0.1544 - val_accuracy: 0.9656\n",
            "Epoch 17/30\n",
            "40/40 [==============================] - 19s 483ms/step - loss: 0.1703 - accuracy: 0.9688 - val_loss: 0.1447 - val_accuracy: 0.9656\n",
            "Epoch 18/30\n",
            "40/40 [==============================] - 19s 467ms/step - loss: 0.1577 - accuracy: 0.9766 - val_loss: 0.1376 - val_accuracy: 0.9656\n",
            "Epoch 19/30\n",
            "40/40 [==============================] - 21s 526ms/step - loss: 0.1539 - accuracy: 0.9727 - val_loss: 0.1306 - val_accuracy: 0.9688\n",
            "Epoch 20/30\n",
            "40/40 [==============================] - 20s 506ms/step - loss: 0.1483 - accuracy: 0.9695 - val_loss: 0.1292 - val_accuracy: 0.9688\n",
            "Epoch 21/30\n",
            "40/40 [==============================] - 20s 501ms/step - loss: 0.1379 - accuracy: 0.9727 - val_loss: 0.1181 - val_accuracy: 0.9688\n",
            "Epoch 22/30\n",
            "40/40 [==============================] - 22s 542ms/step - loss: 0.1290 - accuracy: 0.9758 - val_loss: 0.1162 - val_accuracy: 0.9719\n",
            "Epoch 23/30\n",
            "40/40 [==============================] - 21s 519ms/step - loss: 0.1171 - accuracy: 0.9812 - val_loss: 0.1108 - val_accuracy: 0.9688\n",
            "Epoch 24/30\n",
            "40/40 [==============================] - 20s 486ms/step - loss: 0.1210 - accuracy: 0.9750 - val_loss: 0.1095 - val_accuracy: 0.9719\n",
            "Epoch 25/30\n",
            "40/40 [==============================] - 19s 460ms/step - loss: 0.1176 - accuracy: 0.9727 - val_loss: 0.1006 - val_accuracy: 0.9688\n",
            "Epoch 26/30\n",
            "40/40 [==============================] - 19s 463ms/step - loss: 0.1164 - accuracy: 0.9750 - val_loss: 0.1042 - val_accuracy: 0.9688\n",
            "Epoch 27/30\n",
            "40/40 [==============================] - 23s 578ms/step - loss: 0.1015 - accuracy: 0.9789 - val_loss: 0.0962 - val_accuracy: 0.9688\n",
            "Epoch 28/30\n",
            "40/40 [==============================] - 26s 638ms/step - loss: 0.0951 - accuracy: 0.9828 - val_loss: 0.0957 - val_accuracy: 0.9688\n",
            "Epoch 29/30\n",
            "40/40 [==============================] - 25s 627ms/step - loss: 0.1011 - accuracy: 0.9719 - val_loss: 0.0927 - val_accuracy: 0.9719\n",
            "Epoch 30/30\n",
            "40/40 [==============================] - 21s 528ms/step - loss: 0.0993 - accuracy: 0.9789 - val_loss: 0.0920 - val_accuracy: 0.9688\n",
            "Mengkompilasi model...\n",
            "fold 2\n",
            "Training head model...\n",
            "Epoch 1/30\n",
            "40/40 [==============================] - 24s 559ms/step - loss: 0.1001 - accuracy: 0.9766 - val_loss: 0.0817 - val_accuracy: 0.9656\n",
            "Epoch 2/30\n",
            "40/40 [==============================] - 21s 526ms/step - loss: 0.0916 - accuracy: 0.9773 - val_loss: 0.0643 - val_accuracy: 0.9812\n",
            "Epoch 3/30\n",
            "40/40 [==============================] - 24s 587ms/step - loss: 0.0849 - accuracy: 0.9836 - val_loss: 0.0671 - val_accuracy: 0.9812\n",
            "Epoch 4/30\n",
            "40/40 [==============================] - 19s 467ms/step - loss: 0.0860 - accuracy: 0.9789 - val_loss: 0.0675 - val_accuracy: 0.9812\n",
            "Epoch 5/30\n",
            "40/40 [==============================] - 19s 478ms/step - loss: 0.0802 - accuracy: 0.9797 - val_loss: 0.0611 - val_accuracy: 0.9812\n",
            "Epoch 6/30\n",
            "40/40 [==============================] - 25s 619ms/step - loss: 0.0805 - accuracy: 0.9805 - val_loss: 0.0642 - val_accuracy: 0.9812\n",
            "Epoch 7/30\n",
            "40/40 [==============================] - 21s 515ms/step - loss: 0.0768 - accuracy: 0.9805 - val_loss: 0.0614 - val_accuracy: 0.9812\n",
            "Epoch 8/30\n",
            "40/40 [==============================] - 20s 499ms/step - loss: 0.0746 - accuracy: 0.9828 - val_loss: 0.0576 - val_accuracy: 0.9812\n",
            "Epoch 9/30\n",
            "40/40 [==============================] - 20s 487ms/step - loss: 0.0798 - accuracy: 0.9742 - val_loss: 0.0607 - val_accuracy: 0.9812\n",
            "Epoch 10/30\n",
            "40/40 [==============================] - 21s 512ms/step - loss: 0.0744 - accuracy: 0.9797 - val_loss: 0.0521 - val_accuracy: 0.9844\n",
            "Epoch 11/30\n",
            "40/40 [==============================] - 19s 477ms/step - loss: 0.0732 - accuracy: 0.9781 - val_loss: 0.0580 - val_accuracy: 0.9812\n",
            "Epoch 12/30\n",
            "40/40 [==============================] - 19s 469ms/step - loss: 0.0709 - accuracy: 0.9828 - val_loss: 0.0480 - val_accuracy: 0.9844\n",
            "Epoch 13/30\n",
            "40/40 [==============================] - 21s 515ms/step - loss: 0.0673 - accuracy: 0.9781 - val_loss: 0.0518 - val_accuracy: 0.9812\n",
            "Epoch 14/30\n",
            "40/40 [==============================] - 20s 487ms/step - loss: 0.0656 - accuracy: 0.9828 - val_loss: 0.0509 - val_accuracy: 0.9844\n",
            "Epoch 15/30\n",
            "40/40 [==============================] - 21s 512ms/step - loss: 0.0721 - accuracy: 0.9836 - val_loss: 0.0525 - val_accuracy: 0.9812\n",
            "Epoch 16/30\n",
            "40/40 [==============================] - 21s 520ms/step - loss: 0.0612 - accuracy: 0.9797 - val_loss: 0.0489 - val_accuracy: 0.9844\n",
            "Epoch 17/30\n",
            "40/40 [==============================] - 23s 566ms/step - loss: 0.0687 - accuracy: 0.9820 - val_loss: 0.0500 - val_accuracy: 0.9812\n",
            "Epoch 18/30\n",
            "40/40 [==============================] - 20s 502ms/step - loss: 0.0645 - accuracy: 0.9828 - val_loss: 0.0444 - val_accuracy: 0.9844\n",
            "Epoch 19/30\n",
            "40/40 [==============================] - 20s 487ms/step - loss: 0.0562 - accuracy: 0.9828 - val_loss: 0.0505 - val_accuracy: 0.9812\n",
            "Epoch 20/30\n",
            "40/40 [==============================] - 20s 506ms/step - loss: 0.0697 - accuracy: 0.9797 - val_loss: 0.0462 - val_accuracy: 0.9844\n",
            "Epoch 21/30\n",
            "40/40 [==============================] - 20s 488ms/step - loss: 0.0562 - accuracy: 0.9820 - val_loss: 0.0440 - val_accuracy: 0.9844\n",
            "Epoch 22/30\n",
            "40/40 [==============================] - 19s 471ms/step - loss: 0.0614 - accuracy: 0.9812 - val_loss: 0.0453 - val_accuracy: 0.9844\n",
            "Epoch 23/30\n",
            "40/40 [==============================] - 21s 528ms/step - loss: 0.0644 - accuracy: 0.9781 - val_loss: 0.0481 - val_accuracy: 0.9812\n",
            "Epoch 24/30\n",
            "40/40 [==============================] - 23s 580ms/step - loss: 0.0640 - accuracy: 0.9758 - val_loss: 0.0469 - val_accuracy: 0.9812\n",
            "Epoch 25/30\n",
            "40/40 [==============================] - 22s 542ms/step - loss: 0.0598 - accuracy: 0.9812 - val_loss: 0.0471 - val_accuracy: 0.9812\n",
            "Epoch 26/30\n",
            "40/40 [==============================] - 22s 551ms/step - loss: 0.0555 - accuracy: 0.9859 - val_loss: 0.0456 - val_accuracy: 0.9844\n",
            "Epoch 27/30\n",
            "40/40 [==============================] - 24s 609ms/step - loss: 0.0608 - accuracy: 0.9852 - val_loss: 0.0404 - val_accuracy: 0.9844\n",
            "Epoch 28/30\n",
            "40/40 [==============================] - 23s 571ms/step - loss: 0.0595 - accuracy: 0.9812 - val_loss: 0.0434 - val_accuracy: 0.9844\n",
            "Epoch 29/30\n",
            "40/40 [==============================] - 25s 611ms/step - loss: 0.0472 - accuracy: 0.9852 - val_loss: 0.0415 - val_accuracy: 0.9844\n",
            "Epoch 30/30\n",
            "40/40 [==============================] - 22s 545ms/step - loss: 0.0555 - accuracy: 0.9852 - val_loss: 0.0443 - val_accuracy: 0.9844\n",
            "Mengkompilasi model...\n",
            "fold 3\n",
            "Training head model...\n",
            "Epoch 1/30\n",
            "40/40 [==============================] - 22s 516ms/step - loss: 0.0575 - accuracy: 0.9812 - val_loss: 0.0243 - val_accuracy: 0.9906\n",
            "Epoch 2/30\n",
            "40/40 [==============================] - 22s 556ms/step - loss: 0.0627 - accuracy: 0.9805 - val_loss: 0.0238 - val_accuracy: 0.9906\n",
            "Epoch 3/30\n",
            "40/40 [==============================] - 25s 610ms/step - loss: 0.0586 - accuracy: 0.9797 - val_loss: 0.0228 - val_accuracy: 0.9906\n",
            "Epoch 4/30\n",
            "40/40 [==============================] - 24s 605ms/step - loss: 0.0499 - accuracy: 0.9852 - val_loss: 0.0247 - val_accuracy: 0.9906\n",
            "Epoch 5/30\n",
            "40/40 [==============================] - 22s 552ms/step - loss: 0.0579 - accuracy: 0.9797 - val_loss: 0.0242 - val_accuracy: 0.9906\n",
            "Epoch 6/30\n",
            "40/40 [==============================] - 22s 548ms/step - loss: 0.0678 - accuracy: 0.9797 - val_loss: 0.0209 - val_accuracy: 0.9906\n",
            "Epoch 7/30\n",
            "40/40 [==============================] - 26s 642ms/step - loss: 0.0523 - accuracy: 0.9836 - val_loss: 0.0230 - val_accuracy: 0.9906\n",
            "Epoch 8/30\n",
            "40/40 [==============================] - 22s 555ms/step - loss: 0.0515 - accuracy: 0.9875 - val_loss: 0.0214 - val_accuracy: 0.9906\n",
            "Epoch 9/30\n",
            "40/40 [==============================] - 22s 556ms/step - loss: 0.0464 - accuracy: 0.9906 - val_loss: 0.0216 - val_accuracy: 0.9906\n",
            "Epoch 10/30\n",
            "40/40 [==============================] - 28s 689ms/step - loss: 0.0498 - accuracy: 0.9867 - val_loss: 0.0235 - val_accuracy: 0.9906\n",
            "Epoch 11/30\n",
            "40/40 [==============================] - 30s 735ms/step - loss: 0.0464 - accuracy: 0.9844 - val_loss: 0.0206 - val_accuracy: 0.9906\n",
            "Epoch 12/30\n",
            "40/40 [==============================] - 25s 605ms/step - loss: 0.0480 - accuracy: 0.9859 - val_loss: 0.0215 - val_accuracy: 0.9906\n",
            "Epoch 13/30\n",
            "40/40 [==============================] - 21s 509ms/step - loss: 0.0474 - accuracy: 0.9875 - val_loss: 0.0211 - val_accuracy: 0.9906\n",
            "Epoch 14/30\n",
            "40/40 [==============================] - 23s 561ms/step - loss: 0.0459 - accuracy: 0.9852 - val_loss: 0.0186 - val_accuracy: 0.9906\n",
            "Epoch 15/30\n",
            "40/40 [==============================] - 23s 577ms/step - loss: 0.0427 - accuracy: 0.9852 - val_loss: 0.0203 - val_accuracy: 0.9906\n",
            "Epoch 16/30\n",
            "40/40 [==============================] - 21s 510ms/step - loss: 0.0470 - accuracy: 0.9859 - val_loss: 0.0218 - val_accuracy: 0.9906\n",
            "Epoch 17/30\n",
            "40/40 [==============================] - 20s 498ms/step - loss: 0.0399 - accuracy: 0.9891 - val_loss: 0.0182 - val_accuracy: 0.9906\n",
            "Epoch 18/30\n",
            "40/40 [==============================] - 20s 500ms/step - loss: 0.0496 - accuracy: 0.9859 - val_loss: 0.0175 - val_accuracy: 0.9906\n",
            "Epoch 19/30\n",
            "40/40 [==============================] - 26s 639ms/step - loss: 0.0454 - accuracy: 0.9891 - val_loss: 0.0195 - val_accuracy: 0.9906\n",
            "Epoch 20/30\n",
            "40/40 [==============================] - 22s 543ms/step - loss: 0.0430 - accuracy: 0.9867 - val_loss: 0.0191 - val_accuracy: 0.9906\n",
            "Epoch 21/30\n",
            "40/40 [==============================] - 26s 645ms/step - loss: 0.0551 - accuracy: 0.9797 - val_loss: 0.0202 - val_accuracy: 0.9906\n",
            "Epoch 22/30\n",
            "40/40 [==============================] - 22s 545ms/step - loss: 0.0446 - accuracy: 0.9859 - val_loss: 0.0200 - val_accuracy: 0.9906\n",
            "Epoch 23/30\n",
            "40/40 [==============================] - 21s 533ms/step - loss: 0.0453 - accuracy: 0.9883 - val_loss: 0.0206 - val_accuracy: 0.9906\n",
            "Epoch 24/30\n",
            "40/40 [==============================] - 24s 593ms/step - loss: 0.0549 - accuracy: 0.9812 - val_loss: 0.0170 - val_accuracy: 0.9906\n",
            "Epoch 25/30\n",
            "40/40 [==============================] - 22s 536ms/step - loss: 0.0431 - accuracy: 0.9875 - val_loss: 0.0183 - val_accuracy: 0.9906\n",
            "Epoch 26/30\n",
            "40/40 [==============================] - 25s 617ms/step - loss: 0.0478 - accuracy: 0.9859 - val_loss: 0.0180 - val_accuracy: 0.9906\n",
            "Epoch 27/30\n",
            "40/40 [==============================] - 22s 532ms/step - loss: 0.0458 - accuracy: 0.9836 - val_loss: 0.0185 - val_accuracy: 0.9906\n",
            "Epoch 28/30\n",
            "40/40 [==============================] - 22s 535ms/step - loss: 0.0425 - accuracy: 0.9820 - val_loss: 0.0170 - val_accuracy: 0.9906\n",
            "Epoch 29/30\n",
            "40/40 [==============================] - 23s 566ms/step - loss: 0.0439 - accuracy: 0.9852 - val_loss: 0.0165 - val_accuracy: 0.9906\n",
            "Epoch 30/30\n",
            "40/40 [==============================] - 22s 538ms/step - loss: 0.0405 - accuracy: 0.9883 - val_loss: 0.0160 - val_accuracy: 0.9906\n",
            "Mengkompilasi model...\n",
            "fold 4\n",
            "Training head model...\n",
            "Epoch 1/30\n",
            "40/40 [==============================] - 22s 504ms/step - loss: 0.0416 - accuracy: 0.9867 - val_loss: 0.0246 - val_accuracy: 0.9906\n",
            "Epoch 2/30\n",
            "40/40 [==============================] - 20s 504ms/step - loss: 0.0372 - accuracy: 0.9883 - val_loss: 0.0254 - val_accuracy: 0.9906\n",
            "Epoch 3/30\n",
            "40/40 [==============================] - 21s 511ms/step - loss: 0.0349 - accuracy: 0.9875 - val_loss: 0.0248 - val_accuracy: 0.9906\n",
            "Epoch 4/30\n",
            "40/40 [==============================] - 21s 524ms/step - loss: 0.0373 - accuracy: 0.9898 - val_loss: 0.0241 - val_accuracy: 0.9906\n",
            "Epoch 5/30\n",
            "40/40 [==============================] - 20s 497ms/step - loss: 0.0431 - accuracy: 0.9891 - val_loss: 0.0247 - val_accuracy: 0.9906\n",
            "Epoch 6/30\n",
            "40/40 [==============================] - 20s 494ms/step - loss: 0.0337 - accuracy: 0.9875 - val_loss: 0.0264 - val_accuracy: 0.9906\n",
            "Epoch 7/30\n",
            "40/40 [==============================] - 23s 568ms/step - loss: 0.0378 - accuracy: 0.9914 - val_loss: 0.0258 - val_accuracy: 0.9906\n",
            "Epoch 8/30\n",
            "40/40 [==============================] - 31s 757ms/step - loss: 0.0403 - accuracy: 0.9844 - val_loss: 0.0259 - val_accuracy: 0.9906\n",
            "Epoch 9/30\n",
            "40/40 [==============================] - 26s 641ms/step - loss: 0.0400 - accuracy: 0.9875 - val_loss: 0.0250 - val_accuracy: 0.9906\n",
            "Epoch 10/30\n",
            "40/40 [==============================] - 24s 580ms/step - loss: 0.0317 - accuracy: 0.9922 - val_loss: 0.0258 - val_accuracy: 0.9906\n",
            "Epoch 11/30\n",
            "40/40 [==============================] - 26s 643ms/step - loss: 0.0359 - accuracy: 0.9891 - val_loss: 0.0261 - val_accuracy: 0.9906\n",
            "Epoch 12/30\n",
            "40/40 [==============================] - 24s 596ms/step - loss: 0.0352 - accuracy: 0.9852 - val_loss: 0.0262 - val_accuracy: 0.9906\n",
            "Epoch 13/30\n",
            "40/40 [==============================] - 25s 612ms/step - loss: 0.0333 - accuracy: 0.9906 - val_loss: 0.0259 - val_accuracy: 0.9906\n",
            "Epoch 14/30\n",
            "40/40 [==============================] - 23s 583ms/step - loss: 0.0378 - accuracy: 0.9891 - val_loss: 0.0257 - val_accuracy: 0.9906\n",
            "Epoch 15/30\n",
            "40/40 [==============================] - 22s 553ms/step - loss: 0.0297 - accuracy: 0.9922 - val_loss: 0.0242 - val_accuracy: 0.9906\n",
            "Epoch 16/30\n",
            "40/40 [==============================] - 22s 550ms/step - loss: 0.0321 - accuracy: 0.9898 - val_loss: 0.0241 - val_accuracy: 0.9906\n",
            "Epoch 17/30\n",
            "40/40 [==============================] - 21s 513ms/step - loss: 0.0329 - accuracy: 0.9898 - val_loss: 0.0261 - val_accuracy: 0.9906\n",
            "Epoch 18/30\n",
            "40/40 [==============================] - 26s 628ms/step - loss: 0.0308 - accuracy: 0.9891 - val_loss: 0.0251 - val_accuracy: 0.9906\n",
            "Epoch 19/30\n",
            "40/40 [==============================] - 20s 501ms/step - loss: 0.0345 - accuracy: 0.9883 - val_loss: 0.0244 - val_accuracy: 0.9906\n",
            "Epoch 20/30\n",
            "40/40 [==============================] - 22s 539ms/step - loss: 0.0281 - accuracy: 0.9930 - val_loss: 0.0267 - val_accuracy: 0.9906\n",
            "Epoch 21/30\n",
            "40/40 [==============================] - 25s 619ms/step - loss: 0.0326 - accuracy: 0.9859 - val_loss: 0.0252 - val_accuracy: 0.9906\n",
            "Epoch 22/30\n",
            "40/40 [==============================] - 22s 545ms/step - loss: 0.0291 - accuracy: 0.9922 - val_loss: 0.0250 - val_accuracy: 0.9906\n",
            "Epoch 23/30\n",
            "40/40 [==============================] - 21s 509ms/step - loss: 0.0338 - accuracy: 0.9883 - val_loss: 0.0278 - val_accuracy: 0.9937\n",
            "Epoch 24/30\n",
            "40/40 [==============================] - 21s 522ms/step - loss: 0.0287 - accuracy: 0.9898 - val_loss: 0.0259 - val_accuracy: 0.9906\n",
            "Epoch 25/30\n",
            "40/40 [==============================] - 23s 572ms/step - loss: 0.0274 - accuracy: 0.9906 - val_loss: 0.0269 - val_accuracy: 0.9906\n",
            "Epoch 26/30\n",
            "40/40 [==============================] - 23s 572ms/step - loss: 0.0337 - accuracy: 0.9883 - val_loss: 0.0254 - val_accuracy: 0.9906\n",
            "Epoch 27/30\n",
            "40/40 [==============================] - 25s 617ms/step - loss: 0.0329 - accuracy: 0.9914 - val_loss: 0.0269 - val_accuracy: 0.9906\n",
            "Epoch 28/30\n",
            "40/40 [==============================] - 22s 534ms/step - loss: 0.0311 - accuracy: 0.9898 - val_loss: 0.0267 - val_accuracy: 0.9906\n",
            "Epoch 29/30\n",
            "40/40 [==============================] - 21s 529ms/step - loss: 0.0435 - accuracy: 0.9867 - val_loss: 0.0257 - val_accuracy: 0.9906\n",
            "Epoch 30/30\n",
            "40/40 [==============================] - 22s 559ms/step - loss: 0.0303 - accuracy: 0.9914 - val_loss: 0.0256 - val_accuracy: 0.9906\n",
            "Mengkompilasi model...\n",
            "fold 5\n",
            "Training head model...\n",
            "Epoch 1/30\n",
            "40/40 [==============================] - 22s 502ms/step - loss: 0.0362 - accuracy: 0.9867 - val_loss: 0.0114 - val_accuracy: 0.9937\n",
            "Epoch 2/30\n",
            "40/40 [==============================] - 20s 489ms/step - loss: 0.0317 - accuracy: 0.9914 - val_loss: 0.0115 - val_accuracy: 0.9937\n",
            "Epoch 3/30\n",
            "40/40 [==============================] - 19s 474ms/step - loss: 0.0348 - accuracy: 0.9883 - val_loss: 0.0132 - val_accuracy: 0.9937\n",
            "Epoch 4/30\n",
            "40/40 [==============================] - 23s 575ms/step - loss: 0.0367 - accuracy: 0.9875 - val_loss: 0.0119 - val_accuracy: 0.9937\n",
            "Epoch 5/30\n",
            "40/40 [==============================] - 24s 591ms/step - loss: 0.0314 - accuracy: 0.9891 - val_loss: 0.0113 - val_accuracy: 0.9937\n",
            "Epoch 6/30\n",
            "40/40 [==============================] - 23s 562ms/step - loss: 0.0322 - accuracy: 0.9898 - val_loss: 0.0123 - val_accuracy: 0.9937\n",
            "Epoch 7/30\n",
            "40/40 [==============================] - 21s 514ms/step - loss: 0.0426 - accuracy: 0.9805 - val_loss: 0.0117 - val_accuracy: 0.9937\n",
            "Epoch 8/30\n",
            "40/40 [==============================] - 20s 499ms/step - loss: 0.0372 - accuracy: 0.9867 - val_loss: 0.0116 - val_accuracy: 0.9937\n",
            "Epoch 9/30\n",
            "40/40 [==============================] - 21s 528ms/step - loss: 0.0314 - accuracy: 0.9891 - val_loss: 0.0117 - val_accuracy: 0.9937\n",
            "Epoch 10/30\n",
            "40/40 [==============================] - 19s 473ms/step - loss: 0.0368 - accuracy: 0.9883 - val_loss: 0.0120 - val_accuracy: 0.9937\n",
            "Epoch 11/30\n",
            "40/40 [==============================] - 19s 471ms/step - loss: 0.0365 - accuracy: 0.9852 - val_loss: 0.0121 - val_accuracy: 0.9937\n",
            "Epoch 12/30\n",
            "40/40 [==============================] - 19s 472ms/step - loss: 0.0376 - accuracy: 0.9859 - val_loss: 0.0122 - val_accuracy: 0.9937\n",
            "Epoch 13/30\n",
            "40/40 [==============================] - 19s 468ms/step - loss: 0.0285 - accuracy: 0.9906 - val_loss: 0.0115 - val_accuracy: 0.9937\n",
            "Epoch 14/30\n",
            "40/40 [==============================] - 19s 472ms/step - loss: 0.0295 - accuracy: 0.9906 - val_loss: 0.0120 - val_accuracy: 0.9937\n",
            "Epoch 15/30\n",
            "40/40 [==============================] - 20s 487ms/step - loss: 0.0282 - accuracy: 0.9891 - val_loss: 0.0112 - val_accuracy: 0.9937\n",
            "Epoch 16/30\n",
            "40/40 [==============================] - 19s 475ms/step - loss: 0.0312 - accuracy: 0.9891 - val_loss: 0.0118 - val_accuracy: 0.9937\n",
            "Epoch 17/30\n",
            "40/40 [==============================] - 19s 473ms/step - loss: 0.0346 - accuracy: 0.9891 - val_loss: 0.0122 - val_accuracy: 0.9937\n",
            "Epoch 18/30\n",
            "40/40 [==============================] - 19s 479ms/step - loss: 0.0359 - accuracy: 0.9867 - val_loss: 0.0119 - val_accuracy: 0.9937\n",
            "Epoch 19/30\n",
            "40/40 [==============================] - 19s 466ms/step - loss: 0.0278 - accuracy: 0.9906 - val_loss: 0.0112 - val_accuracy: 0.9937\n",
            "Epoch 20/30\n",
            "40/40 [==============================] - 19s 462ms/step - loss: 0.0351 - accuracy: 0.9883 - val_loss: 0.0122 - val_accuracy: 0.9937\n",
            "Epoch 21/30\n",
            "40/40 [==============================] - 21s 533ms/step - loss: 0.0316 - accuracy: 0.9875 - val_loss: 0.0121 - val_accuracy: 0.9937\n",
            "Epoch 22/30\n",
            "40/40 [==============================] - 21s 534ms/step - loss: 0.0317 - accuracy: 0.9875 - val_loss: 0.0113 - val_accuracy: 0.9937\n",
            "Epoch 23/30\n",
            "40/40 [==============================] - 19s 470ms/step - loss: 0.0294 - accuracy: 0.9930 - val_loss: 0.0117 - val_accuracy: 0.9937\n",
            "Epoch 24/30\n",
            "40/40 [==============================] - 19s 465ms/step - loss: 0.0251 - accuracy: 0.9937 - val_loss: 0.0114 - val_accuracy: 0.9937\n",
            "Epoch 25/30\n",
            "40/40 [==============================] - 19s 463ms/step - loss: 0.0305 - accuracy: 0.9891 - val_loss: 0.0113 - val_accuracy: 0.9937\n",
            "Epoch 26/30\n",
            "40/40 [==============================] - 20s 492ms/step - loss: 0.0294 - accuracy: 0.9922 - val_loss: 0.0107 - val_accuracy: 0.9969\n",
            "Epoch 27/30\n",
            "40/40 [==============================] - 20s 486ms/step - loss: 0.0310 - accuracy: 0.9906 - val_loss: 0.0117 - val_accuracy: 0.9937\n",
            "Epoch 28/30\n",
            "40/40 [==============================] - 19s 483ms/step - loss: 0.0294 - accuracy: 0.9891 - val_loss: 0.0110 - val_accuracy: 0.9937\n",
            "Epoch 29/30\n",
            "40/40 [==============================] - 20s 485ms/step - loss: 0.0224 - accuracy: 0.9930 - val_loss: 0.0118 - val_accuracy: 0.9937\n",
            "Epoch 30/30\n",
            "40/40 [==============================] - 19s 474ms/step - loss: 0.0284 - accuracy: 0.9883 - val_loss: 0.0101 - val_accuracy: 0.9969\n"
          ]
        }
      ],
      "source": [
        "from sklearn.model_selection import KFold\n",
        "kf = KFold(n_splits=5, shuffle =True)\n",
        "\n",
        "(train_data, test_data, train_labels, test_labels) = train_test_split(data, labels,\n",
        "    test_size=0.20, stratify=labels, random_state=42)\n",
        "\n",
        "\n",
        "\n",
        "\n",
        "fold_accuracies = []\n",
        " \n",
        "# Perulangan pada seluruh base model\n",
        "fold = 1\n",
        "for train_index, test_index in kf.split(data):\n",
        "  print(\"Mengkompilasi model...\")\n",
        "  print(\"fold\", fold)\n",
        " \n",
        " \n",
        " \n",
        "  train_data, train_labels = data[train_index], labels[train_index]\n",
        "  test_data, test_labels = data[test_index], labels[test_index]\n",
        "  \n",
        "  \n",
        "  opt = tf.keras.optimizers.legacy.Adam(learning_rate=INIT_LR, decay=INIT_LR / EPOCHS)\n",
        "  \n",
        "  model.compile(loss=\"binary_crossentropy\", optimizer=opt,\n",
        "    metrics=[\"accuracy\"])\n",
        "  #model.summary()\n",
        "\n",
        "  print(\"Training head model...\")\n",
        "\n",
        "  H = model.fit(\n",
        "    aug.flow(train_data, train_labels, batch_size=BS),\n",
        "    steps_per_epoch=len(train_data) // BS,\n",
        "    validation_data=(test_data, test_labels),\n",
        "    validation_steps=len(test_data) // BS,\n",
        "    epochs=EPOCHS)\n",
        "  \n",
        "\n",
        "  loss, accuracy = model.evaluate(test_data, test_labels, verbose = 0)\n",
        "  \n",
        "  fold_accuracies.append(accuracy)\n",
        "\n",
        "  fold+=1\n",
        "\n"
      ]
    },
    {
      "attachments": {},
      "cell_type": "markdown",
      "metadata": {
        "id": "lH42Hp3UWrPs"
      },
      "source": [
        "### Melakukan Pelatihan Model\n"
      ]
    },
    {
      "cell_type": "code",
      "execution_count": 8,
      "metadata": {},
      "outputs": [
        {
          "data": {
            "image/png": "[encoded data removed]",
            "text/plain": [
              "<Figure size 700x400 with 1 Axes>"
            ]
          },
          "metadata": {},
          "output_type": "display_data"
        }
      ],
      "source": [
        "plt.figure(figsize=(7, 4))\n",
        "plt.plot(range(1, len(fold_accuracies) + 1), fold_accuracies, marker='o')\n",
        "plt.xlabel('Fold')\n",
        "plt.ylabel('Accuracy')\n",
        "plt.title('Accuracy per Fold - K-Fold Cross Validation')\n",
        "plt.xticks(range(1, len(fold_accuracies) + 1))\n",
        "plt.grid(True)\n",
        "plt.show()"
      ]
    },
    {
      "cell_type": "code",
      "execution_count": 9,
      "metadata": {},
      "outputs": [
        {
          "name": "stdout",
          "output_type": "stream",
          "text": [
            "Fold 1: Accuracy = 0.9688\n",
            "Fold 2: Accuracy = 0.9844\n",
            "Fold 3: Accuracy = 0.9906\n",
            "Fold 4: Accuracy = 0.9906\n",
            "Fold 5: Accuracy = 0.9969\n"
          ]
        }
      ],
      "source": [
        "for fold, accuracy in enumerate(fold_accuracies, start=1):\n",
        "    print(f\"Fold {fold}: Accuracy = {accuracy:.4f}\")"
      ]
    },
    {
      "attachments": {},
      "cell_type": "markdown",
      "metadata": {
        "id": "MxqTwaGi7Wzs"
      },
      "source": [
        "## Menampilkan Grafik Model Hasil Pelatihan\n"
      ]
    },
    {
      "attachments": {},
      "cell_type": "markdown",
      "metadata": {
        "id": "3Mqe8nNB7lp8"
      },
      "source": [
        "## Evaluasi Jaringan\n"
      ]
    },
    {
      "cell_type": "code",
      "execution_count": 10,
      "metadata": {
        "colab": {
          "base_uri": "https://localhost:8080/"
        },
        "id": "HLxROO1pg7Em",
        "outputId": "a1c09ec8-8171-4997-ad03-415a0327d317"
      },
      "outputs": [
        {
          "name": "stdout",
          "output_type": "stream",
          "text": [
            "Average Accuracy: 0.9863\n",
            "Standard Deviation of Accuracy: 0.0096\n",
            "Best Fold: 5 with Accuracy = 0.9969\n",
            "Worst Fold: 1 with Accuracy = 0.9688\n"
          ]
        },
        {
          "data": {
            "image/png": "[encoded data removed]",
            "text/plain": [
              "<Figure size 700x400 with 1 Axes>"
            ]
          },
          "metadata": {},
          "output_type": "display_data"
        }
      ],
      "source": [
        "average_accuracy = np.mean(fold_accuracies)\n",
        "print(f\"Average Accuracy: {average_accuracy:.4f}\")\n",
        "\n",
        "# Standard deviation of accuracy across all folds\n",
        "std_accuracy = np.std(fold_accuracies)\n",
        "print(f\"Standard Deviation of Accuracy: {std_accuracy:.4f}\")\n",
        "\n",
        "# Find the best and worst fold\n",
        "best_fold = np.argmax(fold_accuracies)\n",
        "worst_fold = np.argmin(fold_accuracies)\n",
        "\n",
        "print(f\"Best Fold: {best_fold + 1} with Accuracy = {fold_accuracies[best_fold]:.4f}\")\n",
        "print(f\"Worst Fold: {worst_fold + 1} with Accuracy = {fold_accuracies[worst_fold]:.4f}\")\n",
        "\n",
        "# Plot the accuracy per fold\n",
        "plt.figure(figsize=(7, 4))\n",
        "plt.plot(range(1, len(fold_accuracies) + 1), fold_accuracies, marker='o')\n",
        "plt.xlabel('Fold')\n",
        "plt.ylabel('Accuracy')\n",
        "plt.title('Accuracy per Fold - K-Fold Cross Validation')\n",
        "plt.xticks(range(1, len(fold_accuracies) + 1))\n",
        "plt.grid(True)\n",
        "plt.show()"
      ]
    },
    {
      "attachments": {},
      "cell_type": "markdown",
      "metadata": {
        "id": "yl0Y-D41imCP"
      },
      "source": [
        "## Confusion Matrix\n"
      ]
    },
    {
      "cell_type": "code",
      "execution_count": 25,
      "metadata": {
        "colab": {
          "base_uri": "https://localhost:8080/"
        },
        "id": "YxoC6xxjaCrf",
        "outputId": "789d26ad-0fe5-42b4-b099-84c5631bd977"
      },
      "outputs": [
        {
          "ename": "NameError",
          "evalue": "name 'yPred' is not defined",
          "output_type": "error",
          "traceback": [
            "\u001b[1;31m---------------------------------------------------------------------------\u001b[0m",
            "\u001b[1;31mNameError\u001b[0m                                 Traceback (most recent call last)",
            "Cell \u001b[1;32mIn[25], line 1\u001b[0m\n\u001b[1;32m----> 1\u001b[0m conf \u001b[39m=\u001b[39m get_confusion_matrix(yTrue, yPred)\n\u001b[0;32m      2\u001b[0m conf\n",
            "\u001b[1;31mNameError\u001b[0m: name 'yPred' is not defined"
          ]
        }
      ],
      "source": [
        "conf = get_confusion_matrix(yTrue, yPred)\n",
        "conf"
      ]
    },
    {
      "cell_type": "code",
      "execution_count": 27,
      "metadata": {
        "colab": {
          "base_uri": "https://localhost:8080/",
          "height": 541
        },
        "id": "Ss9YmprkdirH",
        "outputId": "a46b056d-74e4-4028-c5b4-30566ad16782"
      },
      "outputs": [
        {
          "ename": "NameError",
          "evalue": "name 'conf' is not defined",
          "output_type": "error",
          "traceback": [
            "\u001b[1;31m---------------------------------------------------------------------------\u001b[0m",
            "\u001b[1;31mNameError\u001b[0m                                 Traceback (most recent call last)",
            "Cell \u001b[1;32mIn[27], line 3\u001b[0m\n\u001b[0;32m      1\u001b[0m classes \u001b[39m=\u001b[39m [\u001b[39m0\u001b[39m, \u001b[39m1\u001b[39m]\n\u001b[0;32m      2\u001b[0m \u001b[39m# Plot confusion matrix\u001b[39;00m\n\u001b[1;32m----> 3\u001b[0m plt\u001b[39m.\u001b[39mimshow(conf, interpolation\u001b[39m=\u001b[39m\u001b[39m'\u001b[39m\u001b[39mnearest\u001b[39m\u001b[39m'\u001b[39m, cmap\u001b[39m=\u001b[39mplt\u001b[39m.\u001b[39mcm\u001b[39m.\u001b[39mGreens)\n\u001b[0;32m      4\u001b[0m plt\u001b[39m.\u001b[39mtitle(\u001b[39m\"\u001b[39m\u001b[39mConfusion Matrix\u001b[39m\u001b[39m\"\u001b[39m)\n\u001b[0;32m      5\u001b[0m plt\u001b[39m.\u001b[39mcolorbar()\n",
            "\u001b[1;31mNameError\u001b[0m: name 'conf' is not defined"
          ]
        }
      ],
      "source": [
        "classes = [0, 1]\n",
        "# Plot confusion matrix\n",
        "plt.imshow(conf, interpolation='nearest', cmap=plt.cm.Greens)\n",
        "plt.title(\"Confusion Matrix\")\n",
        "plt.colorbar()\n",
        "tick_marks = np.arange(len(classes))\n",
        "plt.xticks(tick_marks, classes)\n",
        "plt.yticks(tick_marks, classes)\n",
        "\n",
        "fmt = 'd'\n",
        "thresh = conf.max() / 2.\n",
        "for i, j in itertools.product(range(conf.shape[0]), range(conf.shape[1])):\n",
        "    plt.text(j, i, format(conf[i, j], fmt),\n",
        "             horizontalalignment=\"center\",\n",
        "             color=\"white\" if conf[i, j] > thresh else \"black\")\n",
        "\n",
        "plt.tight_layout()\n",
        "plt.ylabel('Label benar')\n",
        "plt.xlabel('Label Prediksi')"
      ]
    },
    {
      "attachments": {},
      "cell_type": "markdown",
      "metadata": {
        "id": "Sr58aW7Ui7PD"
      },
      "source": [
        "Analisis mAP\n"
      ]
    },
    {
      "cell_type": "code",
      "execution_count": null,
      "metadata": {
        "colab": {
          "base_uri": "https://localhost:8080/"
        },
        "id": "2Psuc1y0i_NJ",
        "outputId": "9f02b5b3-6a7b-465c-832f-9f1cadb8c991"
      },
      "outputs": [
        {
          "name": "stdout",
          "output_type": "stream",
          "text": [
            "time: 973 µs (started: 2023-05-05 03:20:09 +00:00)\n"
          ]
        }
      ],
      "source": [
        "# Berdasarkan confusion matrix\n",
        "TP = true_pos = 366\n",
        "TN = true_neg = 380\n",
        "FP = false_pos = 17\n",
        "FN = false_neg = 4"
      ]
    },
    {
      "cell_type": "code",
      "execution_count": null,
      "metadata": {
        "colab": {
          "base_uri": "https://localhost:8080/"
        },
        "id": "YorxeJVtj0tZ",
        "outputId": "30480640-834a-4342-d107-0637d29de2f0"
      },
      "outputs": [
        {
          "name": "stdout",
          "output_type": "stream",
          "text": [
            "Akurasi =  0.973\n",
            "Recall =  0.989\n",
            "Presisi =  0.956\n",
            "F1 =  0.972\n",
            "time: 6.78 ms (started: 2023-05-05 03:20:11 +00:00)\n"
          ]
        }
      ],
      "source": [
        "results = {}\n",
        "\n",
        "# Akurasi\n",
        "metric = \"Akurasi\"\n",
        "results[metric] = (TP + TN) / (TP + TN + FP + FN)\n",
        "print(f\"{metric} = {results[metric]: .3f}\")\n",
        "\n",
        "# Recall\n",
        "metric = \"Recall\"\n",
        "results[metric] = TP / (TP + FN)\n",
        "print(f\"{metric} = {results[metric]: .3f}\")\n",
        "\n",
        "# Presisi\n",
        "metric = \"Presisi\"\n",
        "results[metric] = TP / (TP + FP)\n",
        "print(f\"{metric} = {results[metric]: .3f}\")\n",
        "\n",
        "# Nilai F1\n",
        "metric = \"F1\"\n",
        "results[metric] = 2 / (1 / results[\"Presisi\"] + 1 / results[\"Recall\"])\n",
        "print(f\"{metric} = {results[metric]: .3f}\")"
      ]
    },
    {
      "cell_type": "code",
      "execution_count": 29,
      "metadata": {
        "colab": {
          "base_uri": "https://localhost:8080/"
        },
        "id": "BDPEy5zamOoi",
        "outputId": "cf046df8-a326-4673-82da-695545bba41b"
      },
      "outputs": [
        {
          "name": "stdout",
          "output_type": "stream",
          "text": [
            "96/96 [==============================] - 723s 8s/step\n",
            "              precision    recall  f1-score   support\n",
            "\n",
            "   with_mask       0.97      0.96      0.96      1544\n",
            "without_mask       0.96      0.97      0.96      1523\n",
            "\n",
            "    accuracy                           0.96      3067\n",
            "   macro avg       0.96      0.96      0.96      3067\n",
            "weighted avg       0.96      0.96      0.96      3067\n",
            "\n"
          ]
        }
      ],
      "source": [
        "# Membuat prediksi dari pengujian\n",
        "predIdxs = model.predict(train_data, batch_size=BS)\n",
        " \n",
        "# Untuk setiap gambar dalam set pengujian, kita perlu menemukan indeks label\n",
        "# dengan probabilitas prediksi terbesar\n",
        "predIdxs = np.argmax(predIdxs, axis=1)\n",
        " \n",
        "# Menampilkan laporan klasifikasi yang diformat dengan baik\n",
        "print(classification_report(train_labels.argmax(axis=1), predIdxs,\n",
        "    target_names=lb.classes_))"
      ]
    },
    {
      "attachments": {},
      "cell_type": "markdown",
      "metadata": {
        "id": "S8U7B1jv8ZQr"
      },
      "source": [
        "## Menyimpan dan Konversi Model ke \".tflite\"\n",
        "\n",
        "Menyimpan model menggunakan tf.saved_model/save dan kemudian mengkonversi model tersimpan ke format yang kompatibel tf lite.\n"
      ]
    },
    {
      "cell_type": "code",
      "execution_count": 30,
      "metadata": {
        "colab": {
          "base_uri": "https://localhost:8080/"
        },
        "id": "tTaHZm7mKjLK",
        "outputId": "6ac60462-c83c-47e0-f4d3-8b63d564ea04"
      },
      "outputs": [
        {
          "name": "stderr",
          "output_type": "stream",
          "text": [
            "WARNING:absl:Found untraced functions such as _jit_compiled_convolution_op, _jit_compiled_convolution_op, _jit_compiled_convolution_op, _jit_compiled_convolution_op, _jit_compiled_convolution_op while saving (showing 5 of 13). These functions will not be directly callable after loading.\n"
          ]
        },
        {
          "name": "stdout",
          "output_type": "stream",
          "text": [
            "INFO:tensorflow:Assets written to: saved_model/1\\assets\n"
          ]
        },
        {
          "name": "stderr",
          "output_type": "stream",
          "text": [
            "INFO:tensorflow:Assets written to: saved_model/1\\assets\n"
          ]
        }
      ],
      "source": [
        "export_dir='saved_model/1'\n",
        "tf.saved_model.save(model, export_dir)"
      ]
    },
    {
      "cell_type": "code",
      "execution_count": 31,
      "metadata": {
        "colab": {
          "base_uri": "https://localhost:8080/"
        },
        "id": "rQDDJ2eYKk21",
        "outputId": "71e8079f-6c1f-466d-d921-a16bd04c9f9a"
      },
      "outputs": [],
      "source": [
        "# Mengkonvert model ke format tflite\n",
        "converter = tf.lite.TFLiteConverter.from_saved_model(export_dir)\n",
        "tflite_model = converter.convert()"
      ]
    },
    {
      "cell_type": "code",
      "execution_count": 33,
      "metadata": {
        "colab": {
          "base_uri": "https://localhost:8080/"
        },
        "id": "aZet8SWWKn_S",
        "outputId": "47bd6c94-dd1e-4b32-a605-ec38717c9155"
      },
      "outputs": [
        {
          "data": {
            "text/plain": [
              "59131992"
            ]
          },
          "execution_count": 33,
          "metadata": {},
          "output_type": "execute_result"
        }
      ],
      "source": [
        "# Menyimpan model\n",
        "tflite_model_file = pathlib.Path('face-mask-detection/content/model.tflite')\n",
        "tflite_model_file.write_bytes(tflite_model)"
      ]
    },
    {
      "cell_type": "code",
      "execution_count": 34,
      "metadata": {
        "colab": {
          "base_uri": "https://localhost:8080/"
        },
        "id": "znn1rBf6Jcfu",
        "outputId": "7056277f-cacb-4493-a785-ff7d902d0742"
      },
      "outputs": [
        {
          "name": "stdout",
          "output_type": "stream",
          "text": [
            "[{'name': 'serving_default_input_1:0', 'index': 0, 'shape': array([  1, 224, 224,   3]), 'shape_signature': array([ -1, 224, 224,   3]), 'dtype': <class 'numpy.float32'>, 'quantization': (0.0, 0), 'quantization_parameters': {'scales': array([], dtype=float32), 'zero_points': array([], dtype=int32), 'quantized_dimension': 0}, 'sparsity_parameters': {}}]\n",
            "[{'name': 'StatefulPartitionedCall:0', 'index': 54, 'shape': array([1, 2]), 'shape_signature': array([-1,  2]), 'dtype': <class 'numpy.float32'>, 'quantization': (0.0, 0), 'quantization_parameters': {'scales': array([], dtype=float32), 'zero_points': array([], dtype=int32), 'quantized_dimension': 0}, 'sparsity_parameters': {}}]\n"
          ]
        }
      ],
      "source": [
        "# Memuat model dan mengalokasikan ke tensor\n",
        "interpreter = tf.lite.Interpreter(model_content = tflite_model)\n",
        "interpreter.allocate_tensors()\n",
        "\n",
        "# Mendapatkan input dan ouput tensor\n",
        "input_details = interpreter.get_input_details()\n",
        "output_details = interpreter.get_output_details()\n",
        "\n",
        "input_shape = input_details[0]['shape']\n",
        "\n",
        "print(input_details)\n",
        "print(output_details)"
      ]
    },
    {
      "attachments": {},
      "cell_type": "markdown",
      "metadata": {
        "id": "D-H94fpq_E0J"
      },
      "source": [
        "# Pengujian Model dengan MTCNN\n"
      ]
    },
    {
      "attachments": {},
      "cell_type": "markdown",
      "metadata": {
        "id": "9T0GaCA5_SRw"
      },
      "source": [
        "Model diujikan pada gambar dan secara real-time dengan menggunakan MTCNN yang digunakan untuk mendeteksi wajah.\n"
      ]
    },
    {
      "cell_type": "code",
      "execution_count": 1,
      "metadata": {
        "colab": {
          "base_uri": "https://localhost:8080/"
        },
        "id": "qVWYYLdvZJjP",
        "outputId": "b4c1fefd-990e-4ba5-e116-03813d253557"
      },
      "outputs": [
        {
          "name": "stdout",
          "output_type": "stream",
          "text": [
            "Collecting mtcnn\n",
            "  Using cached mtcnn-0.1.1-py3-none-any.whl (2.3 MB)\n",
            "Requirement already satisfied: keras>=2.0.0 in c:\\users\\georg\\anaconda3\\envs\\tf\\lib\\site-packages (from mtcnn) (2.10.0)\n",
            "Collecting opencv-python>=4.1.0\n",
            "  Using cached opencv_python-4.7.0.72-cp37-abi3-win_amd64.whl (38.2 MB)\n",
            "Requirement already satisfied: numpy>=1.17.3 in c:\\users\\georg\\anaconda3\\envs\\tf\\lib\\site-packages (from opencv-python>=4.1.0->mtcnn) (1.24.3)\n",
            "Installing collected packages: opencv-python, mtcnn\n",
            "Successfully installed mtcnn-0.1.1 opencv-python-4.7.0.72\n"
          ]
        }
      ],
      "source": [
        "!pip install mtcnn"
      ]
    },
    {
      "attachments": {},
      "cell_type": "markdown",
      "metadata": {
        "id": "nej9QmRT8-DO"
      },
      "source": [
        "## Penggunaan Model pada Gambar\n"
      ]
    },
    {
      "cell_type": "code",
      "execution_count": 2,
      "metadata": {
        "colab": {
          "base_uri": "https://localhost:8080/"
        },
        "id": "cwPKPee0Qi3h",
        "outputId": "15aa788d-3cfd-46c3-af2e-96792ca1289a"
      },
      "outputs": [],
      "source": [
        "from mtcnn import MTCNN\n",
        "import cv2\n",
        "#from google.colab.patches import cv2_imshow"
      ]
    },
    {
      "cell_type": "code",
      "execution_count": 43,
      "metadata": {
        "colab": {
          "base_uri": "https://localhost:8080/",
          "height": 877
        },
        "id": "JkkXJ-MpKKSV",
        "outputId": "2c84d1f5-1a7c-4d00-b929-7b6d12d7695a"
      },
      "outputs": [
        {
          "name": "stdout",
          "output_type": "stream",
          "text": [
            "1/1 [==============================] - 0s 144ms/step\n",
            "1/1 [==============================] - 0s 119ms/step\n",
            "1/1 [==============================] - 0s 29ms/step\n",
            "1/1 [==============================] - 0s 33ms/step\n",
            "1/1 [==============================] - 0s 25ms/step\n",
            "1/1 [==============================] - 0s 25ms/step\n",
            "1/1 [==============================] - 0s 29ms/step\n",
            "1/1 [==============================] - 0s 28ms/step\n",
            "1/1 [==============================] - 0s 28ms/step\n",
            "1/1 [==============================] - 0s 149ms/step\n",
            "1/1 [==============================] - 0s 148ms/step\n",
            "1/1 [==============================] - 0s 276ms/step\n"
          ]
        },
        {
          "data": {
            "text/plain": [
              "-1"
            ]
          },
          "execution_count": 43,
          "metadata": {},
          "output_type": "execute_result"
        }
      ],
      "source": [
        "detector = MTCNN()\n",
        "image = cv2.imread('face-mask-detection/example_img/ex04.jpg', cv2.COLOR_BGR2RGB)\n",
        "faces = detector.detect_faces(image)\n",
        "for result in faces:\n",
        "    x, y, w, h = result['box']\n",
        "    x1, y1 = x + w, y + h\n",
        "    \n",
        "    # Ekstrak ROI wajah, konversikan dari BGR ke pemesanan saluran RGB,\n",
        "    # dan mengubah ukurannya menjadi 224x224, dan lalu pre-proses\n",
        "    face = image[y:y1, x:x1]\n",
        "    face = cv2.cvtColor(face, cv2.COLOR_BGR2RGB)\n",
        "    face = cv2.resize(face, (224, 224))\n",
        "    face = img_to_array(face)\n",
        "    face = preprocess_input(face)\n",
        "    face = np.expand_dims(face, axis=0)    \n",
        "\n",
        "    # Membaca wajah dengan model\n",
        "    (mask, withoutMask) = model.predict(face)[0]\n",
        "\n",
        "    # Menggunakan masker hijau, tidak bermasker merah\n",
        "    label = \"Bermasker\" if mask > withoutMask else \"Tidak Bermasker\"\n",
        "    color = (0, 255, 0) if label == \"Bermasker\" else (0, 0, 255)\n",
        "\n",
        "\t\t# Probabilitas hasil deteksi\n",
        "    label = \"{}: {:.2f}%\".format(label, max(mask, withoutMask) * 100)\n",
        "\n",
        "    # Menampilkan hasil dengan label dan kotak\n",
        "    cv2.putText(image, label, (x, y - 10),\n",
        "    cv2.FONT_HERSHEY_SIMPLEX, 0.45, color, 2)\n",
        "    cv2.rectangle(image, (x, y), (x1, y1), color, 2)\n",
        "\n",
        "# Menampilkan output\n",
        "cv2.imshow(\" Hasil\", image)\n",
        "cv2.waitKey(0)"
      ]
    },
    {
      "attachments": {},
      "cell_type": "markdown",
      "metadata": {
        "id": "njXIK_L3dVXx"
      },
      "source": [
        "## Pengujian Deteksi Perframe Capture\n"
      ]
    },
    {
      "cell_type": "code",
      "execution_count": null,
      "metadata": {
        "id": "_wdWN4xy-Nxd"
      },
      "outputs": [],
      "source": [
        "# Mengimport lib\n",
        "from mtcnn import MTCNN\n",
        "from tensorflow.keras.preprocessing.image import img_to_array\n",
        "from tensorflow.keras.models import load_model\n",
        "from imutils.video import VideoStream\n",
        "from IPython.display import display, Javascript\n",
        "from google.colab.output import eval_js\n",
        "from PIL import Image\n",
        "import numpy as np\n",
        "import argparse\n",
        "import imutils\n",
        "import time\n",
        "import cv2\n",
        "import os\n",
        "import base64\n",
        "import html\n",
        "import io\n",
        "import time"
      ]
    },
    {
      "cell_type": "code",
      "execution_count": null,
      "metadata": {
        "id": "_Ajg0vfLNs6C"
      },
      "outputs": [],
      "source": [
        "def start_input():\n",
        "  js = Javascript('''\n",
        "    var video;\n",
        "    var div = null;\n",
        "    var stream;\n",
        "    var captureCanvas;\n",
        "    var imgElement;\n",
        "    var labelElement;\n",
        "    \n",
        "    var pendingResolve = null;\n",
        "    var shutdown = false;\n",
        "    \n",
        "    function removeDom() {\n",
        "       stream.getVideoTracks()[0].stop();\n",
        "       video.remove();\n",
        "       div.remove();\n",
        "       video = null;\n",
        "       div = null;\n",
        "       stream = null;\n",
        "       imgElement = null;\n",
        "       captureCanvas = null;\n",
        "       labelElement = null;\n",
        "    }\n",
        "    \n",
        "    function onAnimationFrame() {\n",
        "      if (!shutdown) {\n",
        "        window.requestAnimationFrame(onAnimationFrame);\n",
        "      }\n",
        "      if (pendingResolve) {\n",
        "        var result = \"\";\n",
        "        if (!shutdown) {\n",
        "          captureCanvas.getContext('2d').drawImage(video, 0, 0, 512, 512);\n",
        "          result = captureCanvas.toDataURL('image/jpeg', 0.8)\n",
        "        }\n",
        "        var lp = pendingResolve;\n",
        "        pendingResolve = null;\n",
        "        lp(result);\n",
        "      }\n",
        "    }\n",
        "    \n",
        "    async function createDom() {\n",
        "      if (div !== null) {\n",
        "        return stream;\n",
        "      }\n",
        "      div = document.createElement('div');\n",
        "      div.style.border = '2px solid black';\n",
        "      div.style.padding = '3px';\n",
        "      div.style.width = '100%';\n",
        "      div.style.maxWidth = '600px';\n",
        "      document.body.appendChild(div);\n",
        "      \n",
        "      const modelOut = document.createElement('div');\n",
        "      modelOut.innerHTML = \"<span>Status:</span>\";\n",
        "      labelElement = document.createElement('span');\n",
        "      labelElement.innerText = 'No data';\n",
        "      labelElement.style.fontWeight = 'bold';\n",
        "      modelOut.appendChild(labelElement);\n",
        "      div.appendChild(modelOut);\n",
        "           \n",
        "      video = document.createElement('video');\n",
        "      video.style.display = 'block';\n",
        "      video.width = div.clientWidth - 6;\n",
        "      video.setAttribute('playsinline', '');\n",
        "      video.onclick = () => { shutdown = true; };\n",
        "      stream = await navigator.mediaDevices.getUserMedia(\n",
        "          {video: { facingMode: \"environment\"}});\n",
        "      div.appendChild(video);\n",
        "      imgElement = document.createElement('img');\n",
        "      imgElement.style.position = 'absolute';\n",
        "      imgElement.style.zIndex = 1;\n",
        "      imgElement.onclick = () => { shutdown = true; };\n",
        "      div.appendChild(imgElement);\n",
        "      \n",
        "      const instruction = document.createElement('div');\n",
        "      instruction.innerHTML = \n",
        "          '<span style=\"color: red; font-weight: bold;\">' +\n",
        "          'Ketika selesai, klik disini atau pada video untuk berhenti dari demo</span>';\n",
        "      div.appendChild(instruction);\n",
        "      instruction.onclick = () => { shutdown = true; };\n",
        "      \n",
        "      video.srcObject = stream;\n",
        "      await video.play();\n",
        "      captureCanvas = document.createElement('canvas');\n",
        "      captureCanvas.width = 512; //video.videoWidth;\n",
        "      captureCanvas.height = 512; //video.videoHeight;\n",
        "      window.requestAnimationFrame(onAnimationFrame);\n",
        "      \n",
        "      return stream;\n",
        "    }\n",
        "    async function takePhoto(label, imgData) {\n",
        "      if (shutdown) {\n",
        "        removeDom();\n",
        "        shutdown = false;\n",
        "        return '';\n",
        "      }\n",
        "      var preCreate = Date.now();\n",
        "      stream = await createDom();\n",
        "      \n",
        "      var preShow = Date.now();\n",
        "      if (label != \"\") {\n",
        "        labelElement.innerHTML = label;\n",
        "      }\n",
        "            \n",
        "      if (imgData != \"\") {\n",
        "        var videoRect = video.getClientRects()[0];\n",
        "        imgElement.style.top = videoRect.top + \"px\";\n",
        "        imgElement.style.left = videoRect.left + \"px\";\n",
        "        imgElement.style.width = videoRect.width + \"px\";\n",
        "        imgElement.style.height = videoRect.height + \"px\";\n",
        "        imgElement.src = imgData;\n",
        "      }\n",
        "      \n",
        "      var preCapture = Date.now();\n",
        "      var result = await new Promise(function(resolve, reject) {\n",
        "        pendingResolve = resolve;\n",
        "      });\n",
        "      shutdown = false;\n",
        "      \n",
        "      return {'create': preShow - preCreate, \n",
        "              'show': preCapture - preShow, \n",
        "              'capture': Date.now() - preCapture,\n",
        "              'img': result};\n",
        "    }\n",
        "    ''')\n",
        " \n",
        "  display(js)\n",
        "  \n",
        "def take_photo(label, img_data):\n",
        "  data = eval_js('takePhoto(\"{}\", \"{}\")'.format(label, img_data))\n",
        "  return data"
      ]
    },
    {
      "cell_type": "code",
      "execution_count": null,
      "metadata": {
        "id": "MvzQUeMGN5XQ"
      },
      "outputs": [],
      "source": [
        "def js_reply_to_image(js_reply):\n",
        "    \"\"\"\n",
        "    input: \n",
        "          js_reply: JavaScript object, contain image from webcam\n",
        "    output: \n",
        "          image_array: image array RGB size 512 x 512 from webcam\n",
        "    \"\"\"\n",
        "    jpeg_bytes = base64.b64decode(js_reply['img'].split(',')[1])\n",
        "    image_PIL = Image.open(io.BytesIO(jpeg_bytes))\n",
        "    image_array = np.array(image_PIL)\n",
        " \n",
        "    return image_array"
      ]
    },
    {
      "cell_type": "code",
      "execution_count": null,
      "metadata": {
        "id": "ETwcarZEN7Np"
      },
      "outputs": [],
      "source": [
        "start_input()\n",
        "label_html = 'Capturing...'\n",
        "img_data = ''\n",
        "count = 0 \n",
        "\n",
        "# Menginisialisasi MTCNN\n",
        "detector = MTCNN()\n",
        "\n",
        "from google.colab.patches import cv2_imshow\n",
        "while True:\n",
        "  js_reply = take_photo(label_html, img_data)\n",
        "  if not js_reply:\n",
        "    break\n",
        "    \n",
        "  image = js_reply_to_image(js_reply)\n",
        "\n",
        "\t# Mengambil frame dari aliran video berulir dan \n",
        "  # ukurannya maksimum lebar 400 pixel\n",
        "  frame = image\n",
        "  v=True\n",
        "  if v == True:\n",
        "\n",
        "    frame = imutils.resize(frame, width=400)\n",
        "\n",
        "    faces = detector.detect_faces(frame)\n",
        "    faces_list = []\n",
        "    preds = []\n",
        "    for result in faces:\n",
        "      x, y, w, h = result['box']\n",
        "      x1, y1 = x + w, y + h\n",
        "\n",
        "      # Ekstrak ROI wajah, konversikan dari BGR ke pemesanan saluran RGB,\n",
        "      # dan mengubah ukurannya menjadi 224x224, dan lalu pre-prosess\n",
        "      face = image[y:y1, x:x1]\n",
        "      face = cv2.cvtColor(face, cv2.COLOR_BGR2RGB)\n",
        "      face = cv2.resize(face, (224, 224))\n",
        "      face = img_to_array(face)\n",
        "      face = preprocess_input(face)\n",
        "      face = np.expand_dims(face, axis=0)\n",
        "     \n",
        "      faces_list.append(face)\n",
        "      \n",
        "      if len(faces_list) > 0:\n",
        "        preds = model.predict(faces_list)\n",
        "    \n",
        "      # Mendeteksi bermasker atau tidak\n",
        "      for pred in preds:\n",
        "        (mask, withoutMask) = pred\n",
        "\n",
        "\t  \t# Menggunakan masker hijau, tidak bermasker merah\n",
        "      label = \"Bermasker\" if mask > withoutMask else \"Tidak Bermasker\"\n",
        "      color = (0, 255, 0) if label == \"Bermasker\" else (0, 0, 255)\n",
        "\n",
        "\t  \t# Probabilitas pada label\n",
        "      label = \"{}: {:.2f}%\".format(label, max(mask, withoutMask) * 100)\n",
        "\n",
        "\t  \t# Menampilkan hasil dengan label dan kotak dari frame\n",
        "      frame=cv2.putText(frame, label, (x, y - 10),cv2.FONT_HERSHEY_SIMPLEX, 0.45, color, 2)\n",
        "      frame=cv2.rectangle(frame, (x, y), (x1, y1), color, 2)\n",
        "\n",
        "\t# Menampilkan ouput\n",
        "      cv2_imshow(frame)"
      ]
    },
    {
      "attachments": {},
      "cell_type": "markdown",
      "metadata": {
        "id": "c6ziSC8bK9zR"
      },
      "source": [
        "## Pengujian Streaming Video\n"
      ]
    },
    {
      "cell_type": "code",
      "execution_count": null,
      "metadata": {
        "id": "oqoA42eicSdG"
      },
      "outputs": [],
      "source": [
        "# import dependencies\n",
        "from mtcnn import MTCNN\n",
        "from IPython.display import display, Javascript, Image\n",
        "from google.colab.output import eval_js\n",
        "from base64 import b64decode, b64encode\n",
        "import cv2\n",
        "import numpy as np\n",
        "import PIL\n",
        "import io\n",
        "import html\n",
        "import time"
      ]
    },
    {
      "cell_type": "code",
      "execution_count": null,
      "metadata": {
        "id": "2Id8nYgQTDmw"
      },
      "outputs": [],
      "source": [
        "# function to convert the JavaScript object into an OpenCV image\n",
        "def js_to_image(js_reply):\n",
        "  \"\"\"\n",
        "  Params:\n",
        "          js_reply: JavaScript object containing image from webcam\n",
        "  Returns:\n",
        "          img: OpenCV BGR image\n",
        "  \"\"\"\n",
        "  # decode base64 image\n",
        "  image_bytes = b64decode(js_reply.split(',')[1])\n",
        "  # convert bytes to numpy array\n",
        "  jpg_as_np = np.frombuffer(image_bytes, dtype=np.uint8)\n",
        "  # decode numpy array into OpenCV BGR image\n",
        "  img = cv2.imdecode(jpg_as_np, flags=1)\n",
        "\n",
        "  return img\n",
        "\n",
        "# function to convert OpenCV Rectangle bounding box image into base64 byte string to be overlayed on video stream\n",
        "def bbox_to_bytes(bbox_array):\n",
        "  \"\"\"\n",
        "  Params:\n",
        "          bbox_array: Numpy array (pixels) containing rectangle to overlay on video stream.\n",
        "  Returns:\n",
        "        bytes: Base64 image byte string\n",
        "  \"\"\"\n",
        "  # convert array into PIL image\n",
        "  bbox_PIL = PIL.Image.fromarray(bbox_array, 'RGBA')\n",
        "  iobuf = io.BytesIO()\n",
        "  # format bbox into png for return\n",
        "  bbox_PIL.save(iobuf, format='png')\n",
        "  # format return string\n",
        "  bbox_bytes = 'data:image/png;base64,{}'.format((str(b64encode(iobuf.getvalue()), 'utf-8')))\n",
        "\n",
        "  return bbox_bytes"
      ]
    },
    {
      "cell_type": "code",
      "execution_count": null,
      "metadata": {
        "id": "JXrV4AMILGfb"
      },
      "outputs": [],
      "source": [
        "# JavaScript to properly create our live video stream using our webcam as input\n",
        "def video_stream():\n",
        "  js = Javascript('''\n",
        "    var video;\n",
        "    var div = null;\n",
        "    var stream;\n",
        "    var captureCanvas;\n",
        "    var imgElement;\n",
        "    var labelElement;\n",
        "    \n",
        "    var pendingResolve = null;\n",
        "    var shutdown = false;\n",
        "    \n",
        "    function removeDom() {\n",
        "       stream.getVideoTracks()[0].stop();\n",
        "       video.remove();\n",
        "       div.remove();\n",
        "       video = null;\n",
        "       div = null;\n",
        "       stream = null;\n",
        "       imgElement = null;\n",
        "       captureCanvas = null;\n",
        "       labelElement = null;\n",
        "    }\n",
        "    \n",
        "    function onAnimationFrame() {\n",
        "      if (!shutdown) {\n",
        "        window.requestAnimationFrame(onAnimationFrame);\n",
        "      }\n",
        "      if (pendingResolve) {\n",
        "        var result = \"\";\n",
        "        if (!shutdown) {\n",
        "          captureCanvas.getContext('2d').drawImage(video, 0, 0, 512, 512);\n",
        "          result = captureCanvas.toDataURL('image/jpeg', 0.8)\n",
        "        }\n",
        "        var lp = pendingResolve;\n",
        "        pendingResolve = null;\n",
        "        lp(result);\n",
        "      }\n",
        "    }\n",
        "    \n",
        "    async function createDom() {\n",
        "      if (div !== null) {\n",
        "        return stream;\n",
        "      }\n",
        "\n",
        "      div = document.createElement('div');\n",
        "      div.style.border = '2px solid black';\n",
        "      div.style.padding = '3px';\n",
        "      div.style.width = '100%';\n",
        "      div.style.maxWidth = '600px';\n",
        "      document.body.appendChild(div);\n",
        "      \n",
        "      const modelOut = document.createElement('div');\n",
        "      modelOut.innerHTML = \"<span>Status:</span>\";\n",
        "      labelElement = document.createElement('span');\n",
        "      labelElement.innerText = 'No data';\n",
        "      labelElement.style.fontWeight = 'bold';\n",
        "      modelOut.appendChild(labelElement);\n",
        "      div.appendChild(modelOut);\n",
        "           \n",
        "      video = document.createElement('video');\n",
        "      video.style.display = 'block';\n",
        "      video.width = div.clientWidth - 6;\n",
        "      video.setAttribute('playsinline', '');\n",
        "      video.onclick = () => { shutdown = true; };\n",
        "      stream = await navigator.mediaDevices.getUserMedia(\n",
        "          {video: { facingMode: \"environment\"}});\n",
        "      div.appendChild(video);\n",
        "\n",
        "      imgElement = document.createElement('img');\n",
        "      imgElement.style.position = 'absolute';\n",
        "      imgElement.style.zIndex = 1;\n",
        "      imgElement.onclick = () => { shutdown = true; };\n",
        "      div.appendChild(imgElement);\n",
        "      \n",
        "      const instruction = document.createElement('div');\n",
        "      instruction.innerHTML = \n",
        "          '<span style=\"color: red; font-weight: bold;\">' +\n",
        "          'When finished, click here or on the video to stop this demo</span>';\n",
        "      div.appendChild(instruction);\n",
        "      instruction.onclick = () => { shutdown = true; };\n",
        "      \n",
        "      video.srcObject = stream;\n",
        "      await video.play();\n",
        "\n",
        "      captureCanvas = document.createElement('canvas');\n",
        "      captureCanvas.width = 512; //video.videoWidth;\n",
        "      captureCanvas.height = 512; //video.videoHeight;\n",
        "      window.requestAnimationFrame(onAnimationFrame);\n",
        "      \n",
        "      return stream;\n",
        "    }\n",
        "    async function stream_frame(label, imgData) {\n",
        "      if (shutdown) {\n",
        "        removeDom();\n",
        "        shutdown = false;\n",
        "        return '';\n",
        "      }\n",
        "\n",
        "      var preCreate = Date.now();\n",
        "      stream = await createDom();\n",
        "      \n",
        "      var preShow = Date.now();\n",
        "      if (label != \"\") {\n",
        "        labelElement.innerHTML = label;\n",
        "      }\n",
        "            \n",
        "      if (imgData != \"\") {\n",
        "        var videoRect = video.getClientRects()[0];\n",
        "        imgElement.style.top = videoRect.top + \"px\";\n",
        "        imgElement.style.left = videoRect.left + \"px\";\n",
        "        imgElement.style.width = videoRect.width + \"px\";\n",
        "        imgElement.style.height = videoRect.height + \"px\";\n",
        "        imgElement.src = imgData;\n",
        "      }\n",
        "      \n",
        "      var preCapture = Date.now();\n",
        "      var result = await new Promise(function(resolve, reject) {\n",
        "        pendingResolve = resolve;\n",
        "      });\n",
        "      shutdown = false;\n",
        "      \n",
        "      return {'create': preShow - preCreate, \n",
        "              'show': preCapture - preShow, \n",
        "              'capture': Date.now() - preCapture,\n",
        "              'img': result};\n",
        "    }\n",
        "    ''')\n",
        "\n",
        "  display(js)\n",
        "  \n",
        "def video_frame(label, bbox):\n",
        "  data = eval_js('stream_frame(\"{}\", \"{}\")'.format(label, bbox))\n",
        "  return data"
      ]
    },
    {
      "cell_type": "code",
      "execution_count": null,
      "metadata": {
        "id": "9whfB0urLIpj"
      },
      "outputs": [],
      "source": [
        "# Memulai streaming video dari webcam\n",
        "video_stream()\n",
        "# Label untuk video\n",
        "label_html = 'Capturing...'\n",
        "bbox = ''\n",
        "count = 0 \n",
        "# Menginisialisasi MTCNN\n",
        "detector = MTCNN()\n",
        "\n",
        "while True:\n",
        "    js_reply = video_frame(label_html, bbox)\n",
        "    if not js_reply:\n",
        "        break\n",
        "\n",
        "    # Mengkonvert JS response ke OpenCV Image\n",
        "    img = js_to_image(js_reply[\"img\"])\n",
        "    \n",
        "    # Membuat transparan overlay untuk bounding box\n",
        "    bbox_array = np.zeros([512,512,4], dtype=np.uint8)\n",
        "\n",
        "    faces = detector.detect_faces(img)\n",
        "    faces_list = []\n",
        "    preds = []\n",
        "\n",
        "    for result in faces:\n",
        "      x, y, w, h = result['box']\n",
        "      x1, y1 = x + w, y + h\n",
        "      \n",
        "      # Ekstrak ROI wajah, konversikan dari BGR ke pemesanan saluran RGB,\n",
        "      # dan mengubah ukurannya menjadi 224x224, dan lalu pre-prosess\n",
        "      face = image[y:y1, x:x1]\n",
        "      face = cv2.cvtColor(face, cv2.COLOR_BGR2RGB)\n",
        "      face = cv2.resize(face, (224, 224))\n",
        "      face = img_to_array(face)\n",
        "      face = preprocess_input(face)\n",
        "      face = np.expand_dims(face, axis=0)\n",
        "     \n",
        "      faces_list.append(face)\n",
        "      \n",
        "      if len(faces_list) > 0:\n",
        "        preds = model.predict(faces_list)\n",
        "    \n",
        "      # Mendeteksi bermasker atau tidak\n",
        "      for pred in preds:\n",
        "        (mask, withoutMask) = pred\n",
        "\n",
        "\t\t  # Menggunakan masker hijau, tidak bermasker merah\n",
        "      label = \"Bermasker\" if mask > withoutMask else \"Tidak Bermasker\"\n",
        "      color = (0, 255, 0) if label == \"Bermasker\" else (255, 0, 0)\n",
        "\n",
        "\t\t  # Probabilitas pada label\n",
        "      label = \"{}: {:.2f}%\".format(label, max(mask, withoutMask) * 100)\n",
        "\n",
        "\t\t  # Menampilkan hasil dengan label dan kotak dari frame\n",
        "      bbox_array=cv2.putText(bbox_array, label, (x, y - 10),cv2.FONT_HERSHEY_SIMPLEX, 0.45, color, 2)\n",
        "      bbox_array=cv2.rectangle(bbox_array, (x, y), (x1, y1), color, 2)\n",
        "\n",
        "    bbox_array[:,:,3] = (bbox_array.max(axis = 2) > 0 ).astype(int) * 255\n",
        "\n",
        "    # Mengkonversi overlay bbox ke dalam bytes\n",
        "    bbox_bytes = bbox_to_bytes(bbox_array)\n",
        " \n",
        "    # Mengupdate bbox ke pada frame selanjutnya untuk mendapat overlay\n",
        "    bbox = bbox_bytes"
      ]
    }
  ],
  "metadata": {
    "accelerator": "GPU",
    "colab": {
      "collapsed_sections": [
        "njXIK_L3dVXx"
      ],
      "gpuType": "T4",
      "provenance": [],
      "toc_visible": true
    },
    "gpuClass": "standard",
    "kernelspec": {
      "display_name": "Python 3",
      "name": "python3"
    },
    "language_info": {
      "codemirror_mode": {
        "name": "ipython",
        "version": 3
      },
      "file_extension": ".py",
      "mimetype": "text/x-python",
      "name": "python",
      "nbconvert_exporter": "python",
      "pygments_lexer": "ipython3",
      "version": "3.9.16"
    }
  },
  "nbformat": 4,
  "nbformat_minor": 0
}
