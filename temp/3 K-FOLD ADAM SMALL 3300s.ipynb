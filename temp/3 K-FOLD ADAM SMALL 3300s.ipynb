{
  "cells": [
    {
      "attachments": {},
      "cell_type": "markdown",
      "metadata": {
        "id": "44JRqlK3IyFv"
      },
      "source": [
        "**Face Mask Detection**\n",
        "\n",
        "Program Machine Learning untuk mendeteksi penggunaan masker. Program dibuat menggunakan metode CNN dengan arsitektur VGG16Net dan MTCNN untuk face detection.\n"
      ]
    },
    {
      "attachments": {},
      "cell_type": "markdown",
      "metadata": {
        "id": "_BvjSZ30YhWh"
      },
      "source": [
        "## Mengimpor Libraries yang dibutuhkan\n"
      ]
    },
    {
      "cell_type": "code",
      "execution_count": 1,
      "metadata": {
        "colab": {
          "base_uri": "https://localhost:8080/"
        },
        "id": "W3Za-KOKf-Ot",
        "outputId": "24adee42-c900-4da4-e315-be0b6ebae6a5"
      },
      "outputs": [
        {
          "name": "stdout",
          "output_type": "stream",
          "text": [
            "Num GPUs Available:  1\n",
            "Wed Aug 30 21:51:15 2023       \n",
            "+---------------------------------------------------------------------------------------+\n",
            "| NVIDIA-SMI 537.13                 Driver Version: 537.13       CUDA Version: 12.2     |\n",
            "|-----------------------------------------+----------------------+----------------------+\n",
            "| GPU  Name                     TCC/WDDM  | Bus-Id        Disp.A | Volatile Uncorr. ECC |\n",
            "| Fan  Temp   Perf          Pwr:Usage/Cap |         Memory-Usage | GPU-Util  Compute M. |\n",
            "|                                         |                      |               MIG M. |\n",
            "|=========================================+======================+======================|\n",
            "|   0  NVIDIA GeForce GTX 1050      WDDM  | 00000000:01:00.0 Off |                  N/A |\n",
            "| N/A   52C    P0              N/A / ERR! |    140MiB /  3072MiB |      6%      Default |\n",
            "|                                         |                      |                  N/A |\n",
            "+-----------------------------------------+----------------------+----------------------+\n",
            "                                                                                         \n",
            "+---------------------------------------------------------------------------------------+\n",
            "| Processes:                                                                            |\n",
            "|  GPU   GI   CI        PID   Type   Process name                            GPU Memory |\n",
            "|        ID   ID                                                             Usage      |\n",
            "|=======================================================================================|\n",
            "|    0   N/A  N/A      1564      C   ...\\georg\\anaconda3\\envs\\tf\\python.exe    N/A      |\n",
            "+---------------------------------------------------------------------------------------+\n"
          ]
        }
      ],
      "source": [
        "import tensorflow as tf\n",
        "from tensorflow.keras.preprocessing.image import ImageDataGenerator\n",
        "from tensorflow.keras.applications import vgg16\n",
        "from tensorflow.keras.layers import AveragePooling2D\n",
        "from tensorflow.keras.layers import Dropout\n",
        "from tensorflow.keras.layers import Flatten\n",
        "from tensorflow.keras.layers import Dense\n",
        "from tensorflow.keras.layers import Input\n",
        "from tensorflow.keras.models import Model\n",
        "from tensorflow.keras.optimizers import Adam\n",
        "from tensorflow.keras.applications.mobilenet_v2 import preprocess_input\n",
        "from tensorflow.keras.preprocessing.image import img_to_array\n",
        "from tensorflow.keras.preprocessing.image import load_img\n",
        "from tensorflow.keras.utils import to_categorical\n",
        "from sklearn.preprocessing import LabelBinarizer\n",
        "from sklearn.model_selection import train_test_split\n",
        "from sklearn.metrics import classification_report\n",
        "from sklearn.metrics import confusion_matrix\n",
        "from imutils import paths\n",
        "import matplotlib.pyplot as plt\n",
        "import pathlib\n",
        "import numpy as np\n",
        "import argparse\n",
        "import os\n",
        "import itertools\n",
        "\n",
        "\n",
        "print(\"Num GPUs Available: \", len(tf.config.list_physical_devices('GPU')))\n",
        "tf.test.gpu_device_name()\n",
        "\n",
        "!nvidia-smi\n",
        "\n",
        "\n"
      ]
    },
    {
      "attachments": {},
      "cell_type": "markdown",
      "metadata": {
        "id": "ZU5Fqk2vLELg"
      },
      "source": [
        "## Preprocessing Datasets\n"
      ]
    },
    {
      "cell_type": "code",
      "execution_count": 2,
      "metadata": {
        "colab": {
          "base_uri": "https://localhost:8080/"
        },
        "id": "D48VICs21pna",
        "outputId": "cea2273f-1fce-4e75-d91a-b7d54b84edf2"
      },
      "outputs": [
        {
          "name": "stdout",
          "output_type": "stream",
          "text": [
            "Menginput gambar...\n",
            "Input gambar berhasil\n"
          ]
        }
      ],
      "source": [
        "# Inisialisasi nilai Initial Learning Rate, berapa banyak Epoch pelatihan, dan Batch Size\n",
        "import sys\n",
        "from PIL import Image\n",
        "\n",
        "INIT_LR = 1e-4\n",
        "EPOCHS = 30\n",
        "BS = 32\n",
        " \n",
        "# Mengambil gambar dari dataset directory, kemudian inisialisasi data dan class gambar\n",
        "print(\"Menginput gambar...\")\n",
        "\n",
        "# imagePaths = list(paths.list_images('dataset'))\n",
        "imagePaths = list(paths.list_images('dataset_small'))\n",
        "data = []\n",
        "labels = []\n",
        " \n",
        "# Melakukan perulangan pada image paths\n",
        "for imagePath in imagePaths:\n",
        " \n",
        "    # Mengekstrak class label dari filename\n",
        "    label = imagePath.split(os.path.sep)[-2]\n",
        "    # Memuat input gambar (224x224) dan melakukan proses\n",
        "    image = load_img(imagePath, target_size=(224, 224))\n",
        "    image = img_to_array(image)\n",
        "    image = preprocess_input(image)\n",
        " \n",
        "    # Mengupdate data dan labels lists, berurutan\n",
        "    data.append(image)\n",
        "    labels.append(label)\n",
        " \n",
        "# Mengkonversi data dan label ke dalam NumPy Arrays\n",
        "data = np.array(data, dtype=\"float32\")\n",
        "labels = np.array(labels)\n",
        " \n",
        "# Melakukan one-hot encoding on the labels\n",
        "lb = LabelBinarizer()\n",
        "labels = lb.fit_transform(labels)\n",
        "labels = to_categorical(labels)\n",
        "print(\"Input gambar berhasil\")"
      ]
    },
    {
      "attachments": {},
      "cell_type": "markdown",
      "metadata": {
        "id": "aF2vfrgni3tq"
      },
      "source": [
        "### Membuat objek ImageDataGenerator dan Data Augmentation\n"
      ]
    },
    {
      "cell_type": "code",
      "execution_count": 3,
      "metadata": {
        "colab": {
          "base_uri": "https://localhost:8080/"
        },
        "id": "tRBrygye5yvc",
        "outputId": "cbf33c6e-2b61-4896-a861-b723597e9581"
      },
      "outputs": [],
      "source": [
        "# Mempartisi data ke dalam pelatihan dan pengujian ( 75% : 25% )\n",
        "'''\n",
        "(trainX, testX, trainY, testY) = train_test_split(data, labels,\n",
        "    test_size=0.25, stratify=labels, random_state=42)\n",
        " '''\n",
        "\n",
        "\n",
        "# Membentuk training image generator untuk data augmentation\n",
        "aug = ImageDataGenerator(\n",
        "    rotation_range=20,\n",
        "    zoom_range=0.15,\n",
        "    width_shift_range=0.2,\n",
        "    height_shift_range=0.2,\n",
        "    shear_range=0.15,\n",
        "    horizontal_flip=True,\n",
        "    fill_mode=\"nearest\")"
      ]
    },
    {
      "attachments": {},
      "cell_type": "markdown",
      "metadata": {
        "id": "bHPD753f5205"
      },
      "source": [
        "## Membuat Model Jaringan CNN yang sudah dipelajari sebelumnya (pre-trained convnets)\n"
      ]
    },
    {
      "cell_type": "code",
      "execution_count": 4,
      "metadata": {
        "colab": {
          "base_uri": "https://localhost:8080/"
        },
        "id": "FaDceTqP6HLr",
        "outputId": "549de847-15bc-46e9-f9d8-e024c5fd2a89"
      },
      "outputs": [],
      "source": [
        "# Arsitektur jaringan VGG16Net\n",
        "baseModel = tf.keras.applications.VGG16(weights=\"imagenet\", include_top=False,\n",
        "    input_tensor=Input(shape=(224, 224, 3)))"
      ]
    },
    {
      "attachments": {},
      "cell_type": "markdown",
      "metadata": {
        "id": "NfSLr2q2LWRZ"
      },
      "source": [
        "### Feature Extraction\n"
      ]
    },
    {
      "cell_type": "code",
      "execution_count": 5,
      "metadata": {
        "colab": {
          "base_uri": "https://localhost:8080/"
        },
        "id": "Z0U2qYnO6KYW",
        "outputId": "00a32ad0-22a0-42a6-8495-b1527f745d2e"
      },
      "outputs": [
        {
          "name": "stdout",
          "output_type": "stream",
          "text": [
            "Model: \"vgg16\"\n",
            "_________________________________________________________________\n",
            " Layer (type)                Output Shape              Param #   \n",
            "=================================================================\n",
            " input_1 (InputLayer)        [(None, 224, 224, 3)]     0         \n",
            "                                                                 \n",
            " block1_conv1 (Conv2D)       (None, 224, 224, 64)      1792      \n",
            "                                                                 \n",
            " block1_conv2 (Conv2D)       (None, 224, 224, 64)      36928     \n",
            "                                                                 \n",
            " block1_pool (MaxPooling2D)  (None, 112, 112, 64)      0         \n",
            "                                                                 \n",
            " block2_conv1 (Conv2D)       (None, 112, 112, 128)     73856     \n",
            "                                                                 \n",
            " block2_conv2 (Conv2D)       (None, 112, 112, 128)     147584    \n",
            "                                                                 \n",
            " block2_pool (MaxPooling2D)  (None, 56, 56, 128)       0         \n",
            "                                                                 \n",
            " block3_conv1 (Conv2D)       (None, 56, 56, 256)       295168    \n",
            "                                                                 \n",
            " block3_conv2 (Conv2D)       (None, 56, 56, 256)       590080    \n",
            "                                                                 \n",
            " block3_conv3 (Conv2D)       (None, 56, 56, 256)       590080    \n",
            "                                                                 \n",
            " block3_pool (MaxPooling2D)  (None, 28, 28, 256)       0         \n",
            "                                                                 \n",
            " block4_conv1 (Conv2D)       (None, 28, 28, 512)       1180160   \n",
            "                                                                 \n",
            " block4_conv2 (Conv2D)       (None, 28, 28, 512)       2359808   \n",
            "                                                                 \n",
            " block4_conv3 (Conv2D)       (None, 28, 28, 512)       2359808   \n",
            "                                                                 \n",
            " block4_pool (MaxPooling2D)  (None, 14, 14, 512)       0         \n",
            "                                                                 \n",
            " block5_conv1 (Conv2D)       (None, 14, 14, 512)       2359808   \n",
            "                                                                 \n",
            " block5_conv2 (Conv2D)       (None, 14, 14, 512)       2359808   \n",
            "                                                                 \n",
            " block5_conv3 (Conv2D)       (None, 14, 14, 512)       2359808   \n",
            "                                                                 \n",
            " block5_pool (MaxPooling2D)  (None, 7, 7, 512)         0         \n",
            "                                                                 \n",
            "=================================================================\n",
            "Total params: 14,714,688\n",
            "Trainable params: 0\n",
            "Non-trainable params: 14,714,688\n",
            "_________________________________________________________________\n"
          ]
        }
      ],
      "source": [
        "baseModel.trainable = False\n",
        "baseModel.summary()"
      ]
    },
    {
      "attachments": {},
      "cell_type": "markdown",
      "metadata": {
        "id": "ENpg9P6Q6SpL"
      },
      "source": [
        "## Tahap Pembuatan Model\n"
      ]
    },
    {
      "cell_type": "code",
      "execution_count": 6,
      "metadata": {},
      "outputs": [
        {
          "name": "stdout",
          "output_type": "stream",
          "text": [
            "Model: \"model\"\n",
            "_________________________________________________________________\n",
            " Layer (type)                Output Shape              Param #   \n",
            "=================================================================\n",
            " input_1 (InputLayer)        [(None, 224, 224, 3)]     0         \n",
            "                                                                 \n",
            " block1_conv1 (Conv2D)       (None, 224, 224, 64)      1792      \n"
          ]
        },
        {
          "name": "stdout",
          "output_type": "stream",
          "text": [
            "                                                                 \n",
            " block1_conv2 (Conv2D)       (None, 224, 224, 64)      36928     \n",
            "                                                                 \n",
            " block1_pool (MaxPooling2D)  (None, 112, 112, 64)      0         \n",
            "                                                                 \n",
            " block2_conv1 (Conv2D)       (None, 112, 112, 128)     73856     \n",
            "                                                                 \n",
            " block2_conv2 (Conv2D)       (None, 112, 112, 128)     147584    \n",
            "                                                                 \n",
            " block2_pool (MaxPooling2D)  (None, 56, 56, 128)       0         \n",
            "                                                                 \n",
            " block3_conv1 (Conv2D)       (None, 56, 56, 256)       295168    \n",
            "                                                                 \n",
            " block3_conv2 (Conv2D)       (None, 56, 56, 256)       590080    \n",
            "                                                                 \n",
            " block3_conv3 (Conv2D)       (None, 56, 56, 256)       590080    \n",
            "                                                                 \n",
            " block3_pool (MaxPooling2D)  (None, 28, 28, 256)       0         \n",
            "                                                                 \n",
            " block4_conv1 (Conv2D)       (None, 28, 28, 512)       1180160   \n",
            "                                                                 \n",
            " block4_conv2 (Conv2D)       (None, 28, 28, 512)       2359808   \n",
            "                                                                 \n",
            " block4_conv3 (Conv2D)       (None, 28, 28, 512)       2359808   \n",
            "                                                                 \n",
            " block4_pool (MaxPooling2D)  (None, 14, 14, 512)       0         \n",
            "                                                                 \n",
            " block5_conv1 (Conv2D)       (None, 14, 14, 512)       2359808   \n",
            "                                                                 \n",
            " block5_conv2 (Conv2D)       (None, 14, 14, 512)       2359808   \n",
            "                                                                 \n",
            " block5_conv3 (Conv2D)       (None, 14, 14, 512)       2359808   \n",
            "                                                                 \n",
            " block5_pool (MaxPooling2D)  (None, 7, 7, 512)         0         \n",
            "                                                                 \n",
            " average_pooling2d (AverageP  (None, 1, 1, 512)        0         \n",
            " ooling2D)                                                       \n",
            "                                                                 \n",
            " flatten (Flatten)           (None, 512)               0         \n",
            "                                                                 \n",
            " dense (Dense)               (None, 128)               65664     \n",
            "                                                                 \n",
            " dropout (Dropout)           (None, 128)               0         \n",
            "                                                                 \n",
            " dense_1 (Dense)             (None, 2)                 258       \n",
            "                                                                 \n",
            "=================================================================\n",
            "Total params: 14,780,610\n",
            "Trainable params: 65,922\n",
            "Non-trainable params: 14,714,688\n",
            "_________________________________________________________________\n"
          ]
        }
      ],
      "source": [
        "# Membentuk bagian head dari model yang akan ditempatkan pada base model\n",
        "headModel = baseModel.output\n",
        "headModel = AveragePooling2D(pool_size=(7, 7))(headModel)\n",
        "headModel = Flatten(name=\"flatten\")(headModel)\n",
        "headModel = Dense(128, activation=\"relu\")(headModel)\n",
        "headModel = Dropout(0.5)(headModel)\n",
        "headModel = Dense(2, activation=\"softmax\")(headModel)\n",
        " \n",
        "# Menempatkan head model pada base model\n",
        "model = Model(inputs=baseModel.input, outputs=headModel)\n",
        "model.summary()\n",
        "\n"
      ]
    },
    {
      "cell_type": "code",
      "execution_count": 7,
      "metadata": {
        "colab": {
          "base_uri": "https://localhost:8080/"
        },
        "id": "WXEyXB5NTU13",
        "outputId": "c5f827c0-3a25-4e98-8b38-2d9a88076619"
      },
      "outputs": [
        {
          "name": "stdout",
          "output_type": "stream",
          "text": [
            "Mengkompilasi model...\n",
            "fold 1\n",
            "Training head model...\n",
            "Epoch 1/30\n",
            "33/33 [==============================] - 53s 1s/step - loss: 0.7285 - accuracy: 0.5338 - val_loss: 0.6582 - val_accuracy: 0.8408\n",
            "Epoch 2/30\n",
            "33/33 [==============================] - 18s 555ms/step - loss: 0.6833 - accuracy: 0.5986 - val_loss: 0.6080 - val_accuracy: 0.9401\n",
            "Epoch 3/30\n",
            "33/33 [==============================] - 18s 547ms/step - loss: 0.6254 - accuracy: 0.6915 - val_loss: 0.5572 - val_accuracy: 0.9419\n",
            "Epoch 4/30\n",
            "33/33 [==============================] - 20s 590ms/step - loss: 0.5718 - accuracy: 0.7805 - val_loss: 0.5138 - val_accuracy: 0.9419\n",
            "Epoch 5/30\n",
            "33/33 [==============================] - 18s 558ms/step - loss: 0.5396 - accuracy: 0.8095 - val_loss: 0.4714 - val_accuracy: 0.9513\n",
            "Epoch 6/30\n",
            "33/33 [==============================] - 19s 575ms/step - loss: 0.4956 - accuracy: 0.8588 - val_loss: 0.4342 - val_accuracy: 0.9551\n",
            "Epoch 7/30\n",
            "33/33 [==============================] - 19s 563ms/step - loss: 0.4568 - accuracy: 0.8878 - val_loss: 0.4008 - val_accuracy: 0.9532\n",
            "Epoch 8/30\n",
            "33/33 [==============================] - 19s 576ms/step - loss: 0.4288 - accuracy: 0.8907 - val_loss: 0.3678 - val_accuracy: 0.9607\n",
            "Epoch 9/30\n",
            "33/33 [==============================] - 19s 563ms/step - loss: 0.3961 - accuracy: 0.9252 - val_loss: 0.3386 - val_accuracy: 0.9625\n",
            "Epoch 10/30\n",
            "33/33 [==============================] - 18s 544ms/step - loss: 0.3721 - accuracy: 0.9362 - val_loss: 0.3102 - val_accuracy: 0.9644\n",
            "Epoch 11/30\n",
            "33/33 [==============================] - 18s 550ms/step - loss: 0.3394 - accuracy: 0.9439 - val_loss: 0.2866 - val_accuracy: 0.9663\n",
            "Epoch 12/30\n",
            "33/33 [==============================] - 18s 545ms/step - loss: 0.3237 - accuracy: 0.9516 - val_loss: 0.2627 - val_accuracy: 0.9663\n",
            "Epoch 13/30\n",
            "33/33 [==============================] - 18s 545ms/step - loss: 0.2957 - accuracy: 0.9526 - val_loss: 0.2470 - val_accuracy: 0.9644\n",
            "Epoch 14/30\n",
            "33/33 [==============================] - 18s 547ms/step - loss: 0.2813 - accuracy: 0.9507 - val_loss: 0.2294 - val_accuracy: 0.9644\n",
            "Epoch 15/30\n",
            "33/33 [==============================] - 19s 559ms/step - loss: 0.2564 - accuracy: 0.9613 - val_loss: 0.2112 - val_accuracy: 0.9663\n",
            "Epoch 16/30\n",
            "33/33 [==============================] - 19s 568ms/step - loss: 0.2424 - accuracy: 0.9681 - val_loss: 0.1974 - val_accuracy: 0.9663\n",
            "Epoch 17/30\n",
            "33/33 [==============================] - 19s 595ms/step - loss: 0.2311 - accuracy: 0.9662 - val_loss: 0.1854 - val_accuracy: 0.9663\n",
            "Epoch 18/30\n",
            "33/33 [==============================] - 19s 582ms/step - loss: 0.2208 - accuracy: 0.9623 - val_loss: 0.1731 - val_accuracy: 0.9663\n",
            "Epoch 19/30\n",
            "33/33 [==============================] - 20s 597ms/step - loss: 0.2093 - accuracy: 0.9700 - val_loss: 0.1639 - val_accuracy: 0.9663\n",
            "Epoch 20/30\n",
            "33/33 [==============================] - 20s 606ms/step - loss: 0.2054 - accuracy: 0.9710 - val_loss: 0.1553 - val_accuracy: 0.9682\n",
            "Epoch 21/30\n",
            "33/33 [==============================] - 19s 560ms/step - loss: 0.1855 - accuracy: 0.9662 - val_loss: 0.1434 - val_accuracy: 0.9719\n",
            "Epoch 22/30\n",
            "33/33 [==============================] - 19s 575ms/step - loss: 0.1768 - accuracy: 0.9739 - val_loss: 0.1353 - val_accuracy: 0.9719\n",
            "Epoch 23/30\n",
            "33/33 [==============================] - 19s 571ms/step - loss: 0.1725 - accuracy: 0.9710 - val_loss: 0.1265 - val_accuracy: 0.9775\n",
            "Epoch 24/30\n",
            "33/33 [==============================] - 20s 590ms/step - loss: 0.1608 - accuracy: 0.9749 - val_loss: 0.1236 - val_accuracy: 0.9738\n",
            "Epoch 25/30\n",
            "33/33 [==============================] - 20s 607ms/step - loss: 0.1499 - accuracy: 0.9749 - val_loss: 0.1155 - val_accuracy: 0.9757\n",
            "Epoch 26/30\n",
            "33/33 [==============================] - 23s 708ms/step - loss: 0.1487 - accuracy: 0.9739 - val_loss: 0.1148 - val_accuracy: 0.9775\n",
            "Epoch 27/30\n",
            "33/33 [==============================] - 21s 633ms/step - loss: 0.1420 - accuracy: 0.9768 - val_loss: 0.1044 - val_accuracy: 0.9775\n",
            "Epoch 28/30\n",
            "33/33 [==============================] - 20s 607ms/step - loss: 0.1404 - accuracy: 0.9768 - val_loss: 0.1010 - val_accuracy: 0.9757\n",
            "Epoch 29/30\n",
            "33/33 [==============================] - 20s 610ms/step - loss: 0.1317 - accuracy: 0.9787 - val_loss: 0.0986 - val_accuracy: 0.9775\n",
            "Epoch 30/30\n",
            "33/33 [==============================] - 21s 620ms/step - loss: 0.1313 - accuracy: 0.9700 - val_loss: 0.0947 - val_accuracy: 0.9775\n",
            "Mengkompilasi model...\n",
            "fold 2\n",
            "Training head model...\n",
            "Epoch 1/30\n",
            "33/33 [==============================] - 31s 919ms/step - loss: 0.1155 - accuracy: 0.9749 - val_loss: 0.0926 - val_accuracy: 0.9756\n",
            "Epoch 2/30\n",
            "33/33 [==============================] - 20s 607ms/step - loss: 0.1179 - accuracy: 0.9710 - val_loss: 0.0859 - val_accuracy: 0.9794\n",
            "Epoch 3/30\n",
            "33/33 [==============================] - 21s 630ms/step - loss: 0.1069 - accuracy: 0.9816 - val_loss: 0.0847 - val_accuracy: 0.9775\n",
            "Epoch 4/30\n",
            "33/33 [==============================] - 22s 657ms/step - loss: 0.1049 - accuracy: 0.9758 - val_loss: 0.0824 - val_accuracy: 0.9775\n",
            "Epoch 5/30\n",
            "33/33 [==============================] - 21s 618ms/step - loss: 0.1019 - accuracy: 0.9729 - val_loss: 0.0760 - val_accuracy: 0.9775\n",
            "Epoch 6/30\n",
            "33/33 [==============================] - 20s 606ms/step - loss: 0.1048 - accuracy: 0.9758 - val_loss: 0.0804 - val_accuracy: 0.9737\n",
            "Epoch 7/30\n",
            "33/33 [==============================] - 20s 603ms/step - loss: 0.1007 - accuracy: 0.9758 - val_loss: 0.0720 - val_accuracy: 0.9775\n",
            "Epoch 8/30\n",
            "33/33 [==============================] - 20s 608ms/step - loss: 0.0903 - accuracy: 0.9836 - val_loss: 0.0685 - val_accuracy: 0.9812\n",
            "Epoch 9/30\n",
            "33/33 [==============================] - 21s 632ms/step - loss: 0.0858 - accuracy: 0.9787 - val_loss: 0.0731 - val_accuracy: 0.9756\n",
            "Epoch 10/30\n",
            "33/33 [==============================] - 20s 614ms/step - loss: 0.0926 - accuracy: 0.9797 - val_loss: 0.0694 - val_accuracy: 0.9756\n",
            "Epoch 11/30\n",
            "33/33 [==============================] - 20s 615ms/step - loss: 0.0865 - accuracy: 0.9797 - val_loss: 0.0680 - val_accuracy: 0.9756\n",
            "Epoch 12/30\n",
            "33/33 [==============================] - 19s 583ms/step - loss: 0.0837 - accuracy: 0.9778 - val_loss: 0.0667 - val_accuracy: 0.9756\n",
            "Epoch 13/30\n",
            "33/33 [==============================] - 20s 613ms/step - loss: 0.0794 - accuracy: 0.9807 - val_loss: 0.0623 - val_accuracy: 0.9812\n",
            "Epoch 14/30\n",
            "33/33 [==============================] - 20s 613ms/step - loss: 0.0751 - accuracy: 0.9865 - val_loss: 0.0612 - val_accuracy: 0.9812\n",
            "Epoch 15/30\n",
            "33/33 [==============================] - 22s 676ms/step - loss: 0.0730 - accuracy: 0.9797 - val_loss: 0.0583 - val_accuracy: 0.9812\n",
            "Epoch 16/30\n",
            "33/33 [==============================] - 22s 675ms/step - loss: 0.0798 - accuracy: 0.9836 - val_loss: 0.0608 - val_accuracy: 0.9812\n",
            "Epoch 17/30\n",
            "33/33 [==============================] - 23s 707ms/step - loss: 0.0736 - accuracy: 0.9855 - val_loss: 0.0556 - val_accuracy: 0.9812\n",
            "Epoch 18/30\n",
            "33/33 [==============================] - 21s 641ms/step - loss: 0.0762 - accuracy: 0.9807 - val_loss: 0.0585 - val_accuracy: 0.9812\n",
            "Epoch 19/30\n",
            "33/33 [==============================] - 23s 709ms/step - loss: 0.0681 - accuracy: 0.9826 - val_loss: 0.0552 - val_accuracy: 0.9812\n",
            "Epoch 20/30\n",
            "33/33 [==============================] - 21s 624ms/step - loss: 0.0646 - accuracy: 0.9874 - val_loss: 0.0578 - val_accuracy: 0.9794\n",
            "Epoch 21/30\n",
            "33/33 [==============================] - 24s 727ms/step - loss: 0.0600 - accuracy: 0.9855 - val_loss: 0.0519 - val_accuracy: 0.9812\n",
            "Epoch 22/30\n",
            "33/33 [==============================] - 23s 683ms/step - loss: 0.0649 - accuracy: 0.9826 - val_loss: 0.0518 - val_accuracy: 0.9812\n",
            "Epoch 23/30\n",
            "33/33 [==============================] - 21s 641ms/step - loss: 0.0641 - accuracy: 0.9768 - val_loss: 0.0516 - val_accuracy: 0.9812\n",
            "Epoch 24/30\n",
            "33/33 [==============================] - 22s 674ms/step - loss: 0.0630 - accuracy: 0.9874 - val_loss: 0.0556 - val_accuracy: 0.9794\n",
            "Epoch 25/30\n",
            "33/33 [==============================] - 21s 635ms/step - loss: 0.0682 - accuracy: 0.9836 - val_loss: 0.0497 - val_accuracy: 0.9812\n",
            "Epoch 26/30\n",
            "33/33 [==============================] - 22s 656ms/step - loss: 0.0631 - accuracy: 0.9836 - val_loss: 0.0490 - val_accuracy: 0.9812\n",
            "Epoch 27/30\n",
            "33/33 [==============================] - 23s 689ms/step - loss: 0.0716 - accuracy: 0.9720 - val_loss: 0.0548 - val_accuracy: 0.9794\n",
            "Epoch 28/30\n",
            "33/33 [==============================] - 21s 648ms/step - loss: 0.0659 - accuracy: 0.9826 - val_loss: 0.0496 - val_accuracy: 0.9812\n",
            "Epoch 29/30\n",
            "33/33 [==============================] - 23s 680ms/step - loss: 0.0586 - accuracy: 0.9836 - val_loss: 0.0512 - val_accuracy: 0.9812\n",
            "Epoch 30/30\n",
            "33/33 [==============================] - 23s 681ms/step - loss: 0.0652 - accuracy: 0.9807 - val_loss: 0.0503 - val_accuracy: 0.9812\n",
            "Mengkompilasi model...\n",
            "fold 3\n",
            "Training head model...\n",
            "Epoch 1/30\n",
            "33/33 [==============================] - 28s 788ms/step - loss: 0.0597 - accuracy: 0.9836 - val_loss: 0.0396 - val_accuracy: 0.9887\n",
            "Epoch 2/30\n",
            "33/33 [==============================] - 25s 757ms/step - loss: 0.0619 - accuracy: 0.9816 - val_loss: 0.0383 - val_accuracy: 0.9887\n",
            "Epoch 3/30\n",
            "33/33 [==============================] - 26s 777ms/step - loss: 0.0647 - accuracy: 0.9816 - val_loss: 0.0378 - val_accuracy: 0.9887\n",
            "Epoch 4/30\n",
            "33/33 [==============================] - 25s 766ms/step - loss: 0.0723 - accuracy: 0.9778 - val_loss: 0.0377 - val_accuracy: 0.9887\n",
            "Epoch 5/30\n",
            "33/33 [==============================] - 23s 689ms/step - loss: 0.0565 - accuracy: 0.9826 - val_loss: 0.0375 - val_accuracy: 0.9887\n",
            "Epoch 6/30\n",
            "33/33 [==============================] - 23s 699ms/step - loss: 0.0678 - accuracy: 0.9787 - val_loss: 0.0373 - val_accuracy: 0.9887\n",
            "Epoch 7/30\n",
            "33/33 [==============================] - 23s 693ms/step - loss: 0.0585 - accuracy: 0.9787 - val_loss: 0.0376 - val_accuracy: 0.9887\n",
            "Epoch 8/30\n",
            "33/33 [==============================] - 22s 649ms/step - loss: 0.0545 - accuracy: 0.9845 - val_loss: 0.0362 - val_accuracy: 0.9887\n",
            "Epoch 9/30\n",
            "33/33 [==============================] - 23s 702ms/step - loss: 0.0570 - accuracy: 0.9826 - val_loss: 0.0370 - val_accuracy: 0.9887\n",
            "Epoch 10/30\n",
            "33/33 [==============================] - 23s 698ms/step - loss: 0.0646 - accuracy: 0.9758 - val_loss: 0.0373 - val_accuracy: 0.9887\n",
            "Epoch 11/30\n",
            "33/33 [==============================] - 24s 727ms/step - loss: 0.0626 - accuracy: 0.9797 - val_loss: 0.0349 - val_accuracy: 0.9887\n",
            "Epoch 12/30\n",
            "33/33 [==============================] - 23s 686ms/step - loss: 0.0604 - accuracy: 0.9816 - val_loss: 0.0366 - val_accuracy: 0.9887\n",
            "Epoch 13/30\n",
            "33/33 [==============================] - 22s 663ms/step - loss: 0.0591 - accuracy: 0.9836 - val_loss: 0.0351 - val_accuracy: 0.9887\n",
            "Epoch 14/30\n",
            "33/33 [==============================] - 25s 766ms/step - loss: 0.0479 - accuracy: 0.9855 - val_loss: 0.0351 - val_accuracy: 0.9887\n",
            "Epoch 15/30\n",
            "33/33 [==============================] - 25s 758ms/step - loss: 0.0515 - accuracy: 0.9865 - val_loss: 0.0356 - val_accuracy: 0.9887\n",
            "Epoch 16/30\n",
            "33/33 [==============================] - 25s 749ms/step - loss: 0.0558 - accuracy: 0.9816 - val_loss: 0.0356 - val_accuracy: 0.9887\n",
            "Epoch 17/30\n",
            "33/33 [==============================] - 22s 657ms/step - loss: 0.0487 - accuracy: 0.9894 - val_loss: 0.0337 - val_accuracy: 0.9887\n",
            "Epoch 18/30\n",
            "33/33 [==============================] - 21s 647ms/step - loss: 0.0479 - accuracy: 0.9845 - val_loss: 0.0346 - val_accuracy: 0.9887\n",
            "Epoch 19/30\n",
            "33/33 [==============================] - 21s 645ms/step - loss: 0.0504 - accuracy: 0.9855 - val_loss: 0.0363 - val_accuracy: 0.9887\n",
            "Epoch 20/30\n",
            "33/33 [==============================] - 23s 682ms/step - loss: 0.0544 - accuracy: 0.9826 - val_loss: 0.0336 - val_accuracy: 0.9887\n",
            "Epoch 21/30\n",
            "33/33 [==============================] - 23s 707ms/step - loss: 0.0431 - accuracy: 0.9874 - val_loss: 0.0325 - val_accuracy: 0.9887\n",
            "Epoch 22/30\n",
            "33/33 [==============================] - 22s 671ms/step - loss: 0.0543 - accuracy: 0.9816 - val_loss: 0.0340 - val_accuracy: 0.9887\n",
            "Epoch 23/30\n",
            "33/33 [==============================] - 29s 897ms/step - loss: 0.0469 - accuracy: 0.9884 - val_loss: 0.0338 - val_accuracy: 0.9887\n",
            "Epoch 24/30\n",
            "33/33 [==============================] - 22s 668ms/step - loss: 0.0398 - accuracy: 0.9894 - val_loss: 0.0338 - val_accuracy: 0.9887\n",
            "Epoch 25/30\n",
            "33/33 [==============================] - 23s 679ms/step - loss: 0.0481 - accuracy: 0.9807 - val_loss: 0.0315 - val_accuracy: 0.9906\n",
            "Epoch 26/30\n",
            "33/33 [==============================] - 22s 658ms/step - loss: 0.0399 - accuracy: 0.9913 - val_loss: 0.0318 - val_accuracy: 0.9887\n",
            "Epoch 27/30\n",
            "33/33 [==============================] - 23s 696ms/step - loss: 0.0445 - accuracy: 0.9826 - val_loss: 0.0332 - val_accuracy: 0.9887\n",
            "Epoch 28/30\n",
            "33/33 [==============================] - 23s 685ms/step - loss: 0.0526 - accuracy: 0.9816 - val_loss: 0.0331 - val_accuracy: 0.9887\n",
            "Epoch 29/30\n",
            "33/33 [==============================] - 29s 875ms/step - loss: 0.0566 - accuracy: 0.9836 - val_loss: 0.0326 - val_accuracy: 0.9887\n",
            "Epoch 30/30\n",
            "33/33 [==============================] - 23s 681ms/step - loss: 0.0440 - accuracy: 0.9855 - val_loss: 0.0325 - val_accuracy: 0.9887\n"
          ]
        },
        {
          "ename": "ResourceExhaustedError",
          "evalue": "Graph execution error:\n\nDetected at node 'model/block1_conv2/Relu' defined at (most recent call last):\n    File \"c:\\Users\\georg\\anaconda3\\envs\\tf\\lib\\runpy.py\", line 197, in _run_module_as_main\n      return _run_code(code, main_globals, None,\n    File \"c:\\Users\\georg\\anaconda3\\envs\\tf\\lib\\runpy.py\", line 87, in _run_code\n      exec(code, run_globals)\n    File \"c:\\Users\\georg\\anaconda3\\envs\\tf\\lib\\site-packages\\ipykernel_launcher.py\", line 17, in <module>\n      app.launch_new_instance()\n    File \"c:\\Users\\georg\\anaconda3\\envs\\tf\\lib\\site-packages\\traitlets\\config\\application.py\", line 1043, in launch_instance\n      app.start()\n    File \"c:\\Users\\georg\\anaconda3\\envs\\tf\\lib\\site-packages\\ipykernel\\kernelapp.py\", line 736, in start\n      self.io_loop.start()\n    File \"c:\\Users\\georg\\anaconda3\\envs\\tf\\lib\\site-packages\\tornado\\platform\\asyncio.py\", line 215, in start\n      self.asyncio_loop.run_forever()\n    File \"c:\\Users\\georg\\anaconda3\\envs\\tf\\lib\\asyncio\\base_events.py\", line 601, in run_forever\n      self._run_once()\n    File \"c:\\Users\\georg\\anaconda3\\envs\\tf\\lib\\asyncio\\base_events.py\", line 1905, in _run_once\n      handle._run()\n    File \"c:\\Users\\georg\\anaconda3\\envs\\tf\\lib\\asyncio\\events.py\", line 80, in _run\n      self._context.run(self._callback, *self._args)\n    File \"c:\\Users\\georg\\anaconda3\\envs\\tf\\lib\\site-packages\\ipykernel\\kernelbase.py\", line 516, in dispatch_queue\n      await self.process_one()\n    File \"c:\\Users\\georg\\anaconda3\\envs\\tf\\lib\\site-packages\\ipykernel\\kernelbase.py\", line 505, in process_one\n      await dispatch(*args)\n    File \"c:\\Users\\georg\\anaconda3\\envs\\tf\\lib\\site-packages\\ipykernel\\kernelbase.py\", line 412, in dispatch_shell\n      await result\n    File \"c:\\Users\\georg\\anaconda3\\envs\\tf\\lib\\site-packages\\ipykernel\\kernelbase.py\", line 740, in execute_request\n      reply_content = await reply_content\n    File \"c:\\Users\\georg\\anaconda3\\envs\\tf\\lib\\site-packages\\ipykernel\\ipkernel.py\", line 422, in do_execute\n      res = shell.run_cell(\n    File \"c:\\Users\\georg\\anaconda3\\envs\\tf\\lib\\site-packages\\ipykernel\\zmqshell.py\", line 546, in run_cell\n      return super().run_cell(*args, **kwargs)\n    File \"c:\\Users\\georg\\anaconda3\\envs\\tf\\lib\\site-packages\\IPython\\core\\interactiveshell.py\", line 3009, in run_cell\n      result = self._run_cell(\n    File \"c:\\Users\\georg\\anaconda3\\envs\\tf\\lib\\site-packages\\IPython\\core\\interactiveshell.py\", line 3064, in _run_cell\n      result = runner(coro)\n    File \"c:\\Users\\georg\\anaconda3\\envs\\tf\\lib\\site-packages\\IPython\\core\\async_helpers.py\", line 129, in _pseudo_sync_runner\n      coro.send(None)\n    File \"c:\\Users\\georg\\anaconda3\\envs\\tf\\lib\\site-packages\\IPython\\core\\interactiveshell.py\", line 3269, in run_cell_async\n      has_raised = await self.run_ast_nodes(code_ast.body, cell_name,\n    File \"c:\\Users\\georg\\anaconda3\\envs\\tf\\lib\\site-packages\\IPython\\core\\interactiveshell.py\", line 3448, in run_ast_nodes\n      if await self.run_code(code, result, async_=asy):\n    File \"c:\\Users\\georg\\anaconda3\\envs\\tf\\lib\\site-packages\\IPython\\core\\interactiveshell.py\", line 3508, in run_code\n      exec(code_obj, self.user_global_ns, self.user_ns)\n    File \"C:\\Users\\georg\\AppData\\Local\\Temp\\ipykernel_1564\\259930997.py\", line 22, in <module>\n      H = model.fit(\n    File \"c:\\Users\\georg\\anaconda3\\envs\\tf\\lib\\site-packages\\keras\\utils\\traceback_utils.py\", line 65, in error_handler\n      return fn(*args, **kwargs)\n    File \"c:\\Users\\georg\\anaconda3\\envs\\tf\\lib\\site-packages\\keras\\engine\\training.py\", line 1606, in fit\n      val_logs = self.evaluate(\n    File \"c:\\Users\\georg\\anaconda3\\envs\\tf\\lib\\site-packages\\keras\\utils\\traceback_utils.py\", line 65, in error_handler\n      return fn(*args, **kwargs)\n    File \"c:\\Users\\georg\\anaconda3\\envs\\tf\\lib\\site-packages\\keras\\engine\\training.py\", line 1947, in evaluate\n      tmp_logs = self.test_function(iterator)\n    File \"c:\\Users\\georg\\anaconda3\\envs\\tf\\lib\\site-packages\\keras\\engine\\training.py\", line 1727, in test_function\n      return step_function(self, iterator)\n    File \"c:\\Users\\georg\\anaconda3\\envs\\tf\\lib\\site-packages\\keras\\engine\\training.py\", line 1713, in step_function\n      outputs = model.distribute_strategy.run(run_step, args=(data,))\n    File \"c:\\Users\\georg\\anaconda3\\envs\\tf\\lib\\site-packages\\keras\\engine\\training.py\", line 1701, in run_step\n      outputs = model.test_step(data)\n    File \"c:\\Users\\georg\\anaconda3\\envs\\tf\\lib\\site-packages\\keras\\engine\\training.py\", line 1665, in test_step\n      y_pred = self(x, training=False)\n    File \"c:\\Users\\georg\\anaconda3\\envs\\tf\\lib\\site-packages\\keras\\utils\\traceback_utils.py\", line 65, in error_handler\n      return fn(*args, **kwargs)\n    File \"c:\\Users\\georg\\anaconda3\\envs\\tf\\lib\\site-packages\\keras\\engine\\training.py\", line 557, in __call__\n      return super().__call__(*args, **kwargs)\n    File \"c:\\Users\\georg\\anaconda3\\envs\\tf\\lib\\site-packages\\keras\\utils\\traceback_utils.py\", line 65, in error_handler\n      return fn(*args, **kwargs)\n    File \"c:\\Users\\georg\\anaconda3\\envs\\tf\\lib\\site-packages\\keras\\engine\\base_layer.py\", line 1097, in __call__\n      outputs = call_fn(inputs, *args, **kwargs)\n    File \"c:\\Users\\georg\\anaconda3\\envs\\tf\\lib\\site-packages\\keras\\utils\\traceback_utils.py\", line 96, in error_handler\n      return fn(*args, **kwargs)\n    File \"c:\\Users\\georg\\anaconda3\\envs\\tf\\lib\\site-packages\\keras\\engine\\functional.py\", line 510, in call\n      return self._run_internal_graph(inputs, training=training, mask=mask)\n    File \"c:\\Users\\georg\\anaconda3\\envs\\tf\\lib\\site-packages\\keras\\engine\\functional.py\", line 667, in _run_internal_graph\n      outputs = node.layer(*args, **kwargs)\n    File \"c:\\Users\\georg\\anaconda3\\envs\\tf\\lib\\site-packages\\keras\\utils\\traceback_utils.py\", line 65, in error_handler\n      return fn(*args, **kwargs)\n    File \"c:\\Users\\georg\\anaconda3\\envs\\tf\\lib\\site-packages\\keras\\engine\\base_layer.py\", line 1097, in __call__\n      outputs = call_fn(inputs, *args, **kwargs)\n    File \"c:\\Users\\georg\\anaconda3\\envs\\tf\\lib\\site-packages\\keras\\utils\\traceback_utils.py\", line 96, in error_handler\n      return fn(*args, **kwargs)\n    File \"c:\\Users\\georg\\anaconda3\\envs\\tf\\lib\\site-packages\\keras\\layers\\convolutional\\base_conv.py\", line 314, in call\n      return self.activation(outputs)\n    File \"c:\\Users\\georg\\anaconda3\\envs\\tf\\lib\\site-packages\\keras\\activations.py\", line 317, in relu\n      return backend.relu(\n    File \"c:\\Users\\georg\\anaconda3\\envs\\tf\\lib\\site-packages\\keras\\backend.py\", line 5366, in relu\n      x = tf.nn.relu(x)\nNode: 'model/block1_conv2/Relu'\nOOM when allocating tensor with shape[32,64,224,224] and type float on /job:localhost/replica:0/task:0/device:GPU:0 by allocator GPU_0_bfc\n\t [[{{node model/block1_conv2/Relu}}]]\nHint: If you want to see a list of allocated tensors when OOM happens, add report_tensor_allocations_upon_oom to RunOptions for current allocation info. This isn't available when running in Eager mode.\n [Op:__inference_test_function_17315]",
          "output_type": "error",
          "traceback": [
            "\u001b[1;31m---------------------------------------------------------------------------\u001b[0m",
            "\u001b[1;31mResourceExhaustedError\u001b[0m                    Traceback (most recent call last)",
            "Cell \u001b[1;32mIn[7], line 29\u001b[0m\n\u001b[0;32m     20\u001b[0m \u001b[39mprint\u001b[39m(\u001b[39m\"\u001b[39m\u001b[39mTraining head model...\u001b[39m\u001b[39m\"\u001b[39m)\n\u001b[0;32m     22\u001b[0m H \u001b[39m=\u001b[39m model\u001b[39m.\u001b[39mfit(\n\u001b[0;32m     23\u001b[0m     aug\u001b[39m.\u001b[39mflow(train_data, train_labels, batch_size\u001b[39m=\u001b[39mBS),\n\u001b[0;32m     24\u001b[0m     steps_per_epoch\u001b[39m=\u001b[39m\u001b[39mlen\u001b[39m(train_data) \u001b[39m/\u001b[39m\u001b[39m/\u001b[39m BS,\n\u001b[0;32m     25\u001b[0m     validation_data\u001b[39m=\u001b[39m(test_data, test_labels),\n\u001b[0;32m     26\u001b[0m     validation_steps\u001b[39m=\u001b[39m\u001b[39mlen\u001b[39m(test_data) \u001b[39m/\u001b[39m\u001b[39m/\u001b[39m BS,\n\u001b[0;32m     27\u001b[0m     epochs\u001b[39m=\u001b[39mEPOCHS)\n\u001b[1;32m---> 29\u001b[0m loss, accuracy \u001b[39m=\u001b[39m model\u001b[39m.\u001b[39;49mevaluate(test_data, test_labels, verbose\u001b[39m=\u001b[39;49m\u001b[39m0\u001b[39;49m)\n\u001b[0;32m     30\u001b[0m fold_accuracies\u001b[39m.\u001b[39mappend(accuracy)\n\u001b[0;32m     32\u001b[0m fold \u001b[39m+\u001b[39m\u001b[39m=\u001b[39m \u001b[39m1\u001b[39m\n",
            "File \u001b[1;32mc:\\Users\\georg\\anaconda3\\envs\\tf\\lib\\site-packages\\keras\\utils\\traceback_utils.py:70\u001b[0m, in \u001b[0;36mfilter_traceback.<locals>.error_handler\u001b[1;34m(*args, **kwargs)\u001b[0m\n\u001b[0;32m     67\u001b[0m     filtered_tb \u001b[39m=\u001b[39m _process_traceback_frames(e\u001b[39m.\u001b[39m__traceback__)\n\u001b[0;32m     68\u001b[0m     \u001b[39m# To get the full stack trace, call:\u001b[39;00m\n\u001b[0;32m     69\u001b[0m     \u001b[39m# `tf.debugging.disable_traceback_filtering()`\u001b[39;00m\n\u001b[1;32m---> 70\u001b[0m     \u001b[39mraise\u001b[39;00m e\u001b[39m.\u001b[39mwith_traceback(filtered_tb) \u001b[39mfrom\u001b[39;00m \u001b[39mNone\u001b[39;00m\n\u001b[0;32m     71\u001b[0m \u001b[39mfinally\u001b[39;00m:\n\u001b[0;32m     72\u001b[0m     \u001b[39mdel\u001b[39;00m filtered_tb\n",
            "File \u001b[1;32mc:\\Users\\georg\\anaconda3\\envs\\tf\\lib\\site-packages\\tensorflow\\python\\eager\\execute.py:54\u001b[0m, in \u001b[0;36mquick_execute\u001b[1;34m(op_name, num_outputs, inputs, attrs, ctx, name)\u001b[0m\n\u001b[0;32m     52\u001b[0m \u001b[39mtry\u001b[39;00m:\n\u001b[0;32m     53\u001b[0m   ctx\u001b[39m.\u001b[39mensure_initialized()\n\u001b[1;32m---> 54\u001b[0m   tensors \u001b[39m=\u001b[39m pywrap_tfe\u001b[39m.\u001b[39mTFE_Py_Execute(ctx\u001b[39m.\u001b[39m_handle, device_name, op_name,\n\u001b[0;32m     55\u001b[0m                                       inputs, attrs, num_outputs)\n\u001b[0;32m     56\u001b[0m \u001b[39mexcept\u001b[39;00m core\u001b[39m.\u001b[39m_NotOkStatusException \u001b[39mas\u001b[39;00m e:\n\u001b[0;32m     57\u001b[0m   \u001b[39mif\u001b[39;00m name \u001b[39mis\u001b[39;00m \u001b[39mnot\u001b[39;00m \u001b[39mNone\u001b[39;00m:\n",
            "\u001b[1;31mResourceExhaustedError\u001b[0m: Graph execution error:\n\nDetected at node 'model/block1_conv2/Relu' defined at (most recent call last):\n    File \"c:\\Users\\georg\\anaconda3\\envs\\tf\\lib\\runpy.py\", line 197, in _run_module_as_main\n      return _run_code(code, main_globals, None,\n    File \"c:\\Users\\georg\\anaconda3\\envs\\tf\\lib\\runpy.py\", line 87, in _run_code\n      exec(code, run_globals)\n    File \"c:\\Users\\georg\\anaconda3\\envs\\tf\\lib\\site-packages\\ipykernel_launcher.py\", line 17, in <module>\n      app.launch_new_instance()\n    File \"c:\\Users\\georg\\anaconda3\\envs\\tf\\lib\\site-packages\\traitlets\\config\\application.py\", line 1043, in launch_instance\n      app.start()\n    File \"c:\\Users\\georg\\anaconda3\\envs\\tf\\lib\\site-packages\\ipykernel\\kernelapp.py\", line 736, in start\n      self.io_loop.start()\n    File \"c:\\Users\\georg\\anaconda3\\envs\\tf\\lib\\site-packages\\tornado\\platform\\asyncio.py\", line 215, in start\n      self.asyncio_loop.run_forever()\n    File \"c:\\Users\\georg\\anaconda3\\envs\\tf\\lib\\asyncio\\base_events.py\", line 601, in run_forever\n      self._run_once()\n    File \"c:\\Users\\georg\\anaconda3\\envs\\tf\\lib\\asyncio\\base_events.py\", line 1905, in _run_once\n      handle._run()\n    File \"c:\\Users\\georg\\anaconda3\\envs\\tf\\lib\\asyncio\\events.py\", line 80, in _run\n      self._context.run(self._callback, *self._args)\n    File \"c:\\Users\\georg\\anaconda3\\envs\\tf\\lib\\site-packages\\ipykernel\\kernelbase.py\", line 516, in dispatch_queue\n      await self.process_one()\n    File \"c:\\Users\\georg\\anaconda3\\envs\\tf\\lib\\site-packages\\ipykernel\\kernelbase.py\", line 505, in process_one\n      await dispatch(*args)\n    File \"c:\\Users\\georg\\anaconda3\\envs\\tf\\lib\\site-packages\\ipykernel\\kernelbase.py\", line 412, in dispatch_shell\n      await result\n    File \"c:\\Users\\georg\\anaconda3\\envs\\tf\\lib\\site-packages\\ipykernel\\kernelbase.py\", line 740, in execute_request\n      reply_content = await reply_content\n    File \"c:\\Users\\georg\\anaconda3\\envs\\tf\\lib\\site-packages\\ipykernel\\ipkernel.py\", line 422, in do_execute\n      res = shell.run_cell(\n    File \"c:\\Users\\georg\\anaconda3\\envs\\tf\\lib\\site-packages\\ipykernel\\zmqshell.py\", line 546, in run_cell\n      return super().run_cell(*args, **kwargs)\n    File \"c:\\Users\\georg\\anaconda3\\envs\\tf\\lib\\site-packages\\IPython\\core\\interactiveshell.py\", line 3009, in run_cell\n      result = self._run_cell(\n    File \"c:\\Users\\georg\\anaconda3\\envs\\tf\\lib\\site-packages\\IPython\\core\\interactiveshell.py\", line 3064, in _run_cell\n      result = runner(coro)\n    File \"c:\\Users\\georg\\anaconda3\\envs\\tf\\lib\\site-packages\\IPython\\core\\async_helpers.py\", line 129, in _pseudo_sync_runner\n      coro.send(None)\n    File \"c:\\Users\\georg\\anaconda3\\envs\\tf\\lib\\site-packages\\IPython\\core\\interactiveshell.py\", line 3269, in run_cell_async\n      has_raised = await self.run_ast_nodes(code_ast.body, cell_name,\n    File \"c:\\Users\\georg\\anaconda3\\envs\\tf\\lib\\site-packages\\IPython\\core\\interactiveshell.py\", line 3448, in run_ast_nodes\n      if await self.run_code(code, result, async_=asy):\n    File \"c:\\Users\\georg\\anaconda3\\envs\\tf\\lib\\site-packages\\IPython\\core\\interactiveshell.py\", line 3508, in run_code\n      exec(code_obj, self.user_global_ns, self.user_ns)\n    File \"C:\\Users\\georg\\AppData\\Local\\Temp\\ipykernel_1564\\259930997.py\", line 22, in <module>\n      H = model.fit(\n    File \"c:\\Users\\georg\\anaconda3\\envs\\tf\\lib\\site-packages\\keras\\utils\\traceback_utils.py\", line 65, in error_handler\n      return fn(*args, **kwargs)\n    File \"c:\\Users\\georg\\anaconda3\\envs\\tf\\lib\\site-packages\\keras\\engine\\training.py\", line 1606, in fit\n      val_logs = self.evaluate(\n    File \"c:\\Users\\georg\\anaconda3\\envs\\tf\\lib\\site-packages\\keras\\utils\\traceback_utils.py\", line 65, in error_handler\n      return fn(*args, **kwargs)\n    File \"c:\\Users\\georg\\anaconda3\\envs\\tf\\lib\\site-packages\\keras\\engine\\training.py\", line 1947, in evaluate\n      tmp_logs = self.test_function(iterator)\n    File \"c:\\Users\\georg\\anaconda3\\envs\\tf\\lib\\site-packages\\keras\\engine\\training.py\", line 1727, in test_function\n      return step_function(self, iterator)\n    File \"c:\\Users\\georg\\anaconda3\\envs\\tf\\lib\\site-packages\\keras\\engine\\training.py\", line 1713, in step_function\n      outputs = model.distribute_strategy.run(run_step, args=(data,))\n    File \"c:\\Users\\georg\\anaconda3\\envs\\tf\\lib\\site-packages\\keras\\engine\\training.py\", line 1701, in run_step\n      outputs = model.test_step(data)\n    File \"c:\\Users\\georg\\anaconda3\\envs\\tf\\lib\\site-packages\\keras\\engine\\training.py\", line 1665, in test_step\n      y_pred = self(x, training=False)\n    File \"c:\\Users\\georg\\anaconda3\\envs\\tf\\lib\\site-packages\\keras\\utils\\traceback_utils.py\", line 65, in error_handler\n      return fn(*args, **kwargs)\n    File \"c:\\Users\\georg\\anaconda3\\envs\\tf\\lib\\site-packages\\keras\\engine\\training.py\", line 557, in __call__\n      return super().__call__(*args, **kwargs)\n    File \"c:\\Users\\georg\\anaconda3\\envs\\tf\\lib\\site-packages\\keras\\utils\\traceback_utils.py\", line 65, in error_handler\n      return fn(*args, **kwargs)\n    File \"c:\\Users\\georg\\anaconda3\\envs\\tf\\lib\\site-packages\\keras\\engine\\base_layer.py\", line 1097, in __call__\n      outputs = call_fn(inputs, *args, **kwargs)\n    File \"c:\\Users\\georg\\anaconda3\\envs\\tf\\lib\\site-packages\\keras\\utils\\traceback_utils.py\", line 96, in error_handler\n      return fn(*args, **kwargs)\n    File \"c:\\Users\\georg\\anaconda3\\envs\\tf\\lib\\site-packages\\keras\\engine\\functional.py\", line 510, in call\n      return self._run_internal_graph(inputs, training=training, mask=mask)\n    File \"c:\\Users\\georg\\anaconda3\\envs\\tf\\lib\\site-packages\\keras\\engine\\functional.py\", line 667, in _run_internal_graph\n      outputs = node.layer(*args, **kwargs)\n    File \"c:\\Users\\georg\\anaconda3\\envs\\tf\\lib\\site-packages\\keras\\utils\\traceback_utils.py\", line 65, in error_handler\n      return fn(*args, **kwargs)\n    File \"c:\\Users\\georg\\anaconda3\\envs\\tf\\lib\\site-packages\\keras\\engine\\base_layer.py\", line 1097, in __call__\n      outputs = call_fn(inputs, *args, **kwargs)\n    File \"c:\\Users\\georg\\anaconda3\\envs\\tf\\lib\\site-packages\\keras\\utils\\traceback_utils.py\", line 96, in error_handler\n      return fn(*args, **kwargs)\n    File \"c:\\Users\\georg\\anaconda3\\envs\\tf\\lib\\site-packages\\keras\\layers\\convolutional\\base_conv.py\", line 314, in call\n      return self.activation(outputs)\n    File \"c:\\Users\\georg\\anaconda3\\envs\\tf\\lib\\site-packages\\keras\\activations.py\", line 317, in relu\n      return backend.relu(\n    File \"c:\\Users\\georg\\anaconda3\\envs\\tf\\lib\\site-packages\\keras\\backend.py\", line 5366, in relu\n      x = tf.nn.relu(x)\nNode: 'model/block1_conv2/Relu'\nOOM when allocating tensor with shape[32,64,224,224] and type float on /job:localhost/replica:0/task:0/device:GPU:0 by allocator GPU_0_bfc\n\t [[{{node model/block1_conv2/Relu}}]]\nHint: If you want to see a list of allocated tensors when OOM happens, add report_tensor_allocations_upon_oom to RunOptions for current allocation info. This isn't available when running in Eager mode.\n [Op:__inference_test_function_17315]"
          ]
        }
      ],
      "source": [
        "from sklearn.model_selection import KFold\n",
        "\n",
        "kf = KFold(n_splits=3, shuffle=True)\n",
        "\n",
        "fold_accuracies = []\n",
        "\n",
        "# Perulangan pada seluruh base model\n",
        "fold = 1\n",
        "for train_index, test_index in kf.split(data):\n",
        "    print(\"Mengkompilasi model...\")\n",
        "    print(\"fold\", fold)\n",
        "\n",
        "    train_data, train_labels = data[train_index], labels[train_index]\n",
        "    test_data, test_labels = data[test_index], labels[test_index]\n",
        "\n",
        "    opt = tf.keras.optimizers.Adam(learning_rate=INIT_LR, decay=INIT_LR / EPOCHS)\n",
        "\n",
        "    model.compile(loss=\"binary_crossentropy\", optimizer=opt, metrics=[\"accuracy\"])\n",
        "\n",
        "    print(\"Training head model...\")\n",
        "\n",
        "    H = model.fit(\n",
        "        aug.flow(train_data, train_labels, batch_size=BS),\n",
        "        steps_per_epoch=len(train_data) // BS,\n",
        "        validation_data=(test_data, test_labels),\n",
        "        validation_steps=len(test_data) // BS,\n",
        "        epochs=EPOCHS)\n",
        "\n",
        "    loss, accuracy = model.evaluate(test_data, test_labels, verbose=0)\n",
        "    fold_accuracies.append(accuracy)\n",
        "\n",
        "    fold += 1\n",
        "\n",
        "# Print fold accuracies\n",
        "for fold, accuracy in enumerate(fold_accuracies, start=1):\n",
        "    print(f\"Fold {fold} - Accuracy: {accuracy:.4f}\")\n"
      ]
    },
    {
      "attachments": {},
      "cell_type": "markdown",
      "metadata": {
        "id": "3Mqe8nNB7lp8"
      },
      "source": [
        "## Evaluasi Jaringan\n"
      ]
    },
    {
      "cell_type": "code",
      "execution_count": 8,
      "metadata": {
        "colab": {
          "base_uri": "https://localhost:8080/"
        },
        "id": "HLxROO1pg7Em",
        "outputId": "a1c09ec8-8171-4997-ad03-415a0327d317"
      },
      "outputs": [
        {
          "name": "stdout",
          "output_type": "stream",
          "text": [
            "Average Accuracy: 0.9794\n",
            "Standard Deviation of Accuracy: 0.0019\n",
            "Best Fold: 2 with Accuracy = 0.9812\n",
            "Worst Fold: 1 with Accuracy = 0.9775\n"
          ]
        },
        {
          "data": {
            "image/png": "[encoded data removed]",
            "text/plain": [
              "<Figure size 700x400 with 1 Axes>"
            ]
          },
          "metadata": {},
          "output_type": "display_data"
        }
      ],
      "source": [
        "average_accuracy = np.mean(fold_accuracies)\n",
        "print(f\"Average Accuracy: {average_accuracy:.4f}\")\n",
        "\n",
        "# Standard deviation of accuracy across all folds\n",
        "std_accuracy = np.std(fold_accuracies)\n",
        "print(f\"Standard Deviation of Accuracy: {std_accuracy:.4f}\")\n",
        "\n",
        "# Find the best and worst fold\n",
        "best_fold = np.argmax(fold_accuracies)\n",
        "worst_fold = np.argmin(fold_accuracies)\n",
        "\n",
        "print(f\"Best Fold: {best_fold + 1} with Accuracy = {fold_accuracies[best_fold]:.4f}\")\n",
        "print(f\"Worst Fold: {worst_fold + 1} with Accuracy = {fold_accuracies[worst_fold]:.4f}\")\n",
        "\n",
        "# Plot the accuracy per fold\n",
        "plt.figure(figsize=(7, 4))\n",
        "plt.plot(range(1, len(fold_accuracies) + 1), fold_accuracies, marker='o')\n",
        "plt.xlabel('Fold')\n",
        "plt.ylabel('Accuracy')\n",
        "plt.title('Accuracy per Fold - K-Fold Cross Validation')\n",
        "plt.xticks(range(1, len(fold_accuracies) + 1))\n",
        "plt.grid(True)\n",
        "plt.show()"
      ]
    },
    {
      "cell_type": "code",
      "execution_count": null,
      "metadata": {},
      "outputs": [],
      "source": [
        "import numpy as np\n",
        "import matplotlib.pyplot as plt\n",
        "from sklearn.metrics import confusion_matrix\n",
        "import seaborn as sns\n",
        "\n",
        "\n",
        "# Calculate predictions for each fold\n",
        "predictions = []\n",
        "\n",
        "for train_index, test_index in kf.split(data):\n",
        "    train_data, train_labels = data[train_index], labels[train_index]\n",
        "    test_data, test_labels = data[test_index], labels[test_index]\n",
        "\n",
        "    # Compile and train the model as before\n",
        "\n",
        "    # Predict labels for test data\n",
        "    fold_predictions = model.predict_classes(test_data)\n",
        "    predictions.append(fold_predictions)\n",
        "\n",
        "# Combine predictions from all folds\n",
        "all_predictions = np.concatenate(predictions)\n",
        "\n",
        "# Create a confusion matrix\n",
        "conf_matrix = confusion_matrix(labels, all_predictions)\n",
        "\n",
        "# Plot the confusion matrix\n",
        "plt.figure(figsize=(8, 6))\n",
        "sns.heatmap(conf_matrix, annot=True, fmt=\"d\", cmap=\"Blues\", cbar=False)\n",
        "plt.xlabel('Predicted Labels')\n",
        "plt.ylabel('True Labels')\n",
        "plt.title('Confusion Matrix')\n",
        "plt.show()\n"
      ]
    }
  ],
  "metadata": {
    "accelerator": "GPU",
    "colab": {
      "collapsed_sections": [
        "njXIK_L3dVXx"
      ],
      "gpuType": "T4",
      "provenance": [],
      "toc_visible": true
    },
    "gpuClass": "standard",
    "kernelspec": {
      "display_name": "Python 3",
      "name": "python3"
    },
    "language_info": {
      "codemirror_mode": {
        "name": "ipython",
        "version": 3
      },
      "file_extension": ".py",
      "mimetype": "text/x-python",
      "name": "python",
      "nbconvert_exporter": "python",
      "pygments_lexer": "ipython3",
      "version": "3.9.17"
    }
  },
  "nbformat": 4,
  "nbformat_minor": 0
}
