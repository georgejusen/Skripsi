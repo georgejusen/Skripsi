{
  "cells": [
    {
      "attachments": {},
      "cell_type": "markdown",
      "metadata": {
        "id": "44JRqlK3IyFv"
      },
      "source": [
        "**Face Mask Detection**\n",
        "\n",
        "Program Machine Learning untuk mendeteksi penggunaan masker. Program dibuat menggunakan metode CNN dengan arsitektur VGG16Net dan MTCNN untuk face detection.\n"
      ]
    },
    {
      "attachments": {},
      "cell_type": "markdown",
      "metadata": {
        "id": "_BvjSZ30YhWh"
      },
      "source": [
        "## Mengimpor Libraries yang dibutuhkan\n"
      ]
    },
    {
      "cell_type": "code",
      "execution_count": 1,
      "metadata": {
        "colab": {
          "base_uri": "https://localhost:8080/"
        },
        "id": "W3Za-KOKf-Ot",
        "outputId": "24adee42-c900-4da4-e315-be0b6ebae6a5"
      },
      "outputs": [
        {
          "name": "stdout",
          "output_type": "stream",
          "text": [
            "Num GPUs Available:  1\n",
            "Thu Aug 31 10:13:40 2023       \n",
            "+---------------------------------------------------------------------------------------+\n",
            "| NVIDIA-SMI 537.13                 Driver Version: 537.13       CUDA Version: 12.2     |\n",
            "|-----------------------------------------+----------------------+----------------------+\n",
            "| GPU  Name                     TCC/WDDM  | Bus-Id        Disp.A | Volatile Uncorr. ECC |\n",
            "| Fan  Temp   Perf          Pwr:Usage/Cap |         Memory-Usage | GPU-Util  Compute M. |\n",
            "|                                         |                      |               MIG M. |\n",
            "|=========================================+======================+======================|\n",
            "|   0  NVIDIA GeForce GTX 1050      WDDM  | 00000000:01:00.0 Off |                  N/A |\n",
            "| N/A   51C    P0              N/A / ERR! |    140MiB /  3072MiB |      6%      Default |\n",
            "|                                         |                      |                  N/A |\n",
            "+-----------------------------------------+----------------------+----------------------+\n",
            "                                                                                         \n",
            "+---------------------------------------------------------------------------------------+\n",
            "| Processes:                                                                            |\n",
            "|  GPU   GI   CI        PID   Type   Process name                            GPU Memory |\n",
            "|        ID   ID                                                             Usage      |\n",
            "|=======================================================================================|\n",
            "|    0   N/A  N/A      5396      C   ...\\georg\\anaconda3\\envs\\tf\\python.exe    N/A      |\n",
            "+---------------------------------------------------------------------------------------+\n"
          ]
        }
      ],
      "source": [
        "import tensorflow as tf\n",
        "from tensorflow.keras.preprocessing.image import ImageDataGenerator\n",
        "from tensorflow.keras.applications import vgg16\n",
        "from tensorflow.keras.layers import AveragePooling2D\n",
        "from tensorflow.keras.layers import Dropout\n",
        "from tensorflow.keras.layers import Flatten\n",
        "from tensorflow.keras.layers import Dense\n",
        "from tensorflow.keras.layers import Input\n",
        "from tensorflow.keras.models import Model\n",
        "from tensorflow.keras.optimizers import Adam\n",
        "from tensorflow.keras.applications.mobilenet_v2 import preprocess_input\n",
        "from tensorflow.keras.preprocessing.image import img_to_array\n",
        "from tensorflow.keras.preprocessing.image import load_img\n",
        "from tensorflow.keras.utils import to_categorical\n",
        "from sklearn.preprocessing import LabelBinarizer\n",
        "from sklearn.model_selection import train_test_split\n",
        "from sklearn.metrics import classification_report\n",
        "from sklearn.metrics import confusion_matrix\n",
        "from imutils import paths\n",
        "import matplotlib.pyplot as plt\n",
        "import pathlib\n",
        "import numpy as np\n",
        "import argparse\n",
        "import os\n",
        "import itertools\n",
        "\n",
        "\n",
        "print(\"Num GPUs Available: \", len(tf.config.list_physical_devices('GPU')))\n",
        "tf.test.gpu_device_name()\n",
        "\n",
        "!nvidia-smi\n",
        "\n",
        "\n"
      ]
    },
    {
      "attachments": {},
      "cell_type": "markdown",
      "metadata": {
        "id": "ZU5Fqk2vLELg"
      },
      "source": [
        "## Preprocessing Datasets\n"
      ]
    },
    {
      "cell_type": "code",
      "execution_count": 2,
      "metadata": {
        "colab": {
          "base_uri": "https://localhost:8080/"
        },
        "id": "D48VICs21pna",
        "outputId": "cea2273f-1fce-4e75-d91a-b7d54b84edf2"
      },
      "outputs": [
        {
          "name": "stdout",
          "output_type": "stream",
          "text": [
            "Menginput gambar...\n"
          ]
        },
        {
          "name": "stderr",
          "output_type": "stream",
          "text": [
            "c:\\Users\\georg\\anaconda3\\envs\\tf\\lib\\site-packages\\PIL\\Image.py:979: UserWarning: Palette images with Transparency expressed in bytes should be converted to RGBA images\n",
            "  warnings.warn(\n"
          ]
        },
        {
          "name": "stdout",
          "output_type": "stream",
          "text": [
            "Input gambar berhasil\n"
          ]
        }
      ],
      "source": [
        "from PIL import Image\n",
        "from imutils import paths\n",
        "import os\n",
        "INIT_LR = 1e-4\n",
        "EPOCHS = 100\n",
        "BS = 32\n",
        "\n",
        "# Mengambil gambar dari dataset directory, kemudian inisialisasi data dan class gambar\n",
        "print(\"Menginput gambar...\")\n",
        "imagePaths = list(paths.list_images(\"dataset\"))  # Dataset Penelitian\n",
        "data = []\n",
        "labels = []\n",
        "\n",
        "# Melakukan perulangan pada image paths\n",
        "for imagePath in imagePaths:\n",
        "\n",
        "    # Mengekstrak class label dari filename\n",
        "    label = imagePath.split(os.path.sep)[-2]\n",
        "    # Memuat input gambar (224x224) dan melakukan proses\n",
        "    image = load_img(imagePath, target_size=(224, 224))\n",
        "    image = img_to_array(image)\n",
        "    image = preprocess_input(image)\n",
        "\n",
        "    # Mengupdate data dan labels lists, berurutan\n",
        "    data.append(image)\n",
        "    labels.append(label)\n",
        "\n",
        "# Mengkonversi data dan label ke dalam NumPy Arrays\n",
        "data = np.array(data, dtype=\"float32\")\n",
        "labels = np.array(labels)\n",
        "\n",
        "# Melakukan one-hot encoding on the labels\n",
        "lb = LabelBinarizer()\n",
        "labels = lb.fit_transform(labels)\n",
        "labels = to_categorical(labels)\n",
        "print(\"Input gambar berhasil\")"
      ]
    },
    {
      "attachments": {},
      "cell_type": "markdown",
      "metadata": {
        "id": "aF2vfrgni3tq"
      },
      "source": [
        "### Membuat objek ImageDataGenerator dan Data Augmentation\n"
      ]
    },
    {
      "cell_type": "code",
      "execution_count": 3,
      "metadata": {
        "colab": {
          "base_uri": "https://localhost:8080/"
        },
        "id": "tRBrygye5yvc",
        "outputId": "cbf33c6e-2b61-4896-a861-b723597e9581"
      },
      "outputs": [],
      "source": [
        "# Mempartisi data ke dalam pelatihan dan pengujian ( 80% : 20% )\n",
        "\n",
        "(trainX, testX, trainY, testY) = train_test_split(data, labels, test_size=0.30, stratify=labels, random_state=42)\n",
        "\n",
        "# Membentuk training image generator untuk data augmentation\n",
        "\n",
        "aug = ImageDataGenerator(\n",
        "    rotation_range=20,\n",
        "    zoom_range=0.15,\n",
        "    width_shift_range=0.2,\n",
        "    height_shift_range=0.2,\n",
        "    shear_range=0.15,\n",
        "    horizontal_flip=True,\n",
        "    fill_mode=\"nearest\")"
      ]
    },
    {
      "cell_type": "code",
      "execution_count": 4,
      "metadata": {},
      "outputs": [
        {
          "name": "stdout",
          "output_type": "stream",
          "text": [
            "Jumlah data pelatihan: 3066  Citra\n",
            "Jumlah data pengujian: 767  Citra\n"
          ]
        }
      ],
      "source": [
        "# Melihat jumlah data dalam set pelatihan\n",
        "num_train_samples = trainX.shape[0]\n",
        "print(\"Jumlah data pelatihan:\", num_train_samples, \" Citra\")\n",
        "\n",
        "# Melihat jumlah data dalam set pengujian\n",
        "num_test_samples = testX.shape[0]\n",
        "print(\"Jumlah data pengujian:\", num_test_samples, \" Citra\")"
      ]
    },
    {
      "attachments": {},
      "cell_type": "markdown",
      "metadata": {
        "id": "bHPD753f5205"
      },
      "source": [
        "## Membuat Model Jaringan CNN yang sudah dipelajari sebelumnya (pre-trained convnets)\n"
      ]
    },
    {
      "cell_type": "code",
      "execution_count": 5,
      "metadata": {
        "colab": {
          "base_uri": "https://localhost:8080/"
        },
        "id": "FaDceTqP6HLr",
        "outputId": "549de847-15bc-46e9-f9d8-e024c5fd2a89"
      },
      "outputs": [],
      "source": [
        "# Arsitektur jaringan VGG16Net\n",
        "baseModel = tf.keras.applications.VGG16(weights=\"imagenet\", include_top=False,input_tensor=Input(shape=(224, 224, 3)))\n",
        "# baseModel = tf.keras.applications.VGG16(include_top=False, input_tensor=Input(shape=(224, 224, 3)))\n"
      ]
    },
    {
      "attachments": {},
      "cell_type": "markdown",
      "metadata": {
        "id": "NfSLr2q2LWRZ"
      },
      "source": [
        "### Feature Extraction\n"
      ]
    },
    {
      "cell_type": "code",
      "execution_count": 6,
      "metadata": {
        "colab": {
          "base_uri": "https://localhost:8080/"
        },
        "id": "Z0U2qYnO6KYW",
        "outputId": "00a32ad0-22a0-42a6-8495-b1527f745d2e"
      },
      "outputs": [
        {
          "name": "stdout",
          "output_type": "stream",
          "text": [
            "Model: \"vgg16\"\n",
            "_________________________________________________________________\n",
            " Layer (type)                Output Shape              Param #   \n",
            "=================================================================\n",
            " input_1 (InputLayer)        [(None, 224, 224, 3)]     0         \n",
            "                                                                 \n",
            " block1_conv1 (Conv2D)       (None, 224, 224, 64)      1792      \n",
            "                                                                 \n",
            " block1_conv2 (Conv2D)       (None, 224, 224, 64)      36928     \n",
            "                                                                 \n",
            " block1_pool (MaxPooling2D)  (None, 112, 112, 64)      0         \n",
            "                                                                 \n",
            " block2_conv1 (Conv2D)       (None, 112, 112, 128)     73856     \n",
            "                                                                 \n",
            " block2_conv2 (Conv2D)       (None, 112, 112, 128)     147584    \n",
            "                                                                 \n",
            " block2_pool (MaxPooling2D)  (None, 56, 56, 128)       0         \n",
            "                                                                 \n",
            " block3_conv1 (Conv2D)       (None, 56, 56, 256)       295168    \n",
            "                                                                 \n",
            " block3_conv2 (Conv2D)       (None, 56, 56, 256)       590080    \n",
            "                                                                 \n",
            " block3_conv3 (Conv2D)       (None, 56, 56, 256)       590080    \n",
            "                                                                 \n",
            " block3_pool (MaxPooling2D)  (None, 28, 28, 256)       0         \n",
            "                                                                 \n",
            " block4_conv1 (Conv2D)       (None, 28, 28, 512)       1180160   \n",
            "                                                                 \n",
            " block4_conv2 (Conv2D)       (None, 28, 28, 512)       2359808   \n",
            "                                                                 \n",
            " block4_conv3 (Conv2D)       (None, 28, 28, 512)       2359808   \n",
            "                                                                 \n",
            " block4_pool (MaxPooling2D)  (None, 14, 14, 512)       0         \n",
            "                                                                 \n",
            " block5_conv1 (Conv2D)       (None, 14, 14, 512)       2359808   \n",
            "                                                                 \n",
            " block5_conv2 (Conv2D)       (None, 14, 14, 512)       2359808   \n",
            "                                                                 \n",
            " block5_conv3 (Conv2D)       (None, 14, 14, 512)       2359808   \n",
            "                                                                 \n",
            " block5_pool (MaxPooling2D)  (None, 7, 7, 512)         0         \n",
            "                                                                 \n",
            "=================================================================\n",
            "Total params: 14,714,688\n",
            "Trainable params: 0\n",
            "Non-trainable params: 14,714,688\n",
            "_________________________________________________________________\n"
          ]
        }
      ],
      "source": [
        "baseModel.trainable = False\n",
        "baseModel.summary()"
      ]
    },
    {
      "attachments": {},
      "cell_type": "markdown",
      "metadata": {
        "id": "ENpg9P6Q6SpL"
      },
      "source": [
        "## Tahap Pembuatan Model\n"
      ]
    },
    {
      "cell_type": "code",
      "execution_count": 7,
      "metadata": {},
      "outputs": [
        {
          "name": "stdout",
          "output_type": "stream",
          "text": [
            "Model: \"model\"\n",
            "_________________________________________________________________\n",
            " Layer (type)                Output Shape              Param #   \n",
            "=================================================================\n",
            " input_1 (InputLayer)        [(None, 224, 224, 3)]     0         \n",
            "                                                                 \n",
            " block1_conv1 (Conv2D)       (None, 224, 224, 64)      1792      \n",
            "                                                                 \n",
            " block1_conv2 (Conv2D)       (None, 224, 224, 64)      36928     \n",
            "                                                                 \n",
            " block1_pool (MaxPooling2D)  (None, 112, 112, 64)      0         \n",
            "                                                                 \n",
            " block2_conv1 (Conv2D)       (None, 112, 112, 128)     73856     \n",
            "                                                                 \n",
            " block2_conv2 (Conv2D)       (None, 112, 112, 128)     147584    \n",
            "                                                                 \n",
            " block2_pool (MaxPooling2D)  (None, 56, 56, 128)       0         \n",
            "                                                                 \n",
            " block3_conv1 (Conv2D)       (None, 56, 56, 256)       295168    \n",
            "                                                                 \n",
            " block3_conv2 (Conv2D)       (None, 56, 56, 256)       590080    \n",
            "                                                                 \n",
            " block3_conv3 (Conv2D)       (None, 56, 56, 256)       590080    \n",
            "                                                                 \n",
            " block3_pool (MaxPooling2D)  (None, 28, 28, 256)       0         \n",
            "                                                                 \n",
            " block4_conv1 (Conv2D)       (None, 28, 28, 512)       1180160   \n",
            "                                                                 \n",
            " block4_conv2 (Conv2D)       (None, 28, 28, 512)       2359808   \n",
            "                                                                 \n",
            " block4_conv3 (Conv2D)       (None, 28, 28, 512)       2359808   \n",
            "                                                                 \n",
            " block4_pool (MaxPooling2D)  (None, 14, 14, 512)       0         \n",
            "                                                                 \n",
            " block5_conv1 (Conv2D)       (None, 14, 14, 512)       2359808   \n",
            "                                                                 \n",
            " block5_conv2 (Conv2D)       (None, 14, 14, 512)       2359808   \n",
            "                                                                 \n",
            " block5_conv3 (Conv2D)       (None, 14, 14, 512)       2359808   \n",
            "                                                                 \n",
            " block5_pool (MaxPooling2D)  (None, 7, 7, 512)         0         \n",
            "                                                                 \n",
            " average_pooling2d (AverageP  (None, 1, 1, 512)        0         \n",
            " ooling2D)                                                       \n",
            "                                                                 \n",
            " flatten (Flatten)           (None, 512)               0         \n",
            "                                                                 \n",
            " dense (Dense)               (None, 128)               65664     \n",
            "                                                                 \n",
            " dropout (Dropout)           (None, 128)               0         \n",
            "                                                                 \n",
            " dense_1 (Dense)             (None, 2)                 258       \n",
            "                                                                 \n",
            "=================================================================\n",
            "Total params: 14,780,610\n",
            "Trainable params: 65,922\n",
            "Non-trainable params: 14,714,688\n",
            "_________________________________________________________________\n"
          ]
        }
      ],
      "source": [
        "# Membentuk bagian head dari model yang akan ditempatkan pada base model\n",
        "\n",
        "headModel = baseModel.output\n",
        "headModel = AveragePooling2D(pool_size=(7, 7))(headModel)\n",
        "headModel = Flatten(name=\"flatten\")(headModel)\n",
        "headModel = Dense(128, activation=\"relu\")(headModel)\n",
        "headModel = Dropout(0.5)(headModel)\n",
        "headModel = Dense(2, activation=\"softmax\")(headModel)\n",
        "\n",
        "# Menempatkan head model pada base model\n",
        "model = Model(inputs=baseModel.input, outputs=headModel)\n",
        "model.summary()"
      ]
    },
    {
      "cell_type": "code",
      "execution_count": 8,
      "metadata": {
        "colab": {
          "base_uri": "https://localhost:8080/"
        },
        "id": "WXEyXB5NTU13",
        "outputId": "c5f827c0-3a25-4e98-8b38-2d9a88076619"
      },
      "outputs": [
        {
          "name": "stdout",
          "output_type": "stream",
          "text": [
            "Mengkompilasi model...\n",
            "Model: \"model_1\"\n",
            "_________________________________________________________________\n",
            " Layer (type)                Output Shape              Param #   \n",
            "=================================================================\n",
            " input_1 (InputLayer)        [(None, 224, 224, 3)]     0         \n",
            "                                                                 \n",
            " block1_conv1 (Conv2D)       (None, 224, 224, 64)      1792      \n",
            "                                                                 \n",
            " block1_conv2 (Conv2D)       (None, 224, 224, 64)      36928     \n",
            "                                                                 \n",
            " block1_pool (MaxPooling2D)  (None, 112, 112, 64)      0         \n",
            "                                                                 \n",
            " block2_conv1 (Conv2D)       (None, 112, 112, 128)     73856     \n",
            "                                                                 \n",
            " block2_conv2 (Conv2D)       (None, 112, 112, 128)     147584    \n",
            "                                                                 \n",
            " block2_pool (MaxPooling2D)  (None, 56, 56, 128)       0         \n",
            "                                                                 \n",
            " block3_conv1 (Conv2D)       (None, 56, 56, 256)       295168    \n",
            "                                                                 \n",
            " block3_conv2 (Conv2D)       (None, 56, 56, 256)       590080    \n",
            "                                                                 \n",
            " block3_conv3 (Conv2D)       (None, 56, 56, 256)       590080    \n",
            "                                                                 \n",
            " block3_pool (MaxPooling2D)  (None, 28, 28, 256)       0         \n",
            "                                                                 \n",
            " block4_conv1 (Conv2D)       (None, 28, 28, 512)       1180160   \n",
            "                                                                 \n",
            " block4_conv2 (Conv2D)       (None, 28, 28, 512)       2359808   \n",
            "                                                                 \n",
            " block4_conv3 (Conv2D)       (None, 28, 28, 512)       2359808   \n",
            "                                                                 \n",
            " block4_pool (MaxPooling2D)  (None, 14, 14, 512)       0         \n",
            "                                                                 \n",
            " block5_conv1 (Conv2D)       (None, 14, 14, 512)       2359808   \n",
            "                                                                 \n",
            " block5_conv2 (Conv2D)       (None, 14, 14, 512)       2359808   \n",
            "                                                                 \n",
            " block5_conv3 (Conv2D)       (None, 14, 14, 512)       2359808   \n",
            "                                                                 \n",
            " block5_pool (MaxPooling2D)  (None, 7, 7, 512)         0         \n",
            "                                                                 \n",
            " average_pooling2d_1 (Averag  (None, 1, 1, 512)        0         \n",
            " ePooling2D)                                                     \n",
            "                                                                 \n",
            " flatten (Flatten)           (None, 512)               0         \n",
            "                                                                 \n",
            " dense_2 (Dense)             (None, 128)               65664     \n",
            "                                                                 \n",
            " dropout_1 (Dropout)         (None, 128)               0         \n",
            "                                                                 \n",
            " dense_3 (Dense)             (None, 2)                 258       \n",
            "                                                                 \n",
            "=================================================================\n",
            "Total params: 14,780,610\n",
            "Trainable params: 65,922\n",
            "Non-trainable params: 14,714,688\n",
            "_________________________________________________________________\n"
          ]
        }
      ],
      "source": [
        "\n",
        "headModel = baseModel.output\n",
        "headModel = AveragePooling2D(pool_size=(7, 7))(headModel)\n",
        "headModel = Flatten(name=\"flatten\")(headModel)\n",
        "headModel = Dense(128, activation=\"relu\")(headModel)\n",
        "headModel = Dropout(0.5)(headModel)\n",
        "headModel = Dense(2, activation=\"softmax\")(headModel)\n",
        "\n",
        "# Menempatkan head model pada base model\n",
        "model = Model(inputs=baseModel.input, outputs=headModel)\n",
        "\n",
        "# Perulangan pada seluruh base model\n",
        "for layer in baseModel.layers:\n",
        "    layer.trainable = False\n",
        "\n",
        "# Persiapan kompilasi model\n",
        "print(\"Mengkompilasi model...\")\n",
        "opt = tf.keras.optimizers.legacy.Adam(learning_rate=INIT_LR, decay=INIT_LR / EPOCHS)\n",
        "\n",
        "\n",
        "model.compile(loss=\"binary_crossentropy\", optimizer=opt,metrics=[\"accuracy\"])\n",
        "\n",
        "model.summary()"
      ]
    },
    {
      "attachments": {},
      "cell_type": "markdown",
      "metadata": {
        "id": "lH42Hp3UWrPs"
      },
      "source": [
        "### Melakukan Pelatihan Model\n"
      ]
    },
    {
      "cell_type": "code",
      "execution_count": 9,
      "metadata": {},
      "outputs": [
        {
          "name": "stdout",
          "output_type": "stream",
          "text": [
            "Training head model...\n",
            "Epoch 1/100\n",
            "95/95 [==============================] - 87s 778ms/step - loss: 0.7166 - accuracy: 0.5728 - val_loss: 0.5959 - val_accuracy: 0.8801\n",
            "Epoch 2/100\n",
            "95/95 [==============================] - 48s 506ms/step - loss: 0.5938 - accuracy: 0.7337 - val_loss: 0.4999 - val_accuracy: 0.9153\n",
            "Epoch 3/100\n",
            "95/95 [==============================] - 45s 476ms/step - loss: 0.5012 - accuracy: 0.8303 - val_loss: 0.4193 - val_accuracy: 0.9309\n",
            "Epoch 4/100\n",
            "95/95 [==============================] - 49s 517ms/step - loss: 0.4320 - accuracy: 0.8866 - val_loss: 0.3552 - val_accuracy: 0.9361\n",
            "Epoch 5/100\n",
            "95/95 [==============================] - 44s 457ms/step - loss: 0.3694 - accuracy: 0.9153 - val_loss: 0.3023 - val_accuracy: 0.9452\n",
            "Epoch 6/100\n",
            "95/95 [==============================] - 45s 469ms/step - loss: 0.3325 - accuracy: 0.9163 - val_loss: 0.2622 - val_accuracy: 0.9518\n",
            "Epoch 7/100\n",
            "95/95 [==============================] - 45s 469ms/step - loss: 0.2928 - accuracy: 0.9281 - val_loss: 0.2307 - val_accuracy: 0.9492\n",
            "Epoch 8/100\n",
            "95/95 [==============================] - 43s 449ms/step - loss: 0.2662 - accuracy: 0.9364 - val_loss: 0.2057 - val_accuracy: 0.9478\n",
            "Epoch 9/100\n",
            "95/95 [==============================] - 43s 449ms/step - loss: 0.2406 - accuracy: 0.9400 - val_loss: 0.1818 - val_accuracy: 0.9596\n",
            "Epoch 10/100\n",
            "95/95 [==============================] - 42s 446ms/step - loss: 0.2255 - accuracy: 0.9423 - val_loss: 0.1733 - val_accuracy: 0.9518\n",
            "Epoch 11/100\n",
            "95/95 [==============================] - 43s 453ms/step - loss: 0.2109 - accuracy: 0.9426 - val_loss: 0.1520 - val_accuracy: 0.9635\n",
            "Epoch 12/100\n",
            "95/95 [==============================] - 43s 452ms/step - loss: 0.1926 - accuracy: 0.9479 - val_loss: 0.1432 - val_accuracy: 0.9622\n",
            "Epoch 13/100\n",
            "95/95 [==============================] - 43s 452ms/step - loss: 0.1840 - accuracy: 0.9506 - val_loss: 0.1313 - val_accuracy: 0.9661\n",
            "Epoch 14/100\n",
            "95/95 [==============================] - 43s 450ms/step - loss: 0.1672 - accuracy: 0.9535 - val_loss: 0.1264 - val_accuracy: 0.9661\n",
            "Epoch 15/100\n",
            "95/95 [==============================] - 43s 451ms/step - loss: 0.1676 - accuracy: 0.9542 - val_loss: 0.1144 - val_accuracy: 0.9700\n",
            "Epoch 16/100\n",
            "95/95 [==============================] - 44s 464ms/step - loss: 0.1584 - accuracy: 0.9515 - val_loss: 0.1065 - val_accuracy: 0.9739\n",
            "Epoch 17/100\n",
            "95/95 [==============================] - 43s 447ms/step - loss: 0.1496 - accuracy: 0.9578 - val_loss: 0.1024 - val_accuracy: 0.9752\n",
            "Epoch 18/100\n",
            "95/95 [==============================] - 61s 638ms/step - loss: 0.1420 - accuracy: 0.9618 - val_loss: 0.0958 - val_accuracy: 0.9765\n",
            "Epoch 19/100\n",
            "95/95 [==============================] - 43s 446ms/step - loss: 0.1359 - accuracy: 0.9588 - val_loss: 0.0932 - val_accuracy: 0.9765\n",
            "Epoch 20/100\n",
            "95/95 [==============================] - 42s 445ms/step - loss: 0.1283 - accuracy: 0.9614 - val_loss: 0.0872 - val_accuracy: 0.9778\n",
            "Epoch 21/100\n",
            "95/95 [==============================] - 41s 433ms/step - loss: 0.1274 - accuracy: 0.9621 - val_loss: 0.0849 - val_accuracy: 0.9765\n",
            "Epoch 22/100\n",
            "95/95 [==============================] - 41s 435ms/step - loss: 0.1302 - accuracy: 0.9631 - val_loss: 0.0833 - val_accuracy: 0.9765\n",
            "Epoch 23/100\n",
            "95/95 [==============================] - 41s 435ms/step - loss: 0.1238 - accuracy: 0.9641 - val_loss: 0.0854 - val_accuracy: 0.9765\n",
            "Epoch 24/100\n",
            "95/95 [==============================] - 42s 438ms/step - loss: 0.1141 - accuracy: 0.9651 - val_loss: 0.0771 - val_accuracy: 0.9791\n",
            "Epoch 25/100\n",
            "95/95 [==============================] - 46s 478ms/step - loss: 0.1169 - accuracy: 0.9647 - val_loss: 0.0770 - val_accuracy: 0.9791\n",
            "Epoch 26/100\n",
            "95/95 [==============================] - 42s 444ms/step - loss: 0.1016 - accuracy: 0.9680 - val_loss: 0.0782 - val_accuracy: 0.9791\n",
            "Epoch 27/100\n",
            "95/95 [==============================] - 42s 445ms/step - loss: 0.1082 - accuracy: 0.9651 - val_loss: 0.0751 - val_accuracy: 0.9791\n",
            "Epoch 28/100\n",
            "95/95 [==============================] - 44s 464ms/step - loss: 0.1109 - accuracy: 0.9654 - val_loss: 0.0692 - val_accuracy: 0.9817\n",
            "Epoch 29/100\n",
            "95/95 [==============================] - 42s 444ms/step - loss: 0.1025 - accuracy: 0.9674 - val_loss: 0.0658 - val_accuracy: 0.9844\n",
            "Epoch 30/100\n",
            "95/95 [==============================] - 43s 447ms/step - loss: 0.1021 - accuracy: 0.9710 - val_loss: 0.0635 - val_accuracy: 0.9844\n",
            "Epoch 31/100\n",
            "95/95 [==============================] - 42s 445ms/step - loss: 0.0947 - accuracy: 0.9710 - val_loss: 0.0647 - val_accuracy: 0.9831\n",
            "Epoch 32/100\n",
            "95/95 [==============================] - 43s 450ms/step - loss: 0.0916 - accuracy: 0.9736 - val_loss: 0.0631 - val_accuracy: 0.9831\n",
            "Epoch 33/100\n",
            "95/95 [==============================] - 42s 440ms/step - loss: 0.0891 - accuracy: 0.9723 - val_loss: 0.0572 - val_accuracy: 0.9844\n",
            "Epoch 34/100\n",
            "95/95 [==============================] - 42s 437ms/step - loss: 0.0931 - accuracy: 0.9707 - val_loss: 0.0573 - val_accuracy: 0.9844\n",
            "Epoch 35/100\n",
            "95/95 [==============================] - 42s 444ms/step - loss: 0.0932 - accuracy: 0.9690 - val_loss: 0.0560 - val_accuracy: 0.9844\n",
            "Epoch 36/100\n",
            "95/95 [==============================] - 42s 443ms/step - loss: 0.0892 - accuracy: 0.9720 - val_loss: 0.0532 - val_accuracy: 0.9844\n",
            "Epoch 37/100\n",
            "95/95 [==============================] - 42s 437ms/step - loss: 0.0832 - accuracy: 0.9710 - val_loss: 0.0536 - val_accuracy: 0.9844\n",
            "Epoch 38/100\n",
            "95/95 [==============================] - 42s 436ms/step - loss: 0.0847 - accuracy: 0.9717 - val_loss: 0.0527 - val_accuracy: 0.9857\n",
            "Epoch 39/100\n",
            "95/95 [==============================] - 42s 438ms/step - loss: 0.0812 - accuracy: 0.9733 - val_loss: 0.0504 - val_accuracy: 0.9857\n",
            "Epoch 40/100\n",
            "95/95 [==============================] - 42s 437ms/step - loss: 0.0807 - accuracy: 0.9736 - val_loss: 0.0506 - val_accuracy: 0.9844\n",
            "Epoch 41/100\n",
            "95/95 [==============================] - 42s 440ms/step - loss: 0.0803 - accuracy: 0.9723 - val_loss: 0.0476 - val_accuracy: 0.9883\n",
            "Epoch 42/100\n",
            "95/95 [==============================] - 42s 438ms/step - loss: 0.0777 - accuracy: 0.9756 - val_loss: 0.0520 - val_accuracy: 0.9844\n",
            "Epoch 43/100\n",
            "95/95 [==============================] - 42s 437ms/step - loss: 0.0787 - accuracy: 0.9733 - val_loss: 0.0468 - val_accuracy: 0.9883\n",
            "Epoch 44/100\n",
            "95/95 [==============================] - 42s 438ms/step - loss: 0.0760 - accuracy: 0.9779 - val_loss: 0.0459 - val_accuracy: 0.9870\n",
            "Epoch 45/100\n",
            "95/95 [==============================] - 42s 436ms/step - loss: 0.0743 - accuracy: 0.9763 - val_loss: 0.0452 - val_accuracy: 0.9896\n",
            "Epoch 46/100\n",
            "95/95 [==============================] - 42s 436ms/step - loss: 0.0704 - accuracy: 0.9759 - val_loss: 0.0450 - val_accuracy: 0.9857\n",
            "Epoch 47/100\n",
            "95/95 [==============================] - 42s 441ms/step - loss: 0.0699 - accuracy: 0.9782 - val_loss: 0.0445 - val_accuracy: 0.9857\n",
            "Epoch 48/100\n",
            "95/95 [==============================] - 42s 436ms/step - loss: 0.0729 - accuracy: 0.9763 - val_loss: 0.0439 - val_accuracy: 0.9896\n",
            "Epoch 49/100\n",
            "95/95 [==============================] - 42s 436ms/step - loss: 0.0640 - accuracy: 0.9809 - val_loss: 0.0427 - val_accuracy: 0.9896\n",
            "Epoch 50/100\n",
            "95/95 [==============================] - 42s 445ms/step - loss: 0.0711 - accuracy: 0.9759 - val_loss: 0.0469 - val_accuracy: 0.9844\n",
            "Epoch 51/100\n",
            "95/95 [==============================] - 41s 435ms/step - loss: 0.0728 - accuracy: 0.9769 - val_loss: 0.0412 - val_accuracy: 0.9896\n",
            "Epoch 52/100\n",
            "95/95 [==============================] - 42s 435ms/step - loss: 0.0648 - accuracy: 0.9806 - val_loss: 0.0401 - val_accuracy: 0.9909\n",
            "Epoch 53/100\n",
            "95/95 [==============================] - 41s 434ms/step - loss: 0.0655 - accuracy: 0.9812 - val_loss: 0.0393 - val_accuracy: 0.9896\n",
            "Epoch 54/100\n",
            "95/95 [==============================] - 41s 434ms/step - loss: 0.0679 - accuracy: 0.9782 - val_loss: 0.0412 - val_accuracy: 0.9896\n",
            "Epoch 55/100\n",
            "95/95 [==============================] - 42s 437ms/step - loss: 0.0678 - accuracy: 0.9792 - val_loss: 0.0395 - val_accuracy: 0.9909\n",
            "Epoch 56/100\n",
            "95/95 [==============================] - 41s 434ms/step - loss: 0.0645 - accuracy: 0.9792 - val_loss: 0.0378 - val_accuracy: 0.9909\n",
            "Epoch 57/100\n",
            "95/95 [==============================] - 41s 434ms/step - loss: 0.0640 - accuracy: 0.9799 - val_loss: 0.0375 - val_accuracy: 0.9909\n",
            "Epoch 58/100\n",
            "95/95 [==============================] - 41s 435ms/step - loss: 0.0635 - accuracy: 0.9782 - val_loss: 0.0372 - val_accuracy: 0.9909\n",
            "Epoch 59/100\n",
            "95/95 [==============================] - 42s 440ms/step - loss: 0.0572 - accuracy: 0.9832 - val_loss: 0.0353 - val_accuracy: 0.9896\n",
            "Epoch 60/100\n",
            "95/95 [==============================] - 41s 435ms/step - loss: 0.0653 - accuracy: 0.9806 - val_loss: 0.0372 - val_accuracy: 0.9896\n",
            "Epoch 61/100\n",
            "95/95 [==============================] - 41s 434ms/step - loss: 0.0621 - accuracy: 0.9779 - val_loss: 0.0355 - val_accuracy: 0.9909\n",
            "Epoch 62/100\n",
            "95/95 [==============================] - 42s 442ms/step - loss: 0.0595 - accuracy: 0.9799 - val_loss: 0.0351 - val_accuracy: 0.9909\n",
            "Epoch 63/100\n",
            "95/95 [==============================] - 42s 437ms/step - loss: 0.0638 - accuracy: 0.9799 - val_loss: 0.0363 - val_accuracy: 0.9896\n",
            "Epoch 64/100\n",
            "95/95 [==============================] - 42s 439ms/step - loss: 0.0566 - accuracy: 0.9819 - val_loss: 0.0359 - val_accuracy: 0.9896\n",
            "Epoch 65/100\n",
            "95/95 [==============================] - 42s 441ms/step - loss: 0.0548 - accuracy: 0.9829 - val_loss: 0.0341 - val_accuracy: 0.9909\n",
            "Epoch 66/100\n",
            "95/95 [==============================] - 42s 435ms/step - loss: 0.0546 - accuracy: 0.9815 - val_loss: 0.0337 - val_accuracy: 0.9909\n",
            "Epoch 67/100\n",
            "95/95 [==============================] - 42s 438ms/step - loss: 0.0592 - accuracy: 0.9786 - val_loss: 0.0331 - val_accuracy: 0.9909\n",
            "Epoch 68/100\n",
            "95/95 [==============================] - 42s 437ms/step - loss: 0.0579 - accuracy: 0.9799 - val_loss: 0.0367 - val_accuracy: 0.9896\n",
            "Epoch 69/100\n",
            "95/95 [==============================] - 41s 431ms/step - loss: 0.0531 - accuracy: 0.9822 - val_loss: 0.0307 - val_accuracy: 0.9883\n",
            "Epoch 70/100\n",
            "95/95 [==============================] - 42s 435ms/step - loss: 0.0529 - accuracy: 0.9858 - val_loss: 0.0349 - val_accuracy: 0.9896\n",
            "Epoch 71/100\n",
            "95/95 [==============================] - 42s 435ms/step - loss: 0.0546 - accuracy: 0.9796 - val_loss: 0.0328 - val_accuracy: 0.9909\n",
            "Epoch 72/100\n",
            "95/95 [==============================] - 41s 433ms/step - loss: 0.0491 - accuracy: 0.9822 - val_loss: 0.0312 - val_accuracy: 0.9909\n",
            "Epoch 73/100\n",
            "95/95 [==============================] - 41s 429ms/step - loss: 0.0594 - accuracy: 0.9799 - val_loss: 0.0298 - val_accuracy: 0.9896\n",
            "Epoch 74/100\n",
            "95/95 [==============================] - 41s 430ms/step - loss: 0.0566 - accuracy: 0.9822 - val_loss: 0.0312 - val_accuracy: 0.9909\n",
            "Epoch 75/100\n",
            "95/95 [==============================] - 41s 433ms/step - loss: 0.0540 - accuracy: 0.9812 - val_loss: 0.0302 - val_accuracy: 0.9909\n",
            "Epoch 76/100\n",
            "95/95 [==============================] - 41s 429ms/step - loss: 0.0508 - accuracy: 0.9842 - val_loss: 0.0306 - val_accuracy: 0.9909\n",
            "Epoch 77/100\n",
            "95/95 [==============================] - 41s 429ms/step - loss: 0.0533 - accuracy: 0.9792 - val_loss: 0.0299 - val_accuracy: 0.9896\n",
            "Epoch 78/100\n",
            "95/95 [==============================] - 41s 434ms/step - loss: 0.0503 - accuracy: 0.9815 - val_loss: 0.0303 - val_accuracy: 0.9909\n",
            "Epoch 79/100\n",
            "95/95 [==============================] - 41s 432ms/step - loss: 0.0495 - accuracy: 0.9835 - val_loss: 0.0301 - val_accuracy: 0.9909\n",
            "Epoch 80/100\n",
            "95/95 [==============================] - 41s 431ms/step - loss: 0.0515 - accuracy: 0.9819 - val_loss: 0.0303 - val_accuracy: 0.9909\n",
            "Epoch 81/100\n",
            "95/95 [==============================] - 41s 433ms/step - loss: 0.0495 - accuracy: 0.9815 - val_loss: 0.0294 - val_accuracy: 0.9896\n",
            "Epoch 82/100\n",
            "95/95 [==============================] - 41s 432ms/step - loss: 0.0427 - accuracy: 0.9878 - val_loss: 0.0283 - val_accuracy: 0.9896\n",
            "Epoch 83/100\n",
            "95/95 [==============================] - 41s 431ms/step - loss: 0.0515 - accuracy: 0.9809 - val_loss: 0.0319 - val_accuracy: 0.9896\n",
            "Epoch 84/100\n",
            "95/95 [==============================] - 41s 431ms/step - loss: 0.0494 - accuracy: 0.9842 - val_loss: 0.0280 - val_accuracy: 0.9896\n",
            "Epoch 85/100\n",
            "95/95 [==============================] - 41s 430ms/step - loss: 0.0473 - accuracy: 0.9842 - val_loss: 0.0280 - val_accuracy: 0.9909\n",
            "Epoch 86/100\n",
            "95/95 [==============================] - 41s 431ms/step - loss: 0.0459 - accuracy: 0.9822 - val_loss: 0.0278 - val_accuracy: 0.9909\n",
            "Epoch 87/100\n",
            "95/95 [==============================] - 41s 431ms/step - loss: 0.0412 - accuracy: 0.9871 - val_loss: 0.0264 - val_accuracy: 0.9896\n",
            "Epoch 88/100\n",
            "95/95 [==============================] - 41s 427ms/step - loss: 0.0549 - accuracy: 0.9822 - val_loss: 0.0284 - val_accuracy: 0.9909\n",
            "Epoch 89/100\n",
            "95/95 [==============================] - 41s 430ms/step - loss: 0.0432 - accuracy: 0.9848 - val_loss: 0.0255 - val_accuracy: 0.9909\n",
            "Epoch 90/100\n",
            "95/95 [==============================] - 41s 430ms/step - loss: 0.0448 - accuracy: 0.9858 - val_loss: 0.0265 - val_accuracy: 0.9909\n",
            "Epoch 91/100\n",
            "95/95 [==============================] - 41s 432ms/step - loss: 0.0426 - accuracy: 0.9852 - val_loss: 0.0274 - val_accuracy: 0.9909\n",
            "Epoch 92/100\n",
            "95/95 [==============================] - 41s 432ms/step - loss: 0.0461 - accuracy: 0.9852 - val_loss: 0.0253 - val_accuracy: 0.9909\n",
            "Epoch 93/100\n",
            "95/95 [==============================] - 41s 430ms/step - loss: 0.0468 - accuracy: 0.9852 - val_loss: 0.0258 - val_accuracy: 0.9896\n",
            "Epoch 94/100\n",
            "95/95 [==============================] - 43s 449ms/step - loss: 0.0465 - accuracy: 0.9848 - val_loss: 0.0273 - val_accuracy: 0.9909\n",
            "Epoch 95/100\n",
            "95/95 [==============================] - 41s 428ms/step - loss: 0.0442 - accuracy: 0.9825 - val_loss: 0.0264 - val_accuracy: 0.9909\n",
            "Epoch 96/100\n",
            "95/95 [==============================] - 41s 425ms/step - loss: 0.0416 - accuracy: 0.9862 - val_loss: 0.0256 - val_accuracy: 0.9909\n",
            "Epoch 97/100\n",
            "95/95 [==============================] - 41s 429ms/step - loss: 0.0421 - accuracy: 0.9875 - val_loss: 0.0252 - val_accuracy: 0.9896\n",
            "Epoch 98/100\n",
            "95/95 [==============================] - 40s 423ms/step - loss: 0.0458 - accuracy: 0.9852 - val_loss: 0.0253 - val_accuracy: 0.9896\n",
            "Epoch 99/100\n",
            "95/95 [==============================] - 41s 426ms/step - loss: 0.0433 - accuracy: 0.9858 - val_loss: 0.0258 - val_accuracy: 0.9896\n",
            "Epoch 100/100\n",
            "95/95 [==============================] - 41s 425ms/step - loss: 0.0406 - accuracy: 0.9871 - val_loss: 0.0252 - val_accuracy: 0.9896\n",
            "Training completed in 4269.16 seconds.\n"
          ]
        }
      ],
      "source": [
        "import time\n",
        "\n",
        "# ...\n",
        "\n",
        "print(\"Training head model...\")\n",
        "\n",
        "start_time = time.time()  # Memulai penghitungan waktu\n",
        "\n",
        "H = model.fit(\n",
        "    aug.flow(trainX, trainY, batch_size=BS),\n",
        "    steps_per_epoch=len(trainX) // BS,\n",
        "    validation_data=(testX, testY),\n",
        "    validation_steps=len(testX) // BS,\n",
        "    epochs=EPOCHS,\n",
        "    verbose=1)\n",
        "\n",
        "end_time = time.time()  # Mengakhiri penghitungan waktu\n",
        "training_duration = end_time - start_time  # Menghitung durasi waktu pelatihan dalam detik\n",
        "\n",
        "# ...\n",
        "\n",
        "print(f\"Training completed in {training_duration:.2f} seconds.\")  # Menampilkan durasi waktu pelatihan\n"
      ]
    },
    {
      "attachments": {},
      "cell_type": "markdown",
      "metadata": {
        "id": "MxqTwaGi7Wzs"
      },
      "source": [
        "## Menampilkan Grafik Model Hasil Pelatihan\n"
      ]
    },
    {
      "cell_type": "code",
      "execution_count": 10,
      "metadata": {
        "colab": {
          "base_uri": "https://localhost:8080/",
          "height": 471
        },
        "id": "OURpwhV87ac9",
        "outputId": "2321944e-4977-419e-a3f6-921b3801a1a0"
      },
      "outputs": [
        {
          "data": {
            "image/png": "[encoded data removed]",
            "text/plain": [
              "<Figure size 1500x1000 with 2 Axes>"
            ]
          },
          "metadata": {},
          "output_type": "display_data"
        }
      ],
      "source": [
        "N = EPOCHS\n",
        "fig = plt.figure(figsize=(7, 4))\n",
        "fig.set_figheight(10)\n",
        "fig.set_figwidth(15)\n",
        "\n",
        "plt.subplot(2, 2, 1)\n",
        "plt.plot(np.arange(0, N), H.history[\"accuracy\"], label=\"Training Accuracy\")\n",
        "plt.plot(np.arange(0, N),\n",
        "         H.history[\"val_accuracy\"], label=\"Validation Accuracy\")\n",
        "plt.legend()\n",
        "plt.xlabel(\"Epoch #\")\n",
        "plt.ylabel(\"Akurasi\")\n",
        "plt.title(\"Kurva Tingkat Akurasi\", size=15)\n",
        "plt.grid(zorder=0)\n",
        "\n",
        "plt.subplot(2, 2, 2)\n",
        "plt.plot(np.arange(0, N), H.history[\"loss\"], label=\"Training Loss\")\n",
        "plt.plot(np.arange(0, N), H.history[\"val_loss\"], label=\"Validation Loss\")\n",
        "plt.legend()\n",
        "plt.xlabel(\"Epoch #\")\n",
        "plt.ylabel(\"Error\")\n",
        "plt.title(\"Kurva Tingkat Error\", size=15)\n",
        "plt.grid(zorder=0)\n",
        "plt.show()"
      ]
    },
    {
      "attachments": {},
      "cell_type": "markdown",
      "metadata": {
        "id": "3Mqe8nNB7lp8"
      },
      "source": [
        "## Evaluasi Jaringan\n"
      ]
    },
    {
      "cell_type": "code",
      "execution_count": 12,
      "metadata": {
        "colab": {
          "base_uri": "https://localhost:8080/"
        },
        "id": "HLxROO1pg7Em",
        "outputId": "a1c09ec8-8171-4997-ad03-415a0327d317"
      },
      "outputs": [
        {
          "name": "stdout",
          "output_type": "stream",
          "text": [
            "['loss', 'accuracy']\n",
            "24/24 [==============================] - 16s 699ms/step - loss: 0.0252 - accuracy: 0.9896\n",
            "[0.025156717747449875, 0.9895697236061096]\n"
          ]
        }
      ],
      "source": [
        "# Memeriksa matriks model\n",
        "print(model.metrics_names)\n",
        "# Evaluasi data test\n",
        "'''\n",
        "print(model.evaluate(x= testX, y = testY))\n",
        "'''\n",
        "\n",
        "print(model.evaluate(x=testX, y=testY))\n",
        "# evaluasi fold"
      ]
    },
    {
      "cell_type": "code",
      "execution_count": 13,
      "metadata": {
        "colab": {
          "base_uri": "https://localhost:8080/"
        },
        "id": "ySJujhciZvlQ",
        "outputId": "2a63ec46-9249-4de9-cd1e-fb45cf24ab7e"
      },
      "outputs": [
        {
          "name": "stdout",
          "output_type": "stream",
          "text": [
            "24/24 [==============================] - 8s 335ms/step\n",
            "[0 0 0 1 1 0 1 0 1 0 1 1 1 0 0 0 0 1 1 0 1 0 0 1 1 1 1 0 0 1 0 0 0 1 1 0 0\n",
            " 0 0 0 1 1 0 0 0 0 1 0 0 0 0 1 0 1 1 1 1 0 1 0 0 1 0 0 0 1 0 1 1 1 1 0 1 1\n",
            " 0 1 1 1 0 0 1 1 0 0 1 0 1 1 1 1 0 0 1 0 1 1 1 1 1 1 0 1 0 1 1 1 0 1 0 0 0\n",
            " 0 0 1 0 1 0 0 0 1 1 1 0 1 1 0 0 1 0 1 1 0 0 1 0 0 1 0 1 1 0 0 1 1 0 0 1 1\n",
            " 1 1 0 1 0 1 1 0 0 1 0 0 1 0 0 0 1 1 1 0 0 0 1 0 0 0 1 0 1 1 1 0 1 1 0 0 0\n",
            " 0 0 1 1 1 0 1 0 1 1 1 0 0 1 1 1 1 1 1 1 0 1 1 1 0 0 0 0 0 0 1 1 0 0 1 1 1\n",
            " 0 0 0 1 1 0 1 0 0 0 1 0 1 0 1 0 1 1 0 1 1 0 1 0 1 1 0 0 0 1 0 0 1 0 1 0 0\n",
            " 0 0 1 0 1 0 0 0 0 0 0 1 1 0 0 1 0 0 0 1 1 1 0 1 1 1 1 1 1 0 0 0 1 0 1 1 0\n",
            " 0 1 0 0 0 1 0 1 0 0 1 0 0 0 0 1 0 1 0 0 1 1 1 0 0 0 1 0 1 1 0 0 1 0 0 0 1\n",
            " 0 0 0 0 0 0 1 0 0 1 0 0 0 1 1 1 1 0 1 1 0 0 1 1 0 1 0 1 1 1 0 0 1 0 1 1 1\n",
            " 0 1 1 1 0 1 0 0 0 0 0 0 1 0 1 0 1 0 1 1 0 1 1 1 0 1 1 0 1 1 0 0 0 0 1 0 1\n",
            " 1 1 1 0 1 0 0 0 0 1 0 1 0 1 0 0 1 0 0 0 0 1 0 1 1 0 0 1 0 0 1 1 1 1 0 1 1\n",
            " 0 1 1 1 0 0 0 0 1 1 0 0 0 1 0 0 1 0 1 0 0 0 0 1 0 1 1 1 0 0 1 1 0 1 0 0 1\n",
            " 0 1 0 1 0 1 1 1 0 0 1 1 1 1 0 1 1 1 0 0 1 0 1 1 1 0 1 1 0 0 0 0 1 1 1 1 1\n",
            " 0 1 0 1 1 0 1 1 0 0 1 0 1 0 1 0 1 1 0 0 1 0 1 1 1 1 0 0 0 0 0 0 1 1 0 1 1\n",
            " 1 0 1 0 0 1 1 1 1 1 0 1 1 0 0 1 0 0 0 0 1 1 1 1 1 1 1 0 1 1 1 1 1 1 1 0 0\n",
            " 0 0 0 1 0 0 0 1 1 0 1 1 1 0 0 0 0 1 1 0 0 1 0 0 1 0 1 1 1 0 0 1 1 1 1 1 1\n",
            " 1 0 0 1 0 0 0 0 1 0 1 0 0 1 0 0 1 1 1 1 0 1 1 0 0 1 0 0 1 1 1 0 0 1 0 0 0\n",
            " 1 0 0 0 0 1 0 0 1 1 1 0 0 1 1 1 1 1 1 0 0 0 0 0 1 0 0 1 1 0 1 0 0 0 0 0 0\n",
            " 0 1 1 0 1 0 1 0 1 1 1 0 0 0 1 0 0 1 0 1 0 0 1 0 0 1 1 1 0 0 1 1 1 0 1 1 1\n",
            " 0 1 1 1 1 1 1 0 0 0 1 1 0 0 1 1 1 0 0 1 0 1 1 1 1 1 1]\n",
            "[0 0 0 1 1 0 1 0 1 0 1 1 1 0 0 0 0 1 1 0 1 0 0 1 1 1 1 0 0 1 0 0 0 1 1 0 0\n",
            " 0 0 0 1 1 0 0 0 0 1 0 0 0 0 1 0 1 1 1 1 0 1 0 0 1 0 0 0 1 0 1 1 1 1 0 1 1\n",
            " 0 1 1 1 0 0 1 1 0 0 1 0 1 1 1 1 0 0 1 0 1 1 1 1 1 1 0 1 0 1 1 1 0 1 0 0 1\n",
            " 0 0 1 0 1 0 0 0 1 1 1 0 1 1 0 0 1 0 1 1 0 0 1 0 0 1 0 1 1 0 0 1 1 0 0 1 1\n",
            " 1 1 0 1 0 1 1 0 1 1 0 0 1 0 0 0 1 1 1 0 0 0 1 1 0 0 0 0 1 1 1 0 1 1 0 0 0\n",
            " 0 0 1 1 1 0 1 0 1 1 1 0 0 1 1 1 1 1 1 1 0 1 1 1 0 0 0 0 0 0 1 1 0 0 1 1 1\n",
            " 0 0 0 1 1 0 1 0 0 0 1 0 1 0 1 0 1 1 0 1 1 0 1 0 1 1 0 0 0 1 0 0 1 0 1 0 0\n",
            " 0 0 1 0 1 0 0 0 0 0 0 1 1 0 0 1 0 0 0 1 1 1 0 1 1 1 1 1 1 0 0 0 1 0 1 0 0\n",
            " 0 1 0 0 0 1 0 1 0 0 1 0 0 0 0 1 0 1 0 0 1 1 1 0 0 0 1 0 1 1 0 0 1 0 0 0 1\n",
            " 0 0 0 0 0 0 1 0 0 1 0 0 0 1 1 1 1 0 1 1 0 0 1 1 0 1 0 1 1 1 0 0 1 0 1 1 1\n",
            " 0 1 1 1 1 1 0 0 0 0 0 0 1 0 1 1 1 0 1 1 0 1 1 1 0 1 1 0 1 1 0 0 0 0 1 0 1\n",
            " 1 1 1 0 1 0 0 0 0 1 0 1 0 1 0 0 1 0 0 0 0 1 0 1 1 0 0 1 0 0 1 1 1 1 0 1 1\n",
            " 0 1 1 1 0 0 0 0 1 1 0 0 0 1 0 0 1 0 1 0 0 0 0 1 0 1 1 1 0 0 1 1 0 1 0 0 1\n",
            " 0 1 0 1 0 1 1 1 0 0 1 1 1 1 0 1 1 1 0 0 1 0 1 1 1 0 1 1 0 0 0 0 1 1 1 1 1\n",
            " 0 1 0 1 1 0 1 1 0 0 1 0 1 0 1 0 1 1 0 0 1 0 1 1 1 1 0 0 0 0 0 0 1 1 0 1 1\n",
            " 1 0 1 0 0 1 1 1 1 1 0 1 1 0 0 1 0 0 0 0 1 1 1 1 1 1 1 0 1 1 1 1 1 1 1 0 0\n",
            " 0 0 0 1 0 0 0 1 1 0 1 1 1 0 0 0 0 1 1 0 0 1 0 0 1 0 1 1 1 0 0 1 1 1 1 1 1\n",
            " 1 0 0 1 0 0 0 0 1 0 1 0 0 1 0 0 1 1 1 1 0 1 1 0 0 1 0 0 1 1 1 0 0 1 0 0 0\n",
            " 1 0 0 0 0 1 0 0 1 1 1 0 0 1 1 1 1 1 1 0 0 0 0 0 1 0 0 1 1 0 1 0 0 0 0 0 0\n",
            " 0 1 1 0 1 0 1 0 1 1 1 0 0 0 1 0 0 1 0 1 0 0 1 0 0 1 1 1 0 0 1 1 1 0 1 1 1\n",
            " 0 1 1 1 1 1 1 0 0 0 1 1 0 0 1 1 1 0 0 1 0 1 1 1 1 0 1]\n"
          ]
        }
      ],
      "source": [
        "# Menampilkan matriks yang benar dan matriks hasil prediksi\n",
        "# Label yang benar\n",
        "yTrue = np.argmax(testY, axis=1)\n",
        "\n",
        "# Label prediksi\n",
        "YPred = model.predict(testX, batch_size=BS)\n",
        "yPred = np.argmax(YPred, axis=1)\n",
        "\n",
        "print(yTrue)\n",
        "print(yPred)"
      ]
    },
    {
      "attachments": {},
      "cell_type": "markdown",
      "metadata": {
        "id": "yl0Y-D41imCP"
      },
      "source": [
        "## Confusion Matrix\n"
      ]
    },
    {
      "cell_type": "code",
      "execution_count": 14,
      "metadata": {
        "colab": {
          "base_uri": "https://localhost:8080/"
        },
        "id": "EL_ROzJdh6pm",
        "outputId": "d85cbdc9-735a-47f3-dd2b-ebaa9d705de3"
      },
      "outputs": [],
      "source": [
        "def get_confusion_matrix(yTrue, yPred):\n",
        "    n_classes = len(np.unique(yTrue))\n",
        "    conf = np.zeros((n_classes, n_classes))\n",
        "    for actual, pred in zip(yTrue, yPred):\n",
        "        conf[int(actual)][int(pred)] += 1\n",
        "    return conf.astype('int')"
      ]
    },
    {
      "cell_type": "code",
      "execution_count": 15,
      "metadata": {
        "colab": {
          "base_uri": "https://localhost:8080/"
        },
        "id": "YxoC6xxjaCrf",
        "outputId": "789d26ad-0fe5-42b4-b099-84c5631bd977"
      },
      "outputs": [
        {
          "data": {
            "text/plain": [
              "array([[378,   5],\n",
              "       [  3, 381]])"
            ]
          },
          "execution_count": 15,
          "metadata": {},
          "output_type": "execute_result"
        }
      ],
      "source": [
        "conf = get_confusion_matrix(yTrue, yPred)\n",
        "conf"
      ]
    },
    {
      "cell_type": "code",
      "execution_count": 16,
      "metadata": {
        "colab": {
          "base_uri": "https://localhost:8080/",
          "height": 541
        },
        "id": "Ss9YmprkdirH",
        "outputId": "a46b056d-74e4-4028-c5b4-30566ad16782"
      },
      "outputs": [
        {
          "data": {
            "text/plain": [
              "Text(0.5, 23.52222222222222, 'Label Prediksi')"
            ]
          },
          "execution_count": 16,
          "metadata": {},
          "output_type": "execute_result"
        },
        {
          "data": {
            "image/png": "[encoded data removed]",
            "text/plain": [
              "<Figure size 640x480 with 2 Axes>"
            ]
          },
          "metadata": {},
          "output_type": "display_data"
        }
      ],
      "source": [
        "classes = [0, 1]\n",
        "# Plot confusion matrix\n",
        "plt.imshow(conf, interpolation='nearest', cmap=plt.cm.Greens)\n",
        "plt.title(\"Confusion Matrix\")\n",
        "plt.colorbar()\n",
        "tick_marks = np.arange(len(classes))\n",
        "plt.xticks(tick_marks, classes)\n",
        "plt.yticks(tick_marks, classes)\n",
        "\n",
        "fmt = 'd'\n",
        "thresh = conf.max() / 2.\n",
        "for i, j in itertools.product(range(conf.shape[0]), range(conf.shape[1])):\n",
        "    plt.text(j, i, format(conf[i, j], fmt),\n",
        "             horizontalalignment=\"center\",\n",
        "             color=\"white\" if conf[i, j] > thresh else \"black\")\n",
        "\n",
        "plt.tight_layout()\n",
        "plt.ylabel('Label benar')\n",
        "plt.xlabel('Label Prediksi')"
      ]
    },
    {
      "attachments": {},
      "cell_type": "markdown",
      "metadata": {
        "id": "Sr58aW7Ui7PD"
      },
      "source": [
        "Analisis mAP\n"
      ]
    },
    {
      "cell_type": "code",
      "execution_count": 17,
      "metadata": {},
      "outputs": [
        {
          "name": "stdout",
          "output_type": "stream",
          "text": [
            "Akurasi: 0.9895697522816167\n",
            "Recall: 0.9921875\n",
            "Presisi: 0.9870466321243523\n",
            "F1-Score: 0.9896103896103896\n"
          ]
        }
      ],
      "source": [
        "from sklearn.metrics import accuracy_score, recall_score, precision_score, f1_score\n",
        "# menghitung nilai accuracy\n",
        "accuracy = accuracy_score(yTrue, yPred)\n",
        "\n",
        "# Menghitung nilai recall\n",
        "recall = recall_score(yTrue, yPred)\n",
        "\n",
        "# Menghitung nilai presisi\n",
        "precision = precision_score(yTrue, yPred)\n",
        "\n",
        "# Menghitung nilai F1-Score\n",
        "f1 = f1_score(yTrue, yPred)\n",
        "\n",
        "print(\"Akurasi:\", accuracy)\n",
        "print(\"Recall:\", recall)\n",
        "print(\"Presisi:\", precision)\n",
        "print(\"F1-Score:\", f1)"
      ]
    },
    {
      "cell_type": "code",
      "execution_count": 18,
      "metadata": {
        "colab": {
          "base_uri": "https://localhost:8080/"
        },
        "id": "BDPEy5zamOoi",
        "outputId": "cf046df8-a326-4673-82da-695545bba41b"
      },
      "outputs": [
        {
          "name": "stdout",
          "output_type": "stream",
          "text": [
            "24/24 [==============================] - 6s 269ms/step\n",
            "              precision    recall  f1-score   support\n",
            "\n",
            "   with_mask       0.99      0.99      0.99       383\n",
            "without_mask       0.99      0.99      0.99       384\n",
            "\n",
            "    accuracy                           0.99       767\n",
            "   macro avg       0.99      0.99      0.99       767\n",
            "weighted avg       0.99      0.99      0.99       767\n",
            "\n"
          ]
        }
      ],
      "source": [
        "# Membuat prediksi dari pengujian\n",
        "predIdxs = model.predict(testX, batch_size=BS)\n",
        "\n",
        "# Untuk setiap gambar dalam set pengujian, kita perlu menemukan indeks label\n",
        "# dengan probabilitas prediksi terbesar\n",
        "predIdxs = np.argmax(predIdxs, axis=1)\n",
        "\n",
        "# Menampilkan laporan klasifikasi yang diformat dengan baik\n",
        "print(classification_report(testY.argmax(axis=1), predIdxs,\n",
        "                            target_names=lb.classes_))"
      ]
    },
    {
      "attachments": {},
      "cell_type": "markdown",
      "metadata": {
        "id": "S8U7B1jv8ZQr"
      },
      "source": [
        "## Menyimpan dan Konversi Model ke \".tflite\"\n",
        "\n",
        "Menyimpan model menggunakan tf.saved_model/save dan kemudian mengkonversi model tersimpan ke format yang kompatibel tf lite.\n"
      ]
    },
    {
      "cell_type": "code",
      "execution_count": null,
      "metadata": {
        "colab": {
          "base_uri": "https://localhost:8080/"
        },
        "id": "tTaHZm7mKjLK",
        "outputId": "6ac60462-c83c-47e0-f4d3-8b63d564ea04"
      },
      "outputs": [],
      "source": [
        "export_dir = 'saved_model/1'\n",
        "tf.saved_model.save(model, export_dir)"
      ]
    },
    {
      "cell_type": "code",
      "execution_count": null,
      "metadata": {
        "colab": {
          "base_uri": "https://localhost:8080/"
        },
        "id": "rQDDJ2eYKk21",
        "outputId": "71e8079f-6c1f-466d-d921-a16bd04c9f9a"
      },
      "outputs": [],
      "source": [
        "# Mengkonvert model ke format tflite\n",
        "converter = tf.lite.TFLiteConverter.from_saved_model(export_dir)\n",
        "tflite_model = converter.convert()"
      ]
    },
    {
      "cell_type": "code",
      "execution_count": null,
      "metadata": {
        "colab": {
          "base_uri": "https://localhost:8080/"
        },
        "id": "aZet8SWWKn_S",
        "outputId": "47bd6c94-dd1e-4b32-a605-ec38717c9155"
      },
      "outputs": [],
      "source": [
        "# Menyimpan model\n",
        "tflite_model_file = pathlib.Path('face-mask-detection/content/model.tflite')\n",
        "tflite_model_file.write_bytes(tflite_model)"
      ]
    },
    {
      "cell_type": "code",
      "execution_count": null,
      "metadata": {
        "colab": {
          "base_uri": "https://localhost:8080/"
        },
        "id": "znn1rBf6Jcfu",
        "outputId": "7056277f-cacb-4493-a785-ff7d902d0742"
      },
      "outputs": [],
      "source": [
        "# Memuat model dan mengalokasikan ke tensor\n",
        "interpreter = tf.lite.Interpreter(model_content=tflite_model)\n",
        "interpreter.allocate_tensors()\n",
        "\n",
        "# Mendapatkan input dan ouput tensor\n",
        "input_details = interpreter.get_input_details()\n",
        "output_details = interpreter.get_output_details()\n",
        "\n",
        "input_shape = input_details[0]['shape']\n",
        "\n",
        "print(input_details)\n",
        "print(output_details)"
      ]
    },
    {
      "attachments": {},
      "cell_type": "markdown",
      "metadata": {
        "id": "D-H94fpq_E0J"
      },
      "source": [
        "# Pengujian Model dengan MTCNN\n"
      ]
    },
    {
      "attachments": {},
      "cell_type": "markdown",
      "metadata": {
        "id": "9T0GaCA5_SRw"
      },
      "source": [
        "Model diujikan pada gambar dan secara real-time dengan menggunakan MTCNN yang digunakan untuk mendeteksi wajah.\n"
      ]
    },
    {
      "cell_type": "code",
      "execution_count": null,
      "metadata": {
        "colab": {
          "base_uri": "https://localhost:8080/"
        },
        "id": "qVWYYLdvZJjP",
        "outputId": "b4c1fefd-990e-4ba5-e116-03813d253557"
      },
      "outputs": [],
      "source": [
        "!pip install mtcnn"
      ]
    },
    {
      "attachments": {},
      "cell_type": "markdown",
      "metadata": {
        "id": "nej9QmRT8-DO"
      },
      "source": [
        "## Penggunaan Model pada Gambar\n"
      ]
    },
    {
      "cell_type": "code",
      "execution_count": null,
      "metadata": {
        "colab": {
          "base_uri": "https://localhost:8080/"
        },
        "id": "cwPKPee0Qi3h",
        "outputId": "15aa788d-3cfd-46c3-af2e-96792ca1289a"
      },
      "outputs": [],
      "source": [
        "from mtcnn import MTCNN\n",
        "import cv2\n",
        "# from google.colab.patches import cv2_imshow"
      ]
    },
    {
      "cell_type": "code",
      "execution_count": null,
      "metadata": {
        "colab": {
          "base_uri": "https://localhost:8080/",
          "height": 877
        },
        "id": "JkkXJ-MpKKSV",
        "outputId": "2c84d1f5-1a7c-4d00-b929-7b6d12d7695a"
      },
      "outputs": [],
      "source": [
        "detector = MTCNN()\n",
        "image = cv2.imread(\n",
        "    'face-mask-detection/example_img/ex04.jpg', cv2.COLOR_BGR2RGB)\n",
        "faces = detector.detect_faces(image)\n",
        "for result in faces:\n",
        "    x, y, w, h = result['box']\n",
        "    x1, y1 = x + w, y + h\n",
        "\n",
        "    # Ekstrak ROI wajah, konversikan dari BGR ke pemesanan saluran RGB,\n",
        "    # dan mengubah ukurannya menjadi 224x224, dan lalu pre-proses\n",
        "    face = image[y:y1, x:x1]\n",
        "    face = cv2.cvtColor(face, cv2.COLOR_BGR2RGB)\n",
        "    face = cv2.resize(face, (224, 224))\n",
        "    face = img_to_array(face)\n",
        "    face = preprocess_input(face)\n",
        "    face = np.expand_dims(face, axis=0)\n",
        "\n",
        "    # Membaca wajah dengan model\n",
        "    (mask, withoutMask) = model.predict(face)[0]\n",
        "\n",
        "    # Menggunakan masker hijau, tidak bermasker merah\n",
        "    label = \"Bermasker\" if mask > withoutMask else \"Tidak Bermasker\"\n",
        "    color = (0, 255, 0) if label == \"Bermasker\" else (0, 0, 255)\n",
        "\n",
        "    # Probabilitas hasil deteksi\n",
        "    label = \"{}: {:.2f}%\".format(label, max(mask, withoutMask) * 100)\n",
        "\n",
        "    # Menampilkan hasil dengan label dan kotak\n",
        "    cv2.putText(image, label, (x, y - 10),\n",
        "                cv2.FONT_HERSHEY_SIMPLEX, 0.45, color, 2)\n",
        "    cv2.rectangle(image, (x, y), (x1, y1), color, 2)\n",
        "\n",
        "# Menampilkan output\n",
        "cv2.imshow(\" Hasil\", image)\n",
        "cv2.waitKey(0)"
      ]
    },
    {
      "attachments": {},
      "cell_type": "markdown",
      "metadata": {
        "id": "njXIK_L3dVXx"
      },
      "source": [
        "## Pengujian Deteksi Perframe Capture\n"
      ]
    },
    {
      "cell_type": "code",
      "execution_count": null,
      "metadata": {
        "id": "_wdWN4xy-Nxd"
      },
      "outputs": [],
      "source": [
        "# Mengimport lib\n",
        "from mtcnn import MTCNN\n",
        "from tensorflow.keras.preprocessing.image import img_to_array\n",
        "from tensorflow.keras.models import load_model\n",
        "from imutils.video import VideoStream\n",
        "from IPython.display import display, Javascript\n",
        "from google.colab.output import eval_js\n",
        "from PIL import Image\n",
        "import numpy as np\n",
        "import argparse\n",
        "import imutils\n",
        "import time\n",
        "import cv2\n",
        "import os\n",
        "import base64\n",
        "import html\n",
        "import io\n",
        "import time"
      ]
    },
    {
      "cell_type": "code",
      "execution_count": null,
      "metadata": {
        "id": "_Ajg0vfLNs6C"
      },
      "outputs": [],
      "source": [
        "def start_input():\n",
        "    js = Javascript('''\n",
        "    var video;\n",
        "    var div = null;\n",
        "    var stream;\n",
        "    var captureCanvas;\n",
        "    var imgElement;\n",
        "    var labelElement;\n",
        "    \n",
        "    var pendingResolve = null;\n",
        "    var shutdown = false;\n",
        "    \n",
        "    function removeDom() {\n",
        "       stream.getVideoTracks()[0].stop();\n",
        "       video.remove();\n",
        "       div.remove();\n",
        "       video = null;\n",
        "       div = null;\n",
        "       stream = null;\n",
        "       imgElement = null;\n",
        "       captureCanvas = null;\n",
        "       labelElement = null;\n",
        "    }\n",
        "    \n",
        "    function onAnimationFrame() {\n",
        "      if (!shutdown) {\n",
        "        window.requestAnimationFrame(onAnimationFrame);\n",
        "      }\n",
        "      if (pendingResolve) {\n",
        "        var result = \"\";\n",
        "        if (!shutdown) {\n",
        "          captureCanvas.getContext('2d').drawImage(video, 0, 0, 512, 512);\n",
        "          result = captureCanvas.toDataURL('image/jpeg', 0.8)\n",
        "        }\n",
        "        var lp = pendingResolve;\n",
        "        pendingResolve = null;\n",
        "        lp(result);\n",
        "      }\n",
        "    }\n",
        "    \n",
        "    async function createDom() {\n",
        "      if (div !== null) {\n",
        "        return stream;\n",
        "      }\n",
        "      div = document.createElement('div');\n",
        "      div.style.border = '2px solid black';\n",
        "      div.style.padding = '3px';\n",
        "      div.style.width = '100%';\n",
        "      div.style.maxWidth = '600px';\n",
        "      document.body.appendChild(div);\n",
        "      \n",
        "      const modelOut = document.createElement('div');\n",
        "      modelOut.innerHTML = \"<span>Status:</span>\";\n",
        "      labelElement = document.createElement('span');\n",
        "      labelElement.innerText = 'No data';\n",
        "      labelElement.style.fontWeight = 'bold';\n",
        "      modelOut.appendChild(labelElement);\n",
        "      div.appendChild(modelOut);\n",
        "           \n",
        "      video = document.createElement('video');\n",
        "      video.style.display = 'block';\n",
        "      video.width = div.clientWidth - 6;\n",
        "      video.setAttribute('playsinline', '');\n",
        "      video.onclick = () => { shutdown = true; };\n",
        "      stream = await navigator.mediaDevices.getUserMedia(\n",
        "          {video: { facingMode: \"environment\"}});\n",
        "      div.appendChild(video);\n",
        "      imgElement = document.createElement('img');\n",
        "      imgElement.style.position = 'absolute';\n",
        "      imgElement.style.zIndex = 1;\n",
        "      imgElement.onclick = () => { shutdown = true; };\n",
        "      div.appendChild(imgElement);\n",
        "      \n",
        "      const instruction = document.createElement('div');\n",
        "      instruction.innerHTML = \n",
        "          '<span style=\"color: red; font-weight: bold;\">' +\n",
        "          'Ketika selesai, klik disini atau pada video untuk berhenti dari demo</span>';\n",
        "      div.appendChild(instruction);\n",
        "      instruction.onclick = () => { shutdown = true; };\n",
        "      \n",
        "      video.srcObject = stream;\n",
        "      await video.play();\n",
        "      captureCanvas = document.createElement('canvas');\n",
        "      captureCanvas.width = 512; //video.videoWidth;\n",
        "      captureCanvas.height = 512; //video.videoHeight;\n",
        "      window.requestAnimationFrame(onAnimationFrame);\n",
        "      \n",
        "      return stream;\n",
        "    }\n",
        "    async function takePhoto(label, imgData) {\n",
        "      if (shutdown) {\n",
        "        removeDom();\n",
        "        shutdown = false;\n",
        "        return '';\n",
        "      }\n",
        "      var preCreate = Date.now();\n",
        "      stream = await createDom();\n",
        "      \n",
        "      var preShow = Date.now();\n",
        "      if (label != \"\") {\n",
        "        labelElement.innerHTML = label;\n",
        "      }\n",
        "            \n",
        "      if (imgData != \"\") {\n",
        "        var videoRect = video.getClientRects()[0];\n",
        "        imgElement.style.top = videoRect.top + \"px\";\n",
        "        imgElement.style.left = videoRect.left + \"px\";\n",
        "        imgElement.style.width = videoRect.width + \"px\";\n",
        "        imgElement.style.height = videoRect.height + \"px\";\n",
        "        imgElement.src = imgData;\n",
        "      }\n",
        "      \n",
        "      var preCapture = Date.now();\n",
        "      var result = await new Promise(function(resolve, reject) {\n",
        "        pendingResolve = resolve;\n",
        "      });\n",
        "      shutdown = false;\n",
        "      \n",
        "      return {'create': preShow - preCreate, \n",
        "              'show': preCapture - preShow, \n",
        "              'capture': Date.now() - preCapture,\n",
        "              'img': result};\n",
        "    }\n",
        "    ''')\n",
        "\n",
        "    display(js)\n",
        "\n",
        "\n",
        "def take_photo(label, img_data):\n",
        "    data = eval_js('takePhoto(\"{}\", \"{}\")'.format(label, img_data))\n",
        "    return data"
      ]
    },
    {
      "cell_type": "code",
      "execution_count": null,
      "metadata": {
        "id": "MvzQUeMGN5XQ"
      },
      "outputs": [],
      "source": [
        "def js_reply_to_image(js_reply):\n",
        "    \"\"\"\n",
        "    input: \n",
        "          js_reply: JavaScript object, contain image from webcam\n",
        "    output: \n",
        "          image_array: image array RGB size 512 x 512 from webcam\n",
        "    \"\"\"\n",
        "    jpeg_bytes = base64.b64decode(js_reply['img'].split(',')[1])\n",
        "    image_PIL = Image.open(io.BytesIO(jpeg_bytes))\n",
        "    image_array = np.array(image_PIL)\n",
        "\n",
        "    return image_array"
      ]
    },
    {
      "cell_type": "code",
      "execution_count": null,
      "metadata": {
        "id": "ETwcarZEN7Np"
      },
      "outputs": [],
      "source": [
        "from google.colab.patches import cv2_imshow\n",
        "start_input()\n",
        "label_html = 'Capturing...'\n",
        "img_data = ''\n",
        "count = 0\n",
        "\n",
        "# Menginisialisasi MTCNN\n",
        "detector = MTCNN()\n",
        "\n",
        "while True:\n",
        "    js_reply = take_photo(label_html, img_data)\n",
        "    if not js_reply:\n",
        "        break\n",
        "\n",
        "    image = js_reply_to_image(js_reply)\n",
        "\n",
        "    # Mengambil frame dari aliran video berulir dan\n",
        "    # ukurannya maksimum lebar 400 pixel\n",
        "    frame = image\n",
        "    v = True\n",
        "    if v == True:\n",
        "\n",
        "        frame = imutils.resize(frame, width=400)\n",
        "\n",
        "        faces = detector.detect_faces(frame)\n",
        "        faces_list = []\n",
        "        preds = []\n",
        "        for result in faces:\n",
        "            x, y, w, h = result['box']\n",
        "            x1, y1 = x + w, y + h\n",
        "\n",
        "            # Ekstrak ROI wajah, konversikan dari BGR ke pemesanan saluran RGB,\n",
        "            # dan mengubah ukurannya menjadi 224x224, dan lalu pre-prosess\n",
        "            face = image[y:y1, x:x1]\n",
        "            face = cv2.cvtColor(face, cv2.COLOR_BGR2RGB)\n",
        "            face = cv2.resize(face, (224, 224))\n",
        "            face = img_to_array(face)\n",
        "            face = preprocess_input(face)\n",
        "            face = np.expand_dims(face, axis=0)\n",
        "\n",
        "            faces_list.append(face)\n",
        "\n",
        "            if len(faces_list) > 0:\n",
        "                preds = model.predict(faces_list)\n",
        "\n",
        "            # Mendeteksi bermasker atau tidak\n",
        "            for pred in preds:\n",
        "                (mask, withoutMask) = pred\n",
        "\n",
        "                # Menggunakan masker hijau, tidak bermasker merah\n",
        "            label = \"Bermasker\" if mask > withoutMask else \"Tidak Bermasker\"\n",
        "            color = (0, 255, 0) if label == \"Bermasker\" else (0, 0, 255)\n",
        "\n",
        "            # Probabilitas pada label\n",
        "            label = \"{}: {:.2f}%\".format(label, max(mask, withoutMask) * 100)\n",
        "\n",
        "            # Menampilkan hasil dengan label dan kotak dari frame\n",
        "            frame = cv2.putText(frame, label, (x, y - 10),\n",
        "                                cv2.FONT_HERSHEY_SIMPLEX, 0.45, color, 2)\n",
        "            frame = cv2.rectangle(frame, (x, y), (x1, y1), color, 2)\n",
        "\n",
        "            # Menampilkan ouput\n",
        "            cv2_imshow(frame)"
      ]
    },
    {
      "attachments": {},
      "cell_type": "markdown",
      "metadata": {
        "id": "c6ziSC8bK9zR"
      },
      "source": [
        "## Pengujian Streaming Video\n"
      ]
    },
    {
      "cell_type": "code",
      "execution_count": null,
      "metadata": {
        "id": "oqoA42eicSdG"
      },
      "outputs": [],
      "source": [
        "# import dependencies\n",
        "from mtcnn import MTCNN\n",
        "from IPython.display import display, Javascript, Image\n",
        "from google.colab.output import eval_js\n",
        "from base64 import b64decode, b64encode\n",
        "import cv2\n",
        "import numpy as np\n",
        "import PIL\n",
        "import io\n",
        "import html\n",
        "import time"
      ]
    },
    {
      "cell_type": "code",
      "execution_count": null,
      "metadata": {
        "id": "2Id8nYgQTDmw"
      },
      "outputs": [],
      "source": [
        "# function to convert the JavaScript object into an OpenCV image\n",
        "def js_to_image(js_reply):\n",
        "    \"\"\"\n",
        "    Params:\n",
        "            js_reply: JavaScript object containing image from webcam\n",
        "    Returns:\n",
        "            img: OpenCV BGR image\n",
        "    \"\"\"\n",
        "    # decode base64 image\n",
        "    image_bytes = b64decode(js_reply.split(',')[1])\n",
        "    # convert bytes to numpy array\n",
        "    jpg_as_np = np.frombuffer(image_bytes, dtype=np.uint8)\n",
        "    # decode numpy array into OpenCV BGR image\n",
        "    img = cv2.imdecode(jpg_as_np, flags=1)\n",
        "\n",
        "    return img\n",
        "\n",
        "# function to convert OpenCV Rectangle bounding box image into base64 byte string to be overlayed on video stream\n",
        "\n",
        "\n",
        "def bbox_to_bytes(bbox_array):\n",
        "    \"\"\"\n",
        "    Params:\n",
        "            bbox_array: Numpy array (pixels) containing rectangle to overlay on video stream.\n",
        "    Returns:\n",
        "          bytes: Base64 image byte string\n",
        "    \"\"\"\n",
        "    # convert array into PIL image\n",
        "    bbox_PIL = PIL.Image.fromarray(bbox_array, 'RGBA')\n",
        "    iobuf = io.BytesIO()\n",
        "    # format bbox into png for return\n",
        "    bbox_PIL.save(iobuf, format='png')\n",
        "    # format return string\n",
        "    bbox_bytes = 'data:image/png;base64,{}'.format(\n",
        "        (str(b64encode(iobuf.getvalue()), 'utf-8')))\n",
        "\n",
        "    return bbox_bytes"
      ]
    },
    {
      "cell_type": "code",
      "execution_count": null,
      "metadata": {
        "id": "JXrV4AMILGfb"
      },
      "outputs": [],
      "source": [
        "# JavaScript to properly create our live video stream using our webcam as input\n",
        "def video_stream():\n",
        "    js = Javascript('''\n",
        "    var video;\n",
        "    var div = null;\n",
        "    var stream;\n",
        "    var captureCanvas;\n",
        "    var imgElement;\n",
        "    var labelElement;\n",
        "    \n",
        "    var pendingResolve = null;\n",
        "    var shutdown = false;\n",
        "    \n",
        "    function removeDom() {\n",
        "       stream.getVideoTracks()[0].stop();\n",
        "       video.remove();\n",
        "       div.remove();\n",
        "       video = null;\n",
        "       div = null;\n",
        "       stream = null;\n",
        "       imgElement = null;\n",
        "       captureCanvas = null;\n",
        "       labelElement = null;\n",
        "    }\n",
        "    \n",
        "    function onAnimationFrame() {\n",
        "      if (!shutdown) {\n",
        "        window.requestAnimationFrame(onAnimationFrame);\n",
        "      }\n",
        "      if (pendingResolve) {\n",
        "        var result = \"\";\n",
        "        if (!shutdown) {\n",
        "          captureCanvas.getContext('2d').drawImage(video, 0, 0, 512, 512);\n",
        "          result = captureCanvas.toDataURL('image/jpeg', 0.8)\n",
        "        }\n",
        "        var lp = pendingResolve;\n",
        "        pendingResolve = null;\n",
        "        lp(result);\n",
        "      }\n",
        "    }\n",
        "    \n",
        "    async function createDom() {\n",
        "      if (div !== null) {\n",
        "        return stream;\n",
        "      }\n",
        "\n",
        "      div = document.createElement('div');\n",
        "      div.style.border = '2px solid black';\n",
        "      div.style.padding = '3px';\n",
        "      div.style.width = '100%';\n",
        "      div.style.maxWidth = '600px';\n",
        "      document.body.appendChild(div);\n",
        "      \n",
        "      const modelOut = document.createElement('div');\n",
        "      modelOut.innerHTML = \"<span>Status:</span>\";\n",
        "      labelElement = document.createElement('span');\n",
        "      labelElement.innerText = 'No data';\n",
        "      labelElement.style.fontWeight = 'bold';\n",
        "      modelOut.appendChild(labelElement);\n",
        "      div.appendChild(modelOut);\n",
        "           \n",
        "      video = document.createElement('video');\n",
        "      video.style.display = 'block';\n",
        "      video.width = div.clientWidth - 6;\n",
        "      video.setAttribute('playsinline', '');\n",
        "      video.onclick = () => { shutdown = true; };\n",
        "      stream = await navigator.mediaDevices.getUserMedia(\n",
        "          {video: { facingMode: \"environment\"}});\n",
        "      div.appendChild(video);\n",
        "\n",
        "      imgElement = document.createElement('img');\n",
        "      imgElement.style.position = 'absolute';\n",
        "      imgElement.style.zIndex = 1;\n",
        "      imgElement.onclick = () => { shutdown = true; };\n",
        "      div.appendChild(imgElement);\n",
        "      \n",
        "      const instruction = document.createElement('div');\n",
        "      instruction.innerHTML = \n",
        "          '<span style=\"color: red; font-weight: bold;\">' +\n",
        "          'When finished, click here or on the video to stop this demo</span>';\n",
        "      div.appendChild(instruction);\n",
        "      instruction.onclick = () => { shutdown = true; };\n",
        "      \n",
        "      video.srcObject = stream;\n",
        "      await video.play();\n",
        "\n",
        "      captureCanvas = document.createElement('canvas');\n",
        "      captureCanvas.width = 512; //video.videoWidth;\n",
        "      captureCanvas.height = 512; //video.videoHeight;\n",
        "      window.requestAnimationFrame(onAnimationFrame);\n",
        "      \n",
        "      return stream;\n",
        "    }\n",
        "    async function stream_frame(label, imgData) {\n",
        "      if (shutdown) {\n",
        "        removeDom();\n",
        "        shutdown = false;\n",
        "        return '';\n",
        "      }\n",
        "\n",
        "      var preCreate = Date.now();\n",
        "      stream = await createDom();\n",
        "      \n",
        "      var preShow = Date.now();\n",
        "      if (label != \"\") {\n",
        "        labelElement.innerHTML = label;\n",
        "      }\n",
        "            \n",
        "      if (imgData != \"\") {\n",
        "        var videoRect = video.getClientRects()[0];\n",
        "        imgElement.style.top = videoRect.top + \"px\";\n",
        "        imgElement.style.left = videoRect.left + \"px\";\n",
        "        imgElement.style.width = videoRect.width + \"px\";\n",
        "        imgElement.style.height = videoRect.height + \"px\";\n",
        "        imgElement.src = imgData;\n",
        "      }\n",
        "      \n",
        "      var preCapture = Date.now();\n",
        "      var result = await new Promise(function(resolve, reject) {\n",
        "        pendingResolve = resolve;\n",
        "      });\n",
        "      shutdown = false;\n",
        "      \n",
        "      return {'create': preShow - preCreate, \n",
        "              'show': preCapture - preShow, \n",
        "              'capture': Date.now() - preCapture,\n",
        "              'img': result};\n",
        "    }\n",
        "    ''')\n",
        "\n",
        "    display(js)\n",
        "\n",
        "\n",
        "def video_frame(label, bbox):\n",
        "    data = eval_js('stream_frame(\"{}\", \"{}\")'.format(label, bbox))\n",
        "    return data"
      ]
    },
    {
      "cell_type": "code",
      "execution_count": null,
      "metadata": {
        "id": "9whfB0urLIpj"
      },
      "outputs": [],
      "source": [
        "# Memulai streaming video dari webcam\n",
        "video_stream()\n",
        "# Label untuk video\n",
        "label_html = 'Capturing...'\n",
        "bbox = ''\n",
        "count = 0\n",
        "# Menginisialisasi MTCNN\n",
        "detector = MTCNN()\n",
        "\n",
        "while True:\n",
        "    js_reply = video_frame(label_html, bbox)\n",
        "    if not js_reply:\n",
        "        break\n",
        "\n",
        "    # Mengkonvert JS response ke OpenCV Image\n",
        "    img = js_to_image(js_reply[\"img\"])\n",
        "\n",
        "    # Membuat transparan overlay untuk bounding box\n",
        "    bbox_array = np.zeros([512, 512, 4], dtype=np.uint8)\n",
        "\n",
        "    faces = detector.detect_faces(img)\n",
        "    faces_list = []\n",
        "    preds = []\n",
        "\n",
        "    for result in faces:\n",
        "        x, y, w, h = result['box']\n",
        "        x1, y1 = x + w, y + h\n",
        "\n",
        "        # Ekstrak ROI wajah, konversikan dari BGR ke pemesanan saluran RGB,\n",
        "        # dan mengubah ukurannya menjadi 224x224, dan lalu pre-prosess\n",
        "        face = image[y:y1, x:x1]\n",
        "        face = cv2.cvtColor(face, cv2.COLOR_BGR2RGB)\n",
        "        face = cv2.resize(face, (224, 224))\n",
        "        face = img_to_array(face)\n",
        "        face = preprocess_input(face)\n",
        "        face = np.expand_dims(face, axis=0)\n",
        "\n",
        "        faces_list.append(face)\n",
        "\n",
        "        if len(faces_list) > 0:\n",
        "            preds = model.predict(faces_list)\n",
        "\n",
        "        # Mendeteksi bermasker atau tidak\n",
        "        for pred in preds:\n",
        "            (mask, withoutMask) = pred\n",
        "\n",
        "            # Menggunakan masker hijau, tidak bermasker merah\n",
        "        label = \"Bermasker\" if mask > withoutMask else \"Tidak Bermasker\"\n",
        "        color = (0, 255, 0) if label == \"Bermasker\" else (255, 0, 0)\n",
        "\n",
        "        # Probabilitas pada label\n",
        "        label = \"{}: {:.2f}%\".format(label, max(mask, withoutMask) * 100)\n",
        "\n",
        "        # Menampilkan hasil dengan label dan kotak dari frame\n",
        "        bbox_array = cv2.putText(\n",
        "            bbox_array, label, (x, y - 10), cv2.FONT_HERSHEY_SIMPLEX, 0.45, color, 2)\n",
        "        bbox_array = cv2.rectangle(bbox_array, (x, y), (x1, y1), color, 2)\n",
        "\n",
        "    bbox_array[:, :, 3] = (bbox_array.max(axis=2) > 0).astype(int) * 255\n",
        "\n",
        "    # Mengkonversi overlay bbox ke dalam bytes\n",
        "    bbox_bytes = bbox_to_bytes(bbox_array)\n",
        "\n",
        "    # Mengupdate bbox ke pada frame selanjutnya untuk mendapat overlay\n",
        "    bbox = bbox_bytes"
      ]
    }
  ],
  "metadata": {
    "accelerator": "GPU",
    "colab": {
      "collapsed_sections": [
        "njXIK_L3dVXx"
      ],
      "gpuType": "T4",
      "provenance": [],
      "toc_visible": true
    },
    "gpuClass": "standard",
    "kernelspec": {
      "display_name": "Python 3",
      "name": "python3"
    },
    "language_info": {
      "codemirror_mode": {
        "name": "ipython",
        "version": 3
      },
      "file_extension": ".py",
      "mimetype": "text/x-python",
      "name": "python",
      "nbconvert_exporter": "python",
      "pygments_lexer": "ipython3",
      "version": "3.9.17"
    }
  },
  "nbformat": 4,
  "nbformat_minor": 0
}
