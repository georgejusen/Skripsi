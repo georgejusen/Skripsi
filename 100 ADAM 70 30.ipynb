{
  "cells": [
    {
      "attachments": {},
      "cell_type": "markdown",
      "metadata": {
        "id": "44JRqlK3IyFv"
      },
      "source": [
        "**Face Mask Detection**\n",
        "\n",
        "Program Machine Learning untuk mendeteksi penggunaan masker. Program dibuat menggunakan metode CNN dengan arsitektur VGG16Net dan MTCNN untuk face detection.\n"
      ]
    },
    {
      "attachments": {},
      "cell_type": "markdown",
      "metadata": {
        "id": "_BvjSZ30YhWh"
      },
      "source": [
        "## Mengimpor Libraries yang dibutuhkan\n"
      ]
    },
    {
      "cell_type": "code",
      "execution_count": 3,
      "metadata": {
        "colab": {
          "base_uri": "https://localhost:8080/"
        },
        "id": "W3Za-KOKf-Ot",
        "outputId": "24adee42-c900-4da4-e315-be0b6ebae6a5"
      },
      "outputs": [
        {
          "name": "stdout",
          "output_type": "stream",
          "text": [
            "Num GPUs Available:  1\n",
            "Thu Aug 31 13:12:10 2023       \n",
            "+---------------------------------------------------------------------------------------+\n",
            "| NVIDIA-SMI 537.13                 Driver Version: 537.13       CUDA Version: 12.2     |\n",
            "|-----------------------------------------+----------------------+----------------------+\n",
            "| GPU  Name                     TCC/WDDM  | Bus-Id        Disp.A | Volatile Uncorr. ECC |\n",
            "| Fan  Temp   Perf          Pwr:Usage/Cap |         Memory-Usage | GPU-Util  Compute M. |\n",
            "|                                         |                      |               MIG M. |\n",
            "|=========================================+======================+======================|\n",
            "|   0  NVIDIA GeForce GTX 1050      WDDM  | 00000000:01:00.0 Off |                  N/A |\n",
            "| N/A   42C    P8              N/A / ERR! |      0MiB /  3072MiB |      1%      Default |\n",
            "|                                         |                      |                  N/A |\n",
            "+-----------------------------------------+----------------------+----------------------+\n",
            "                                                                                         \n",
            "+---------------------------------------------------------------------------------------+\n",
            "| Processes:                                                                            |\n",
            "|  GPU   GI   CI        PID   Type   Process name                            GPU Memory |\n",
            "|        ID   ID                                                             Usage      |\n",
            "|=======================================================================================|\n",
            "|    0   N/A  N/A     10976      C   ...\\georg\\anaconda3\\envs\\tf\\python.exe    N/A      |\n",
            "+---------------------------------------------------------------------------------------+\n"
          ]
        }
      ],
      "source": [
        "import tensorflow as tf\n",
        "from tensorflow.keras.preprocessing.image import ImageDataGenerator\n",
        "from tensorflow.keras.applications import vgg16\n",
        "from tensorflow.keras.layers import AveragePooling2D\n",
        "from tensorflow.keras.layers import Dropout\n",
        "from tensorflow.keras.layers import Flatten\n",
        "from tensorflow.keras.layers import Dense\n",
        "from tensorflow.keras.layers import Input\n",
        "from tensorflow.keras.models import Model\n",
        "from tensorflow.keras.optimizers import Adam\n",
        "from tensorflow.keras.applications.mobilenet_v2 import preprocess_input\n",
        "from tensorflow.keras.preprocessing.image import img_to_array\n",
        "from tensorflow.keras.preprocessing.image import load_img\n",
        "from tensorflow.keras.utils import to_categorical\n",
        "from sklearn.preprocessing import LabelBinarizer\n",
        "from sklearn.model_selection import train_test_split\n",
        "from sklearn.metrics import classification_report\n",
        "from sklearn.metrics import confusion_matrix\n",
        "from imutils import paths\n",
        "import matplotlib.pyplot as plt\n",
        "import pathlib\n",
        "import numpy as np\n",
        "import argparse\n",
        "import os\n",
        "import itertools\n",
        "\n",
        "\n",
        "print(\"Num GPUs Available: \", len(tf.config.list_physical_devices('GPU')))\n",
        "tf.test.gpu_device_name()\n",
        "\n",
        "!nvidia-smi\n",
        "\n",
        "\n"
      ]
    },
    {
      "attachments": {},
      "cell_type": "markdown",
      "metadata": {
        "id": "ZU5Fqk2vLELg"
      },
      "source": [
        "## Preprocessing Datasets\n"
      ]
    },
    {
      "cell_type": "code",
      "execution_count": 4,
      "metadata": {
        "colab": {
          "base_uri": "https://localhost:8080/"
        },
        "id": "D48VICs21pna",
        "outputId": "cea2273f-1fce-4e75-d91a-b7d54b84edf2"
      },
      "outputs": [
        {
          "name": "stdout",
          "output_type": "stream",
          "text": [
            "Menginput gambar...\n",
            "Input gambar berhasil\n"
          ]
        }
      ],
      "source": [
        "from PIL import Image\n",
        "from imutils import paths\n",
        "import os\n",
        "INIT_LR = 1e-4\n",
        "EPOCHS = 100\n",
        "BS = 32\n",
        "\n",
        "# Mengambil gambar dari dataset directory, kemudian inisialisasi data dan class gambar\n",
        "print(\"Menginput gambar...\")\n",
        "imagePaths = list(paths.list_images(\"dataset_small\"))  # Dataset Penelitian\n",
        "data = []\n",
        "labels = []\n",
        "\n",
        "# Melakukan perulangan pada image paths\n",
        "for imagePath in imagePaths:\n",
        "\n",
        "    # Mengekstrak class label dari filename\n",
        "    label = imagePath.split(os.path.sep)[-2]\n",
        "    # Memuat input gambar (224x224) dan melakukan proses\n",
        "    image = load_img(imagePath, target_size=(224, 224))\n",
        "    image = img_to_array(image)\n",
        "    image = preprocess_input(image)\n",
        "\n",
        "    # Mengupdate data dan labels lists, berurutan\n",
        "    data.append(image)\n",
        "    labels.append(label)\n",
        "\n",
        "# Mengkonversi data dan label ke dalam NumPy Arrays\n",
        "data = np.array(data, dtype=\"float32\")\n",
        "labels = np.array(labels)\n",
        "\n",
        "# Melakukan one-hot encoding on the labels\n",
        "lb = LabelBinarizer()\n",
        "labels = lb.fit_transform(labels)\n",
        "labels = to_categorical(labels)\n",
        "print(\"Input gambar berhasil\")"
      ]
    },
    {
      "attachments": {},
      "cell_type": "markdown",
      "metadata": {
        "id": "aF2vfrgni3tq"
      },
      "source": [
        "### Membuat objek ImageDataGenerator dan Data Augmentation\n"
      ]
    },
    {
      "cell_type": "code",
      "execution_count": 5,
      "metadata": {
        "colab": {
          "base_uri": "https://localhost:8080/"
        },
        "id": "tRBrygye5yvc",
        "outputId": "cbf33c6e-2b61-4896-a861-b723597e9581"
      },
      "outputs": [],
      "source": [
        "# Mempartisi data ke dalam pelatihan dan pengujian ( 80% : 20% )\n",
        "\n",
        "(trainX, testX, trainY, testY) = train_test_split(data, labels, test_size=0.30, stratify=labels, random_state=42)\n",
        "\n",
        "# Membentuk training image generator untuk data augmentation\n",
        "\n",
        "aug = ImageDataGenerator(\n",
        "    rotation_range=20,\n",
        "    zoom_range=0.15,\n",
        "    width_shift_range=0.2,\n",
        "    height_shift_range=0.2,\n",
        "    shear_range=0.15,\n",
        "    horizontal_flip=True,\n",
        "    fill_mode=\"nearest\")"
      ]
    },
    {
      "cell_type": "code",
      "execution_count": 6,
      "metadata": {},
      "outputs": [
        {
          "name": "stdout",
          "output_type": "stream",
          "text": [
            "Jumlah data pelatihan: 1120  Citra\n",
            "Jumlah data pengujian: 480  Citra\n"
          ]
        }
      ],
      "source": [
        "# Melihat jumlah data dalam set pelatihan\n",
        "num_train_samples = trainX.shape[0]\n",
        "print(\"Jumlah data pelatihan:\", num_train_samples, \" Citra\")\n",
        "\n",
        "# Melihat jumlah data dalam set pengujian\n",
        "num_test_samples = testX.shape[0]\n",
        "print(\"Jumlah data pengujian:\", num_test_samples, \" Citra\")"
      ]
    },
    {
      "attachments": {},
      "cell_type": "markdown",
      "metadata": {
        "id": "bHPD753f5205"
      },
      "source": [
        "## Membuat Model Jaringan CNN yang sudah dipelajari sebelumnya (pre-trained convnets)\n"
      ]
    },
    {
      "cell_type": "code",
      "execution_count": 7,
      "metadata": {
        "colab": {
          "base_uri": "https://localhost:8080/"
        },
        "id": "FaDceTqP6HLr",
        "outputId": "549de847-15bc-46e9-f9d8-e024c5fd2a89"
      },
      "outputs": [],
      "source": [
        "# Arsitektur jaringan VGG16Net\n",
        "baseModel = tf.keras.applications.VGG16(weights=\"imagenet\", include_top=False,input_tensor=Input(shape=(224, 224, 3)))\n",
        "# baseModel = tf.keras.applications.VGG16(include_top=False, input_tensor=Input(shape=(224, 224, 3)))\n"
      ]
    },
    {
      "attachments": {},
      "cell_type": "markdown",
      "metadata": {
        "id": "NfSLr2q2LWRZ"
      },
      "source": [
        "### Feature Extraction\n"
      ]
    },
    {
      "cell_type": "code",
      "execution_count": 8,
      "metadata": {
        "colab": {
          "base_uri": "https://localhost:8080/"
        },
        "id": "Z0U2qYnO6KYW",
        "outputId": "00a32ad0-22a0-42a6-8495-b1527f745d2e"
      },
      "outputs": [
        {
          "name": "stdout",
          "output_type": "stream",
          "text": [
            "Model: \"vgg16\"\n",
            "_________________________________________________________________\n",
            " Layer (type)                Output Shape              Param #   \n",
            "=================================================================\n",
            " input_1 (InputLayer)        [(None, 224, 224, 3)]     0         \n",
            "                                                                 \n",
            " block1_conv1 (Conv2D)       (None, 224, 224, 64)      1792      \n",
            "                                                                 \n",
            " block1_conv2 (Conv2D)       (None, 224, 224, 64)      36928     \n",
            "                                                                 \n",
            " block1_pool (MaxPooling2D)  (None, 112, 112, 64)      0         \n",
            "                                                                 \n",
            " block2_conv1 (Conv2D)       (None, 112, 112, 128)     73856     \n",
            "                                                                 \n",
            " block2_conv2 (Conv2D)       (None, 112, 112, 128)     147584    \n",
            "                                                                 \n",
            " block2_pool (MaxPooling2D)  (None, 56, 56, 128)       0         \n",
            "                                                                 \n",
            " block3_conv1 (Conv2D)       (None, 56, 56, 256)       295168    \n",
            "                                                                 \n",
            " block3_conv2 (Conv2D)       (None, 56, 56, 256)       590080    \n",
            "                                                                 \n",
            " block3_conv3 (Conv2D)       (None, 56, 56, 256)       590080    \n",
            "                                                                 \n",
            " block3_pool (MaxPooling2D)  (None, 28, 28, 256)       0         \n",
            "                                                                 \n",
            " block4_conv1 (Conv2D)       (None, 28, 28, 512)       1180160   \n",
            "                                                                 \n",
            " block4_conv2 (Conv2D)       (None, 28, 28, 512)       2359808   \n",
            "                                                                 \n",
            " block4_conv3 (Conv2D)       (None, 28, 28, 512)       2359808   \n",
            "                                                                 \n",
            " block4_pool (MaxPooling2D)  (None, 14, 14, 512)       0         \n",
            "                                                                 \n",
            " block5_conv1 (Conv2D)       (None, 14, 14, 512)       2359808   \n",
            "                                                                 \n",
            " block5_conv2 (Conv2D)       (None, 14, 14, 512)       2359808   \n",
            "                                                                 \n",
            " block5_conv3 (Conv2D)       (None, 14, 14, 512)       2359808   \n",
            "                                                                 \n",
            " block5_pool (MaxPooling2D)  (None, 7, 7, 512)         0         \n",
            "                                                                 \n",
            "=================================================================\n",
            "Total params: 14,714,688\n",
            "Trainable params: 0\n",
            "Non-trainable params: 14,714,688\n",
            "_________________________________________________________________\n"
          ]
        }
      ],
      "source": [
        "baseModel.trainable = False\n",
        "baseModel.summary()"
      ]
    },
    {
      "attachments": {},
      "cell_type": "markdown",
      "metadata": {
        "id": "ENpg9P6Q6SpL"
      },
      "source": [
        "## Tahap Pembuatan Model\n"
      ]
    },
    {
      "cell_type": "code",
      "execution_count": 9,
      "metadata": {},
      "outputs": [
        {
          "name": "stdout",
          "output_type": "stream",
          "text": [
            "Model: \"model\"\n",
            "_________________________________________________________________\n",
            " Layer (type)                Output Shape              Param #   \n",
            "=================================================================\n",
            " input_1 (InputLayer)        [(None, 224, 224, 3)]     0         \n",
            "                                                                 \n",
            " block1_conv1 (Conv2D)       (None, 224, 224, 64)      1792      \n",
            "                                                                 \n",
            " block1_conv2 (Conv2D)       (None, 224, 224, 64)      36928     \n",
            "                                                                 \n",
            " block1_pool (MaxPooling2D)  (None, 112, 112, 64)      0         \n",
            "                                                                 \n",
            " block2_conv1 (Conv2D)       (None, 112, 112, 128)     73856     \n",
            "                                                                 \n",
            " block2_conv2 (Conv2D)       (None, 112, 112, 128)     147584    \n",
            "                                                                 \n",
            " block2_pool (MaxPooling2D)  (None, 56, 56, 128)       0         \n",
            "                                                                 \n",
            " block3_conv1 (Conv2D)       (None, 56, 56, 256)       295168    \n",
            "                                                                 \n",
            " block3_conv2 (Conv2D)       (None, 56, 56, 256)       590080    \n",
            "                                                                 \n",
            " block3_conv3 (Conv2D)       (None, 56, 56, 256)       590080    \n",
            "                                                                 \n",
            " block3_pool (MaxPooling2D)  (None, 28, 28, 256)       0         \n",
            "                                                                 \n",
            " block4_conv1 (Conv2D)       (None, 28, 28, 512)       1180160   \n",
            "                                                                 \n",
            " block4_conv2 (Conv2D)       (None, 28, 28, 512)       2359808   \n",
            "                                                                 \n",
            " block4_conv3 (Conv2D)       (None, 28, 28, 512)       2359808   \n",
            "                                                                 \n",
            " block4_pool (MaxPooling2D)  (None, 14, 14, 512)       0         \n",
            "                                                                 \n",
            " block5_conv1 (Conv2D)       (None, 14, 14, 512)       2359808   \n",
            "                                                                 \n",
            " block5_conv2 (Conv2D)       (None, 14, 14, 512)       2359808   \n",
            "                                                                 \n",
            " block5_conv3 (Conv2D)       (None, 14, 14, 512)       2359808   \n",
            "                                                                 \n",
            " block5_pool (MaxPooling2D)  (None, 7, 7, 512)         0         \n",
            "                                                                 \n",
            " average_pooling2d (AverageP  (None, 1, 1, 512)        0         \n",
            " ooling2D)                                                       \n",
            "                                                                 \n",
            " flatten (Flatten)           (None, 512)               0         \n",
            "                                                                 \n",
            " dense (Dense)               (None, 128)               65664     \n",
            "                                                                 \n",
            " dropout (Dropout)           (None, 128)               0         \n",
            "                                                                 \n",
            " dense_1 (Dense)             (None, 2)                 258       \n",
            "                                                                 \n",
            "=================================================================\n",
            "Total params: 14,780,610\n",
            "Trainable params: 65,922\n",
            "Non-trainable params: 14,714,688\n",
            "_________________________________________________________________\n"
          ]
        }
      ],
      "source": [
        "# Membentuk bagian head dari model yang akan ditempatkan pada base model\n",
        "\n",
        "headModel = baseModel.output\n",
        "headModel = AveragePooling2D(pool_size=(7, 7))(headModel)\n",
        "headModel = Flatten(name=\"flatten\")(headModel)\n",
        "headModel = Dense(128, activation=\"relu\")(headModel)\n",
        "headModel = Dropout(0.5)(headModel)\n",
        "headModel = Dense(2, activation=\"softmax\")(headModel)\n",
        "\n",
        "# Menempatkan head model pada base model\n",
        "model = Model(inputs=baseModel.input, outputs=headModel)\n",
        "model.summary()"
      ]
    },
    {
      "cell_type": "code",
      "execution_count": 10,
      "metadata": {
        "colab": {
          "base_uri": "https://localhost:8080/"
        },
        "id": "WXEyXB5NTU13",
        "outputId": "c5f827c0-3a25-4e98-8b38-2d9a88076619"
      },
      "outputs": [
        {
          "name": "stdout",
          "output_type": "stream",
          "text": [
            "Mengkompilasi model...\n",
            "Model: \"model_1\"\n",
            "_________________________________________________________________\n",
            " Layer (type)                Output Shape              Param #   \n",
            "=================================================================\n",
            " input_1 (InputLayer)        [(None, 224, 224, 3)]     0         \n",
            "                                                                 \n",
            " block1_conv1 (Conv2D)       (None, 224, 224, 64)      1792      \n",
            "                                                                 \n",
            " block1_conv2 (Conv2D)       (None, 224, 224, 64)      36928     \n",
            "                                                                 \n",
            " block1_pool (MaxPooling2D)  (None, 112, 112, 64)      0         \n",
            "                                                                 \n",
            " block2_conv1 (Conv2D)       (None, 112, 112, 128)     73856     \n",
            "                                                                 \n",
            " block2_conv2 (Conv2D)       (None, 112, 112, 128)     147584    \n",
            "                                                                 \n",
            " block2_pool (MaxPooling2D)  (None, 56, 56, 128)       0         \n",
            "                                                                 \n",
            " block3_conv1 (Conv2D)       (None, 56, 56, 256)       295168    \n",
            "                                                                 \n",
            " block3_conv2 (Conv2D)       (None, 56, 56, 256)       590080    \n",
            "                                                                 \n",
            " block3_conv3 (Conv2D)       (None, 56, 56, 256)       590080    \n",
            "                                                                 \n",
            " block3_pool (MaxPooling2D)  (None, 28, 28, 256)       0         \n",
            "                                                                 \n",
            " block4_conv1 (Conv2D)       (None, 28, 28, 512)       1180160   \n",
            "                                                                 \n",
            " block4_conv2 (Conv2D)       (None, 28, 28, 512)       2359808   \n",
            "                                                                 \n",
            " block4_conv3 (Conv2D)       (None, 28, 28, 512)       2359808   \n",
            "                                                                 \n",
            " block4_pool (MaxPooling2D)  (None, 14, 14, 512)       0         \n",
            "                                                                 \n",
            " block5_conv1 (Conv2D)       (None, 14, 14, 512)       2359808   \n",
            "                                                                 \n",
            " block5_conv2 (Conv2D)       (None, 14, 14, 512)       2359808   \n",
            "                                                                 \n",
            " block5_conv3 (Conv2D)       (None, 14, 14, 512)       2359808   \n",
            "                                                                 \n",
            " block5_pool (MaxPooling2D)  (None, 7, 7, 512)         0         \n",
            "                                                                 \n",
            " average_pooling2d_1 (Averag  (None, 1, 1, 512)        0         \n",
            " ePooling2D)                                                     \n",
            "                                                                 \n",
            " flatten (Flatten)           (None, 512)               0         \n",
            "                                                                 \n",
            " dense_2 (Dense)             (None, 128)               65664     \n",
            "                                                                 \n",
            " dropout_1 (Dropout)         (None, 128)               0         \n",
            "                                                                 \n",
            " dense_3 (Dense)             (None, 2)                 258       \n",
            "                                                                 \n",
            "=================================================================\n",
            "Total params: 14,780,610\n",
            "Trainable params: 65,922\n",
            "Non-trainable params: 14,714,688\n",
            "_________________________________________________________________\n"
          ]
        }
      ],
      "source": [
        "\n",
        "headModel = baseModel.output\n",
        "headModel = AveragePooling2D(pool_size=(7, 7))(headModel)\n",
        "headModel = Flatten(name=\"flatten\")(headModel)\n",
        "headModel = Dense(128, activation=\"relu\")(headModel)\n",
        "headModel = Dropout(0.5)(headModel)\n",
        "headModel = Dense(2, activation=\"softmax\")(headModel)\n",
        "\n",
        "# Menempatkan head model pada base model\n",
        "model = Model(inputs=baseModel.input, outputs=headModel)\n",
        "\n",
        "# Perulangan pada seluruh base model\n",
        "for layer in baseModel.layers:\n",
        "    layer.trainable = False\n",
        "\n",
        "# Persiapan kompilasi model\n",
        "print(\"Mengkompilasi model...\")\n",
        "opt = tf.keras.optimizers.legacy.Adam(learning_rate=INIT_LR, decay=INIT_LR / EPOCHS)\n",
        "\n",
        "\n",
        "model.compile(loss=\"binary_crossentropy\", optimizer=opt,metrics=[\"accuracy\"])\n",
        "\n",
        "model.summary()"
      ]
    },
    {
      "attachments": {},
      "cell_type": "markdown",
      "metadata": {
        "id": "lH42Hp3UWrPs"
      },
      "source": [
        "### Melakukan Pelatihan Model\n"
      ]
    },
    {
      "cell_type": "code",
      "execution_count": 11,
      "metadata": {},
      "outputs": [
        {
          "name": "stdout",
          "output_type": "stream",
          "text": [
            "Training head model...\n",
            "Epoch 1/100\n",
            "35/35 [==============================] - 30s 485ms/step - loss: 0.7061 - accuracy: 0.5482 - val_loss: 0.6366 - val_accuracy: 0.8729\n",
            "Epoch 2/100\n",
            "35/35 [==============================] - 17s 481ms/step - loss: 0.6431 - accuracy: 0.6705 - val_loss: 0.5806 - val_accuracy: 0.9354\n",
            "Epoch 3/100\n",
            "35/35 [==============================] - 17s 487ms/step - loss: 0.5805 - accuracy: 0.7830 - val_loss: 0.5307 - val_accuracy: 0.9667\n",
            "Epoch 4/100\n",
            "35/35 [==============================] - 17s 483ms/step - loss: 0.5321 - accuracy: 0.8518 - val_loss: 0.4839 - val_accuracy: 0.9583\n",
            "Epoch 5/100\n",
            "35/35 [==============================] - 17s 468ms/step - loss: 0.4912 - accuracy: 0.8929 - val_loss: 0.4401 - val_accuracy: 0.9604\n",
            "Epoch 6/100\n",
            "35/35 [==============================] - 17s 472ms/step - loss: 0.4571 - accuracy: 0.9045 - val_loss: 0.4008 - val_accuracy: 0.9604\n",
            "Epoch 7/100\n",
            "35/35 [==============================] - 17s 481ms/step - loss: 0.4092 - accuracy: 0.9277 - val_loss: 0.3643 - val_accuracy: 0.9646\n",
            "Epoch 8/100\n",
            "35/35 [==============================] - 17s 478ms/step - loss: 0.3794 - accuracy: 0.9384 - val_loss: 0.3319 - val_accuracy: 0.9646\n",
            "Epoch 9/100\n",
            "35/35 [==============================] - 16s 466ms/step - loss: 0.3500 - accuracy: 0.9509 - val_loss: 0.3019 - val_accuracy: 0.9646\n",
            "Epoch 10/100\n",
            "35/35 [==============================] - 16s 466ms/step - loss: 0.3256 - accuracy: 0.9563 - val_loss: 0.2793 - val_accuracy: 0.9625\n",
            "Epoch 11/100\n",
            "35/35 [==============================] - 17s 480ms/step - loss: 0.2922 - accuracy: 0.9580 - val_loss: 0.2548 - val_accuracy: 0.9625\n",
            "Epoch 12/100\n",
            "35/35 [==============================] - 17s 481ms/step - loss: 0.2765 - accuracy: 0.9643 - val_loss: 0.2344 - val_accuracy: 0.9625\n",
            "Epoch 13/100\n",
            "35/35 [==============================] - 17s 486ms/step - loss: 0.2526 - accuracy: 0.9580 - val_loss: 0.2162 - val_accuracy: 0.9646\n",
            "Epoch 14/100\n",
            "35/35 [==============================] - 17s 484ms/step - loss: 0.2372 - accuracy: 0.9616 - val_loss: 0.1991 - val_accuracy: 0.9646\n",
            "Epoch 15/100\n",
            "35/35 [==============================] - 17s 481ms/step - loss: 0.2243 - accuracy: 0.9616 - val_loss: 0.1859 - val_accuracy: 0.9646\n",
            "Epoch 16/100\n",
            "35/35 [==============================] - 17s 484ms/step - loss: 0.2058 - accuracy: 0.9750 - val_loss: 0.1709 - val_accuracy: 0.9667\n",
            "Epoch 17/100\n",
            "35/35 [==============================] - 17s 486ms/step - loss: 0.1956 - accuracy: 0.9652 - val_loss: 0.1601 - val_accuracy: 0.9667\n",
            "Epoch 18/100\n",
            "35/35 [==============================] - 17s 490ms/step - loss: 0.1860 - accuracy: 0.9732 - val_loss: 0.1512 - val_accuracy: 0.9667\n",
            "Epoch 19/100\n",
            "35/35 [==============================] - 18s 500ms/step - loss: 0.1708 - accuracy: 0.9741 - val_loss: 0.1430 - val_accuracy: 0.9667\n",
            "Epoch 20/100\n",
            "35/35 [==============================] - 17s 480ms/step - loss: 0.1682 - accuracy: 0.9643 - val_loss: 0.1378 - val_accuracy: 0.9646\n",
            "Epoch 21/100\n",
            "35/35 [==============================] - 17s 482ms/step - loss: 0.1558 - accuracy: 0.9732 - val_loss: 0.1313 - val_accuracy: 0.9646\n",
            "Epoch 22/100\n",
            "35/35 [==============================] - 17s 488ms/step - loss: 0.1509 - accuracy: 0.9750 - val_loss: 0.1250 - val_accuracy: 0.9625\n",
            "Epoch 23/100\n",
            "35/35 [==============================] - 18s 509ms/step - loss: 0.1462 - accuracy: 0.9714 - val_loss: 0.1201 - val_accuracy: 0.9625\n",
            "Epoch 24/100\n",
            "35/35 [==============================] - 17s 484ms/step - loss: 0.1345 - accuracy: 0.9786 - val_loss: 0.1138 - val_accuracy: 0.9667\n",
            "Epoch 25/100\n",
            "35/35 [==============================] - 17s 481ms/step - loss: 0.1343 - accuracy: 0.9759 - val_loss: 0.1103 - val_accuracy: 0.9646\n",
            "Epoch 26/100\n",
            "35/35 [==============================] - 17s 487ms/step - loss: 0.1268 - accuracy: 0.9768 - val_loss: 0.1075 - val_accuracy: 0.9646\n",
            "Epoch 27/100\n",
            "35/35 [==============================] - 17s 482ms/step - loss: 0.1212 - accuracy: 0.9804 - val_loss: 0.1064 - val_accuracy: 0.9625\n",
            "Epoch 28/100\n",
            "35/35 [==============================] - 17s 485ms/step - loss: 0.1136 - accuracy: 0.9786 - val_loss: 0.0961 - val_accuracy: 0.9729\n",
            "Epoch 29/100\n",
            "35/35 [==============================] - 17s 490ms/step - loss: 0.1120 - accuracy: 0.9768 - val_loss: 0.0940 - val_accuracy: 0.9729\n",
            "Epoch 30/100\n",
            "35/35 [==============================] - 17s 485ms/step - loss: 0.1023 - accuracy: 0.9821 - val_loss: 0.0956 - val_accuracy: 0.9688\n",
            "Epoch 31/100\n",
            "35/35 [==============================] - 17s 488ms/step - loss: 0.1105 - accuracy: 0.9741 - val_loss: 0.0896 - val_accuracy: 0.9729\n",
            "Epoch 32/100\n",
            "35/35 [==============================] - 17s 495ms/step - loss: 0.0997 - accuracy: 0.9804 - val_loss: 0.0863 - val_accuracy: 0.9729\n",
            "Epoch 33/100\n",
            "35/35 [==============================] - 17s 494ms/step - loss: 0.0970 - accuracy: 0.9812 - val_loss: 0.0886 - val_accuracy: 0.9729\n",
            "Epoch 34/100\n",
            "35/35 [==============================] - 17s 488ms/step - loss: 0.0993 - accuracy: 0.9759 - val_loss: 0.0852 - val_accuracy: 0.9729\n",
            "Epoch 35/100\n",
            "35/35 [==============================] - 18s 504ms/step - loss: 0.0919 - accuracy: 0.9804 - val_loss: 0.0830 - val_accuracy: 0.9750\n",
            "Epoch 36/100\n",
            "35/35 [==============================] - 18s 500ms/step - loss: 0.0932 - accuracy: 0.9795 - val_loss: 0.0822 - val_accuracy: 0.9750\n",
            "Epoch 37/100\n",
            "35/35 [==============================] - 17s 490ms/step - loss: 0.0876 - accuracy: 0.9786 - val_loss: 0.0819 - val_accuracy: 0.9750\n",
            "Epoch 38/100\n",
            "35/35 [==============================] - 18s 505ms/step - loss: 0.0889 - accuracy: 0.9795 - val_loss: 0.0783 - val_accuracy: 0.9750\n",
            "Epoch 39/100\n",
            "35/35 [==============================] - 17s 488ms/step - loss: 0.0816 - accuracy: 0.9830 - val_loss: 0.0776 - val_accuracy: 0.9750\n",
            "Epoch 40/100\n",
            "35/35 [==============================] - 17s 488ms/step - loss: 0.0792 - accuracy: 0.9830 - val_loss: 0.0763 - val_accuracy: 0.9750\n",
            "Epoch 41/100\n",
            "35/35 [==============================] - 17s 487ms/step - loss: 0.0753 - accuracy: 0.9866 - val_loss: 0.0766 - val_accuracy: 0.9750\n",
            "Epoch 42/100\n",
            "35/35 [==============================] - 17s 488ms/step - loss: 0.0745 - accuracy: 0.9821 - val_loss: 0.0698 - val_accuracy: 0.9750\n",
            "Epoch 43/100\n",
            "35/35 [==============================] - 17s 488ms/step - loss: 0.0773 - accuracy: 0.9812 - val_loss: 0.0751 - val_accuracy: 0.9750\n",
            "Epoch 44/100\n",
            "35/35 [==============================] - 17s 490ms/step - loss: 0.0718 - accuracy: 0.9830 - val_loss: 0.0732 - val_accuracy: 0.9750\n",
            "Epoch 45/100\n",
            "35/35 [==============================] - 17s 489ms/step - loss: 0.0713 - accuracy: 0.9857 - val_loss: 0.0703 - val_accuracy: 0.9750\n",
            "Epoch 46/100\n",
            "35/35 [==============================] - 17s 482ms/step - loss: 0.0748 - accuracy: 0.9830 - val_loss: 0.0740 - val_accuracy: 0.9729\n",
            "Epoch 47/100\n",
            "35/35 [==============================] - 17s 488ms/step - loss: 0.0688 - accuracy: 0.9875 - val_loss: 0.0722 - val_accuracy: 0.9750\n",
            "Epoch 48/100\n",
            "35/35 [==============================] - 17s 485ms/step - loss: 0.0684 - accuracy: 0.9804 - val_loss: 0.0644 - val_accuracy: 0.9750\n",
            "Epoch 49/100\n",
            "35/35 [==============================] - 17s 492ms/step - loss: 0.0697 - accuracy: 0.9857 - val_loss: 0.0714 - val_accuracy: 0.9729\n",
            "Epoch 50/100\n",
            "35/35 [==============================] - 17s 493ms/step - loss: 0.0695 - accuracy: 0.9812 - val_loss: 0.0677 - val_accuracy: 0.9750\n",
            "Epoch 51/100\n",
            "35/35 [==============================] - 17s 486ms/step - loss: 0.0668 - accuracy: 0.9795 - val_loss: 0.0656 - val_accuracy: 0.9750\n",
            "Epoch 52/100\n",
            "35/35 [==============================] - 18s 497ms/step - loss: 0.0659 - accuracy: 0.9857 - val_loss: 0.0687 - val_accuracy: 0.9729\n",
            "Epoch 53/100\n",
            "35/35 [==============================] - 18s 521ms/step - loss: 0.0651 - accuracy: 0.9875 - val_loss: 0.0627 - val_accuracy: 0.9750\n",
            "Epoch 54/100\n",
            "35/35 [==============================] - 17s 481ms/step - loss: 0.0640 - accuracy: 0.9821 - val_loss: 0.0647 - val_accuracy: 0.9750\n",
            "Epoch 55/100\n",
            "35/35 [==============================] - 17s 480ms/step - loss: 0.0714 - accuracy: 0.9839 - val_loss: 0.0649 - val_accuracy: 0.9750\n",
            "Epoch 56/100\n",
            "35/35 [==============================] - 17s 485ms/step - loss: 0.0583 - accuracy: 0.9884 - val_loss: 0.0606 - val_accuracy: 0.9750\n",
            "Epoch 57/100\n",
            "35/35 [==============================] - 17s 489ms/step - loss: 0.0559 - accuracy: 0.9911 - val_loss: 0.0604 - val_accuracy: 0.9750\n",
            "Epoch 58/100\n",
            "35/35 [==============================] - 17s 491ms/step - loss: 0.0552 - accuracy: 0.9884 - val_loss: 0.0628 - val_accuracy: 0.9750\n",
            "Epoch 59/100\n",
            "35/35 [==============================] - 17s 485ms/step - loss: 0.0587 - accuracy: 0.9866 - val_loss: 0.0661 - val_accuracy: 0.9729\n",
            "Epoch 60/100\n",
            "35/35 [==============================] - 17s 482ms/step - loss: 0.0520 - accuracy: 0.9866 - val_loss: 0.0615 - val_accuracy: 0.9750\n",
            "Epoch 61/100\n",
            "35/35 [==============================] - 17s 484ms/step - loss: 0.0570 - accuracy: 0.9884 - val_loss: 0.0660 - val_accuracy: 0.9729\n",
            "Epoch 62/100\n",
            "35/35 [==============================] - 17s 485ms/step - loss: 0.0554 - accuracy: 0.9875 - val_loss: 0.0602 - val_accuracy: 0.9750\n",
            "Epoch 63/100\n",
            "35/35 [==============================] - 17s 490ms/step - loss: 0.0535 - accuracy: 0.9875 - val_loss: 0.0636 - val_accuracy: 0.9729\n",
            "Epoch 64/100\n",
            "35/35 [==============================] - 17s 488ms/step - loss: 0.0520 - accuracy: 0.9866 - val_loss: 0.0627 - val_accuracy: 0.9729\n",
            "Epoch 65/100\n",
            "35/35 [==============================] - 18s 501ms/step - loss: 0.0642 - accuracy: 0.9848 - val_loss: 0.0596 - val_accuracy: 0.9729\n",
            "Epoch 66/100\n",
            "35/35 [==============================] - 17s 493ms/step - loss: 0.0525 - accuracy: 0.9875 - val_loss: 0.0610 - val_accuracy: 0.9729\n",
            "Epoch 67/100\n",
            "35/35 [==============================] - 17s 487ms/step - loss: 0.0586 - accuracy: 0.9848 - val_loss: 0.0605 - val_accuracy: 0.9729\n",
            "Epoch 68/100\n",
            "35/35 [==============================] - 17s 484ms/step - loss: 0.0486 - accuracy: 0.9884 - val_loss: 0.0611 - val_accuracy: 0.9729\n",
            "Epoch 69/100\n",
            "35/35 [==============================] - 17s 486ms/step - loss: 0.0540 - accuracy: 0.9839 - val_loss: 0.0601 - val_accuracy: 0.9729\n",
            "Epoch 70/100\n",
            "35/35 [==============================] - 17s 493ms/step - loss: 0.0507 - accuracy: 0.9884 - val_loss: 0.0593 - val_accuracy: 0.9729\n",
            "Epoch 71/100\n",
            "35/35 [==============================] - 18s 506ms/step - loss: 0.0523 - accuracy: 0.9857 - val_loss: 0.0580 - val_accuracy: 0.9729\n",
            "Epoch 72/100\n",
            "35/35 [==============================] - 18s 510ms/step - loss: 0.0461 - accuracy: 0.9866 - val_loss: 0.0596 - val_accuracy: 0.9729\n",
            "Epoch 73/100\n",
            "35/35 [==============================] - 20s 555ms/step - loss: 0.0463 - accuracy: 0.9929 - val_loss: 0.0535 - val_accuracy: 0.9771\n",
            "Epoch 74/100\n",
            "35/35 [==============================] - 20s 551ms/step - loss: 0.0496 - accuracy: 0.9839 - val_loss: 0.0631 - val_accuracy: 0.9729\n",
            "Epoch 75/100\n",
            "35/35 [==============================] - 20s 569ms/step - loss: 0.0491 - accuracy: 0.9875 - val_loss: 0.0543 - val_accuracy: 0.9750\n",
            "Epoch 76/100\n",
            "35/35 [==============================] - 20s 573ms/step - loss: 0.0490 - accuracy: 0.9866 - val_loss: 0.0585 - val_accuracy: 0.9729\n",
            "Epoch 77/100\n",
            "35/35 [==============================] - 21s 597ms/step - loss: 0.0556 - accuracy: 0.9812 - val_loss: 0.0591 - val_accuracy: 0.9729\n",
            "Epoch 78/100\n",
            "35/35 [==============================] - 20s 569ms/step - loss: 0.0582 - accuracy: 0.9848 - val_loss: 0.0509 - val_accuracy: 0.9771\n",
            "Epoch 79/100\n",
            "35/35 [==============================] - 19s 525ms/step - loss: 0.0470 - accuracy: 0.9866 - val_loss: 0.0561 - val_accuracy: 0.9729\n",
            "Epoch 80/100\n",
            "35/35 [==============================] - 18s 516ms/step - loss: 0.0430 - accuracy: 0.9911 - val_loss: 0.0552 - val_accuracy: 0.9729\n",
            "Epoch 81/100\n",
            "35/35 [==============================] - 19s 541ms/step - loss: 0.0426 - accuracy: 0.9884 - val_loss: 0.0577 - val_accuracy: 0.9729\n",
            "Epoch 82/100\n",
            "35/35 [==============================] - 18s 501ms/step - loss: 0.0427 - accuracy: 0.9866 - val_loss: 0.0570 - val_accuracy: 0.9729\n",
            "Epoch 83/100\n",
            "35/35 [==============================] - 18s 524ms/step - loss: 0.0447 - accuracy: 0.9893 - val_loss: 0.0574 - val_accuracy: 0.9729\n",
            "Epoch 84/100\n",
            "35/35 [==============================] - 18s 525ms/step - loss: 0.0419 - accuracy: 0.9875 - val_loss: 0.0534 - val_accuracy: 0.9729\n",
            "Epoch 85/100\n",
            "35/35 [==============================] - 19s 554ms/step - loss: 0.0420 - accuracy: 0.9866 - val_loss: 0.0554 - val_accuracy: 0.9729\n",
            "Epoch 86/100\n",
            "35/35 [==============================] - 19s 531ms/step - loss: 0.0415 - accuracy: 0.9857 - val_loss: 0.0515 - val_accuracy: 0.9771\n",
            "Epoch 87/100\n",
            "35/35 [==============================] - 18s 513ms/step - loss: 0.0429 - accuracy: 0.9884 - val_loss: 0.0544 - val_accuracy: 0.9729\n",
            "Epoch 88/100\n",
            "35/35 [==============================] - 18s 503ms/step - loss: 0.0426 - accuracy: 0.9875 - val_loss: 0.0546 - val_accuracy: 0.9729\n",
            "Epoch 89/100\n",
            "35/35 [==============================] - 18s 525ms/step - loss: 0.0455 - accuracy: 0.9857 - val_loss: 0.0572 - val_accuracy: 0.9729\n",
            "Epoch 90/100\n",
            "35/35 [==============================] - 18s 516ms/step - loss: 0.0466 - accuracy: 0.9884 - val_loss: 0.0538 - val_accuracy: 0.9729\n",
            "Epoch 91/100\n",
            "35/35 [==============================] - 19s 540ms/step - loss: 0.0431 - accuracy: 0.9866 - val_loss: 0.0565 - val_accuracy: 0.9729\n",
            "Epoch 92/100\n",
            "35/35 [==============================] - 19s 532ms/step - loss: 0.0474 - accuracy: 0.9839 - val_loss: 0.0520 - val_accuracy: 0.9750\n",
            "Epoch 93/100\n",
            "35/35 [==============================] - 17s 488ms/step - loss: 0.0417 - accuracy: 0.9902 - val_loss: 0.0535 - val_accuracy: 0.9729\n",
            "Epoch 94/100\n",
            "35/35 [==============================] - 19s 551ms/step - loss: 0.0426 - accuracy: 0.9875 - val_loss: 0.0586 - val_accuracy: 0.9729\n",
            "Epoch 95/100\n",
            "35/35 [==============================] - 19s 533ms/step - loss: 0.0405 - accuracy: 0.9884 - val_loss: 0.0559 - val_accuracy: 0.9729\n",
            "Epoch 96/100\n",
            "35/35 [==============================] - 18s 506ms/step - loss: 0.0379 - accuracy: 0.9884 - val_loss: 0.0558 - val_accuracy: 0.9729\n",
            "Epoch 97/100\n",
            "35/35 [==============================] - 18s 500ms/step - loss: 0.0395 - accuracy: 0.9893 - val_loss: 0.0495 - val_accuracy: 0.9771\n",
            "Epoch 98/100\n",
            "35/35 [==============================] - 18s 509ms/step - loss: 0.0412 - accuracy: 0.9866 - val_loss: 0.0488 - val_accuracy: 0.9792\n",
            "Epoch 99/100\n",
            "35/35 [==============================] - 18s 501ms/step - loss: 0.0426 - accuracy: 0.9893 - val_loss: 0.0550 - val_accuracy: 0.9729\n",
            "Epoch 100/100\n",
            "35/35 [==============================] - 18s 520ms/step - loss: 0.0396 - accuracy: 0.9893 - val_loss: 0.0476 - val_accuracy: 0.9792\n",
            "Training completed in 1777.38 seconds.\n"
          ]
        }
      ],
      "source": [
        "import time\n",
        "\n",
        "# ...\n",
        "\n",
        "print(\"Training head model...\")\n",
        "\n",
        "start_time = time.time()  # Memulai penghitungan waktu\n",
        "\n",
        "H = model.fit(\n",
        "    aug.flow(trainX, trainY, batch_size=BS),\n",
        "    steps_per_epoch=len(trainX) // BS,\n",
        "    validation_data=(testX, testY),\n",
        "    validation_steps=len(testX) // BS,\n",
        "    epochs=EPOCHS,\n",
        "    verbose=1)\n",
        "\n",
        "end_time = time.time()  # Mengakhiri penghitungan waktu\n",
        "training_duration = end_time - start_time  # Menghitung durasi waktu pelatihan dalam detik\n",
        "\n",
        "# ...\n",
        "\n",
        "print(f\"Training completed in {training_duration:.2f} seconds.\")  # Menampilkan durasi waktu pelatihan\n"
      ]
    },
    {
      "attachments": {},
      "cell_type": "markdown",
      "metadata": {
        "id": "MxqTwaGi7Wzs"
      },
      "source": [
        "## Menampilkan Grafik Model Hasil Pelatihan\n"
      ]
    },
    {
      "cell_type": "code",
      "execution_count": 12,
      "metadata": {
        "colab": {
          "base_uri": "https://localhost:8080/",
          "height": 471
        },
        "id": "OURpwhV87ac9",
        "outputId": "2321944e-4977-419e-a3f6-921b3801a1a0"
      },
      "outputs": [
        {
          "data": {
            "image/png": "[encoded data removed]",
            "text/plain": [
              "<Figure size 1500x1000 with 2 Axes>"
            ]
          },
          "metadata": {},
          "output_type": "display_data"
        }
      ],
      "source": [
        "N = EPOCHS\n",
        "fig = plt.figure(figsize=(7, 4))\n",
        "fig.set_figheight(10)\n",
        "fig.set_figwidth(15)\n",
        "\n",
        "plt.subplot(2, 2, 1)\n",
        "plt.plot(np.arange(0, N), H.history[\"accuracy\"], label=\"Training Accuracy\")\n",
        "plt.plot(np.arange(0, N),\n",
        "         H.history[\"val_accuracy\"], label=\"Validation Accuracy\")\n",
        "plt.legend()\n",
        "plt.xlabel(\"Epoch #\")\n",
        "plt.ylabel(\"Akurasi\")\n",
        "plt.title(\"Kurva Tingkat Akurasi\", size=15)\n",
        "plt.grid(zorder=0)\n",
        "\n",
        "plt.subplot(2, 2, 2)\n",
        "plt.plot(np.arange(0, N), H.history[\"loss\"], label=\"Training Loss\")\n",
        "plt.plot(np.arange(0, N), H.history[\"val_loss\"], label=\"Validation Loss\")\n",
        "plt.legend()\n",
        "plt.xlabel(\"Epoch #\")\n",
        "plt.ylabel(\"Error\")\n",
        "plt.title(\"Kurva Tingkat Error\", size=15)\n",
        "plt.grid(zorder=0)\n",
        "plt.show()"
      ]
    },
    {
      "attachments": {},
      "cell_type": "markdown",
      "metadata": {
        "id": "3Mqe8nNB7lp8"
      },
      "source": [
        "## Evaluasi Jaringan\n"
      ]
    },
    {
      "cell_type": "code",
      "execution_count": 13,
      "metadata": {
        "colab": {
          "base_uri": "https://localhost:8080/"
        },
        "id": "HLxROO1pg7Em",
        "outputId": "a1c09ec8-8171-4997-ad03-415a0327d317"
      },
      "outputs": [
        {
          "name": "stdout",
          "output_type": "stream",
          "text": [
            "['loss', 'accuracy']\n",
            "15/15 [==============================] - 4s 272ms/step - loss: 0.0476 - accuracy: 0.9792\n",
            "[0.04755162447690964, 0.9791666865348816]\n"
          ]
        }
      ],
      "source": [
        "# Memeriksa matriks model\n",
        "print(model.metrics_names)\n",
        "# Evaluasi data test\n",
        "'''\n",
        "print(model.evaluate(x= testX, y = testY))\n",
        "'''\n",
        "\n",
        "print(model.evaluate(x=testX, y=testY))\n",
        "# evaluasi fold"
      ]
    },
    {
      "cell_type": "code",
      "execution_count": 14,
      "metadata": {
        "colab": {
          "base_uri": "https://localhost:8080/"
        },
        "id": "ySJujhciZvlQ",
        "outputId": "2a63ec46-9249-4de9-cd1e-fb45cf24ab7e"
      },
      "outputs": [
        {
          "name": "stdout",
          "output_type": "stream",
          "text": [
            "15/15 [==============================] - 5s 336ms/step\n",
            "[0 0 0 1 1 1 1 1 0 1 0 1 1 0 1 0 1 0 0 0 1 1 0 0 0 1 1 1 0 0 0 1 1 0 1 1 0\n",
            " 0 0 0 1 0 0 0 0 1 0 0 1 1 1 1 0 0 1 0 0 0 0 0 1 0 1 1 0 1 1 1 0 1 1 0 0 0\n",
            " 0 0 1 1 1 0 1 0 0 0 0 1 1 0 0 0 0 0 1 0 1 1 1 0 1 1 0 0 1 1 1 0 0 1 1 0 0\n",
            " 1 1 0 1 0 1 0 1 0 0 1 0 1 0 1 0 0 1 0 0 0 1 0 0 0 0 1 1 1 0 0 0 0 0 1 1 0\n",
            " 1 1 1 1 1 0 0 0 0 1 1 0 1 0 1 0 1 0 1 1 1 0 0 1 1 1 0 1 0 1 1 1 1 0 1 0 1\n",
            " 0 0 0 1 1 1 0 1 1 0 0 1 1 0 1 1 0 0 0 0 0 1 0 1 1 1 1 1 0 0 1 1 1 0 1 0 0\n",
            " 0 0 0 0 0 0 0 1 1 0 1 1 1 1 1 0 0 1 0 0 1 1 1 0 0 1 1 1 1 1 0 0 0 1 0 0 1\n",
            " 0 0 1 1 0 1 1 1 0 1 0 1 0 0 0 1 1 0 0 1 1 0 1 0 1 0 1 1 0 1 1 1 0 0 0 0 0\n",
            " 0 1 1 0 1 0 1 1 0 0 0 0 0 1 1 1 1 1 1 1 1 0 1 1 0 0 0 1 0 1 0 0 0 1 1 1 0\n",
            " 0 0 0 1 0 1 1 0 1 1 0 1 0 1 0 1 1 0 1 0 1 1 0 0 1 1 1 1 0 0 1 0 1 1 1 0 0\n",
            " 1 0 1 1 1 1 0 0 1 0 1 1 1 1 0 1 1 1 0 0 1 0 1 0 1 0 0 0 1 0 1 0 0 0 0 0 0\n",
            " 0 1 1 1 1 1 0 0 1 0 1 0 0 1 0 1 1 1 1 0 1 0 1 0 1 0 1 1 1 0 0 0 0 1 1 1 0\n",
            " 0 1 1 1 1 0 0 0 0 0 1 0 0 0 1 0 1 0 0 1 0 0 0 1 1 1 1 1 1 1 0 0 1 1 0 0]\n",
            "[0 0 0 1 1 1 1 1 0 1 0 1 1 0 1 0 1 1 1 0 1 1 0 0 0 1 1 1 0 0 1 1 1 0 1 1 0\n",
            " 0 0 0 1 0 0 0 0 1 0 0 1 1 1 1 0 0 1 0 0 0 0 0 1 0 1 1 0 1 1 1 0 1 1 0 0 0\n",
            " 0 0 1 1 1 0 1 0 0 0 0 1 1 0 0 0 0 0 1 0 1 1 1 0 1 1 0 0 1 1 1 0 0 1 1 0 0\n",
            " 1 1 0 1 0 1 0 1 0 0 1 0 1 0 1 0 0 1 0 0 0 1 0 0 0 0 1 1 1 0 0 0 0 0 1 1 0\n",
            " 1 1 1 1 1 0 0 0 0 1 1 0 1 0 1 0 1 0 1 1 1 0 0 1 1 1 0 1 0 1 1 1 1 0 1 0 1\n",
            " 0 0 0 1 1 1 0 1 1 0 0 1 1 0 1 1 0 0 0 0 0 1 0 1 1 1 1 1 1 0 1 1 1 0 1 0 0\n",
            " 0 0 0 0 0 0 0 1 1 0 1 1 1 1 1 0 0 1 0 1 1 1 1 0 0 1 1 1 1 1 0 0 0 1 0 0 1\n",
            " 0 0 1 1 0 1 1 1 0 1 0 1 0 0 0 1 1 0 0 1 1 0 1 0 1 0 1 1 0 1 1 1 0 0 0 0 0\n",
            " 0 1 1 0 1 0 1 1 0 0 0 0 0 1 1 1 1 1 1 1 1 0 1 1 0 1 0 1 1 1 0 0 0 1 1 1 1\n",
            " 0 0 0 1 1 1 1 0 1 1 0 1 0 1 0 1 1 0 1 0 1 1 0 0 1 1 1 1 0 0 1 0 1 1 1 0 0\n",
            " 1 0 1 1 1 1 0 0 1 0 1 1 1 1 0 1 1 1 0 0 1 0 1 0 1 0 0 0 1 1 1 0 0 0 0 0 0\n",
            " 0 1 1 1 1 1 0 0 1 0 1 0 0 1 0 1 1 1 1 0 1 0 1 0 1 0 1 1 1 0 0 0 0 1 1 1 0\n",
            " 0 1 1 1 1 0 0 0 0 0 1 0 0 0 1 0 1 0 0 1 0 0 0 1 1 1 1 1 1 1 0 0 1 1 0 0]\n"
          ]
        }
      ],
      "source": [
        "# Menampilkan matriks yang benar dan matriks hasil prediksi\n",
        "# Label yang benar\n",
        "yTrue = np.argmax(testY, axis=1)\n",
        "\n",
        "# Label prediksi\n",
        "YPred = model.predict(testX, batch_size=BS)\n",
        "yPred = np.argmax(YPred, axis=1)\n",
        "\n",
        "print(yTrue)\n",
        "print(yPred)"
      ]
    },
    {
      "attachments": {},
      "cell_type": "markdown",
      "metadata": {
        "id": "yl0Y-D41imCP"
      },
      "source": [
        "## Confusion Matrix\n"
      ]
    },
    {
      "cell_type": "code",
      "execution_count": 15,
      "metadata": {
        "colab": {
          "base_uri": "https://localhost:8080/"
        },
        "id": "EL_ROzJdh6pm",
        "outputId": "d85cbdc9-735a-47f3-dd2b-ebaa9d705de3"
      },
      "outputs": [],
      "source": [
        "\n",
        "def get_confusion_matrix(yTrue, yPred):\n",
        "    n_classes = len(np.unique(yTrue))\n",
        "    conf = np.zeros((n_classes, n_classes))\n",
        "    for actual, pred in zip(yTrue, yPred):\n",
        "        conf[int(actual)][int(pred)] += 1\n",
        "    return conf.astype('int')"
      ]
    },
    {
      "cell_type": "code",
      "execution_count": 16,
      "metadata": {
        "colab": {
          "base_uri": "https://localhost:8080/"
        },
        "id": "YxoC6xxjaCrf",
        "outputId": "789d26ad-0fe5-42b4-b099-84c5631bd977"
      },
      "outputs": [
        {
          "data": {
            "text/plain": [
              "array([[230,  10],\n",
              "       [  0, 240]])"
            ]
          },
          "execution_count": 16,
          "metadata": {},
          "output_type": "execute_result"
        }
      ],
      "source": [
        "conf = get_confusion_matrix(yTrue, yPred)\n",
        "conf"
      ]
    },
    {
      "cell_type": "code",
      "execution_count": 17,
      "metadata": {
        "colab": {
          "base_uri": "https://localhost:8080/",
          "height": 541
        },
        "id": "Ss9YmprkdirH",
        "outputId": "a46b056d-74e4-4028-c5b4-30566ad16782"
      },
      "outputs": [
        {
          "data": {
            "text/plain": [
              "Text(0.5, 23.52222222222222, 'Label Prediksi')"
            ]
          },
          "execution_count": 17,
          "metadata": {},
          "output_type": "execute_result"
        },
        {
          "data": {
            "image/png": "[encoded data removed]",
            "text/plain": [
              "<Figure size 640x480 with 2 Axes>"
            ]
          },
          "metadata": {},
          "output_type": "display_data"
        }
      ],
      "source": [
        "classes = [0, 1]\n",
        "# Plot confusion matrix\n",
        "plt.imshow(conf, interpolation='nearest', cmap=plt.cm.Greens)\n",
        "plt.title(\"Confusion Matrix\")\n",
        "plt.colorbar()\n",
        "tick_marks = np.arange(len(classes))\n",
        "plt.xticks(tick_marks, classes)\n",
        "plt.yticks(tick_marks, classes)\n",
        "\n",
        "fmt = 'd'\n",
        "thresh = conf.max() / 2.\n",
        "for i, j in itertools.product(range(conf.shape[0]), range(conf.shape[1])):\n",
        "    plt.text(j, i, format(conf[i, j], fmt),\n",
        "             horizontalalignment=\"center\",\n",
        "             color=\"white\" if conf[i, j] > thresh else \"black\")\n",
        "\n",
        "plt.tight_layout()\n",
        "plt.ylabel('Label benar')\n",
        "plt.xlabel('Label Prediksi')"
      ]
    },
    {
      "attachments": {},
      "cell_type": "markdown",
      "metadata": {
        "id": "Sr58aW7Ui7PD"
      },
      "source": [
        "Analisis mAP\n"
      ]
    },
    {
      "cell_type": "code",
      "execution_count": 18,
      "metadata": {},
      "outputs": [
        {
          "name": "stdout",
          "output_type": "stream",
          "text": [
            "Akurasi: 0.9791666666666666\n",
            "Recall: 1.0\n",
            "Presisi: 0.96\n",
            "F1-Score: 0.9795918367346939\n"
          ]
        }
      ],
      "source": [
        "from sklearn.metrics import accuracy_score, recall_score, precision_score, f1_score\n",
        "# menghitung nilai accuracy\n",
        "accuracy = accuracy_score(yTrue, yPred)\n",
        "\n",
        "# Menghitung nilai recall\n",
        "recall = recall_score(yTrue, yPred)\n",
        "\n",
        "# Menghitung nilai presisi\n",
        "precision = precision_score(yTrue, yPred)\n",
        "\n",
        "# Menghitung nilai F1-Score\n",
        "f1 = f1_score(yTrue, yPred)\n",
        "\n",
        "print(\"Akurasi:\", accuracy)\n",
        "print(\"Recall:\", recall)\n",
        "print(\"Presisi:\", precision)\n",
        "print(\"F1-Score:\", f1)"
      ]
    },
    {
      "cell_type": "code",
      "execution_count": 19,
      "metadata": {
        "colab": {
          "base_uri": "https://localhost:8080/"
        },
        "id": "BDPEy5zamOoi",
        "outputId": "cf046df8-a326-4673-82da-695545bba41b"
      },
      "outputs": [
        {
          "name": "stdout",
          "output_type": "stream",
          "text": [
            "15/15 [==============================] - 4s 270ms/step\n",
            "              precision    recall  f1-score   support\n",
            "\n",
            "   with_mask       1.00      0.96      0.98       240\n",
            "without_mask       0.96      1.00      0.98       240\n",
            "\n",
            "    accuracy                           0.98       480\n",
            "   macro avg       0.98      0.98      0.98       480\n",
            "weighted avg       0.98      0.98      0.98       480\n",
            "\n"
          ]
        }
      ],
      "source": [
        "# Membuat prediksi dari pengujian\n",
        "predIdxs = model.predict(testX, batch_size=BS)\n",
        "\n",
        "# Untuk setiap gambar dalam set pengujian, kita perlu menemukan indeks label\n",
        "# dengan probabilitas prediksi terbesar\n",
        "predIdxs = np.argmax(predIdxs, axis=1)\n",
        "\n",
        "# Menampilkan laporan klasifikasi yang diformat dengan baik\n",
        "print(classification_report(testY.argmax(axis=1), predIdxs,\n",
        "                            target_names=lb.classes_))"
      ]
    },
    {
      "attachments": {},
      "cell_type": "markdown",
      "metadata": {
        "id": "S8U7B1jv8ZQr"
      },
      "source": [
        "## Menyimpan dan Konversi Model ke \".tflite\"\n",
        "\n",
        "Menyimpan model menggunakan tf.saved_model/save dan kemudian mengkonversi model tersimpan ke format yang kompatibel tf lite.\n"
      ]
    },
    {
      "attachments": {},
      "cell_type": "markdown",
      "metadata": {
        "id": "D-H94fpq_E0J"
      },
      "source": [
        "# Pengujian Model dengan MTCNN\n"
      ]
    },
    {
      "attachments": {},
      "cell_type": "markdown",
      "metadata": {
        "id": "9T0GaCA5_SRw"
      },
      "source": [
        "Model diujikan pada gambar dan secara real-time dengan menggunakan MTCNN yang digunakan untuk mendeteksi wajah.\n"
      ]
    },
    {
      "attachments": {},
      "cell_type": "markdown",
      "metadata": {
        "id": "nej9QmRT8-DO"
      },
      "source": [
        "## Penggunaan Model pada Gambar\n"
      ]
    },
    {
      "attachments": {},
      "cell_type": "markdown",
      "metadata": {
        "id": "njXIK_L3dVXx"
      },
      "source": [
        "## Pengujian Deteksi Perframe Capture\n"
      ]
    },
    {
      "attachments": {},
      "cell_type": "markdown",
      "metadata": {
        "id": "c6ziSC8bK9zR"
      },
      "source": [
        "## Pengujian Streaming Video\n"
      ]
    }
  ],
  "metadata": {
    "accelerator": "GPU",
    "colab": {
      "collapsed_sections": [
        "njXIK_L3dVXx"
      ],
      "gpuType": "T4",
      "provenance": [],
      "toc_visible": true
    },
    "gpuClass": "standard",
    "kernelspec": {
      "display_name": "Python 3",
      "name": "python3"
    },
    "language_info": {
      "codemirror_mode": {
        "name": "ipython",
        "version": 3
      },
      "file_extension": ".py",
      "mimetype": "text/x-python",
      "name": "python",
      "nbconvert_exporter": "python",
      "pygments_lexer": "ipython3",
      "version": "3.9.17"
    }
  },
  "nbformat": 4,
  "nbformat_minor": 0
}
