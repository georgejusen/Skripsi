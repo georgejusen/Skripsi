{
  "cells": [
    {
      "attachments": {},
      "cell_type": "markdown",
      "metadata": {
        "id": "44JRqlK3IyFv"
      },
      "source": [
        "**Face Mask Detection**\n",
        "\n",
        "Program Machine Learning untuk mendeteksi penggunaan masker. Program dibuat menggunakan metode CNN dengan arsitektur VGG16Net dan MTCNN untuk face detection.\n"
      ]
    },
    {
      "attachments": {},
      "cell_type": "markdown",
      "metadata": {
        "id": "_BvjSZ30YhWh"
      },
      "source": [
        "## Mengimpor Libraries yang dibutuhkan\n"
      ]
    },
    {
      "cell_type": "code",
      "execution_count": 13,
      "metadata": {
        "colab": {
          "base_uri": "https://localhost:8080/"
        },
        "id": "W3Za-KOKf-Ot",
        "outputId": "24adee42-c900-4da4-e315-be0b6ebae6a5"
      },
      "outputs": [
        {
          "name": "stdout",
          "output_type": "stream",
          "text": [
            "Num GPUs Available:  1\n",
            "Thu Aug 31 17:33:30 2023       \n",
            "+---------------------------------------------------------------------------------------+\n",
            "| NVIDIA-SMI 537.13                 Driver Version: 537.13       CUDA Version: 12.2     |\n",
            "|-----------------------------------------+----------------------+----------------------+\n",
            "| GPU  Name                     TCC/WDDM  | Bus-Id        Disp.A | Volatile Uncorr. ECC |\n",
            "| Fan  Temp   Perf          Pwr:Usage/Cap |         Memory-Usage | GPU-Util  Compute M. |\n",
            "|                                         |                      |               MIG M. |\n",
            "|=========================================+======================+======================|\n",
            "|   0  NVIDIA GeForce GTX 1050      WDDM  | 00000000:01:00.0 Off |                  N/A |\n",
            "| N/A   44C    P8              N/A / ERR! |   2258MiB /  3072MiB |      0%      Default |\n",
            "|                                         |                      |                  N/A |\n",
            "+-----------------------------------------+----------------------+----------------------+\n",
            "                                                                                         \n",
            "+---------------------------------------------------------------------------------------+\n",
            "| Processes:                                                                            |\n",
            "|  GPU   GI   CI        PID   Type   Process name                            GPU Memory |\n",
            "|        ID   ID                                                             Usage      |\n",
            "|=======================================================================================|\n",
            "|    0   N/A  N/A     10544      C   ...\\georg\\anaconda3\\envs\\tf\\python.exe    N/A      |\n",
            "+---------------------------------------------------------------------------------------+\n"
          ]
        }
      ],
      "source": [
        "import tensorflow as tf\n",
        "from tensorflow.keras.preprocessing.image import ImageDataGenerator\n",
        "from tensorflow.keras.applications import vgg16\n",
        "from tensorflow.keras.layers import AveragePooling2D\n",
        "from tensorflow.keras.layers import Dropout\n",
        "from tensorflow.keras.layers import Flatten\n",
        "from tensorflow.keras.layers import Dense\n",
        "from tensorflow.keras.layers import Input\n",
        "from tensorflow.keras.models import Model\n",
        "from tensorflow.keras.optimizers import Adam\n",
        "from tensorflow.keras.applications.mobilenet_v2 import preprocess_input\n",
        "from tensorflow.keras.preprocessing.image import img_to_array\n",
        "from tensorflow.keras.preprocessing.image import load_img\n",
        "from tensorflow.keras.utils import to_categorical\n",
        "from sklearn.preprocessing import LabelBinarizer\n",
        "from sklearn.model_selection import train_test_split\n",
        "from sklearn.metrics import classification_report\n",
        "from sklearn.metrics import confusion_matrix\n",
        "from imutils import paths\n",
        "import matplotlib.pyplot as plt\n",
        "import pathlib\n",
        "import numpy as np\n",
        "import argparse\n",
        "import os\n",
        "import itertools\n",
        "\n",
        "\n",
        "print(\"Num GPUs Available: \", len(tf.config.list_physical_devices('GPU')))\n",
        "tf.test.gpu_device_name()\n",
        "\n",
        "!nvidia-smi\n",
        "\n",
        "\n"
      ]
    },
    {
      "attachments": {},
      "cell_type": "markdown",
      "metadata": {
        "id": "ZU5Fqk2vLELg"
      },
      "source": [
        "## Preprocessing Datasets\n"
      ]
    },
    {
      "cell_type": "code",
      "execution_count": 14,
      "metadata": {
        "colab": {
          "base_uri": "https://localhost:8080/"
        },
        "id": "D48VICs21pna",
        "outputId": "cea2273f-1fce-4e75-d91a-b7d54b84edf2"
      },
      "outputs": [
        {
          "name": "stdout",
          "output_type": "stream",
          "text": [
            "Menginput gambar...\n",
            "Input gambar berhasil\n"
          ]
        }
      ],
      "source": [
        "from PIL import Image\n",
        "from imutils import paths\n",
        "import os\n",
        "INIT_LR = 1e-4\n",
        "EPOCHS = 100\n",
        "BS = 32\n",
        "\n",
        "# Mengambil gambar dari dataset directory, kemudian inisialisasi data dan class gambar\n",
        "print(\"Menginput gambar...\")\n",
        "imagePaths = list(paths.list_images(\"dataset_small\"))  # Dataset Penelitian\n",
        "data = []\n",
        "labels = []\n",
        "\n",
        "# Melakukan perulangan pada image paths\n",
        "for imagePath in imagePaths:\n",
        "\n",
        "    # Mengekstrak class label dari filename\n",
        "    label = imagePath.split(os.path.sep)[-2]\n",
        "    # Memuat input gambar (224x224) dan melakukan proses\n",
        "    image = load_img(imagePath, target_size=(224, 224))\n",
        "    image = img_to_array(image)\n",
        "    image = preprocess_input(image)\n",
        "\n",
        "    # Mengupdate data dan labels lists, berurutan\n",
        "    data.append(image)\n",
        "    labels.append(label)\n",
        "\n",
        "# Mengkonversi data dan label ke dalam NumPy Arrays\n",
        "data = np.array(data, dtype=\"float32\")\n",
        "labels = np.array(labels)\n",
        "\n",
        "# Melakukan one-hot encoding on the labels\n",
        "lb = LabelBinarizer()\n",
        "labels = lb.fit_transform(labels)\n",
        "labels = to_categorical(labels)\n",
        "print(\"Input gambar berhasil\")"
      ]
    },
    {
      "attachments": {},
      "cell_type": "markdown",
      "metadata": {
        "id": "aF2vfrgni3tq"
      },
      "source": [
        "### Membuat objek ImageDataGenerator dan Data Augmentation\n"
      ]
    },
    {
      "cell_type": "code",
      "execution_count": 15,
      "metadata": {
        "colab": {
          "base_uri": "https://localhost:8080/"
        },
        "id": "tRBrygye5yvc",
        "outputId": "cbf33c6e-2b61-4896-a861-b723597e9581"
      },
      "outputs": [],
      "source": [
        "# Mempartisi data ke dalam pelatihan dan pengujian ( 80% : 20% )\n",
        "\n",
        "(trainX, testX, trainY, testY) = train_test_split(data, labels, test_size=0.30, stratify=labels, random_state=42)\n",
        "\n",
        "# Membentuk training image generator untuk data augmentation\n",
        "\n",
        "aug = ImageDataGenerator(\n",
        "    rotation_range=20,\n",
        "    zoom_range=0.15,\n",
        "    width_shift_range=0.2,\n",
        "    height_shift_range=0.2,\n",
        "    shear_range=0.15,\n",
        "    horizontal_flip=True,\n",
        "    fill_mode=\"nearest\")"
      ]
    },
    {
      "cell_type": "code",
      "execution_count": 16,
      "metadata": {},
      "outputs": [
        {
          "name": "stdout",
          "output_type": "stream",
          "text": [
            "Jumlah data pelatihan: 1120  Citra\n",
            "Jumlah data pengujian: 480  Citra\n"
          ]
        }
      ],
      "source": [
        "# Melihat jumlah data dalam set pelatihan\n",
        "num_train_samples = trainX.shape[0]\n",
        "print(\"Jumlah data pelatihan:\", num_train_samples, \" Citra\")\n",
        "\n",
        "# Melihat jumlah data dalam set pengujian\n",
        "num_test_samples = testX.shape[0]\n",
        "print(\"Jumlah data pengujian:\", num_test_samples, \" Citra\")"
      ]
    },
    {
      "attachments": {},
      "cell_type": "markdown",
      "metadata": {
        "id": "bHPD753f5205"
      },
      "source": [
        "## Membuat Model Jaringan CNN yang sudah dipelajari sebelumnya (pre-trained convnets)\n"
      ]
    },
    {
      "cell_type": "code",
      "execution_count": 17,
      "metadata": {
        "colab": {
          "base_uri": "https://localhost:8080/"
        },
        "id": "FaDceTqP6HLr",
        "outputId": "549de847-15bc-46e9-f9d8-e024c5fd2a89"
      },
      "outputs": [],
      "source": [
        "# Arsitektur jaringan VGG16Net\n",
        "baseModel = tf.keras.applications.VGG16(weights=\"imagenet\", include_top=False,input_tensor=Input(shape=(224, 224, 3)))\n",
        "# baseModel = tf.keras.applications.VGG16(include_top=False, input_tensor=Input(shape=(224, 224, 3)))\n"
      ]
    },
    {
      "attachments": {},
      "cell_type": "markdown",
      "metadata": {
        "id": "NfSLr2q2LWRZ"
      },
      "source": [
        "### Feature Extraction\n"
      ]
    },
    {
      "cell_type": "code",
      "execution_count": 18,
      "metadata": {
        "colab": {
          "base_uri": "https://localhost:8080/"
        },
        "id": "Z0U2qYnO6KYW",
        "outputId": "00a32ad0-22a0-42a6-8495-b1527f745d2e"
      },
      "outputs": [
        {
          "name": "stdout",
          "output_type": "stream",
          "text": [
            "Model: \"vgg16\"\n",
            "_________________________________________________________________\n",
            " Layer (type)                Output Shape              Param #   \n",
            "=================================================================\n",
            " input_2 (InputLayer)        [(None, 224, 224, 3)]     0         \n",
            "                                                                 \n",
            " block1_conv1 (Conv2D)       (None, 224, 224, 64)      1792      \n",
            "                                                                 \n",
            " block1_conv2 (Conv2D)       (None, 224, 224, 64)      36928     \n",
            "                                                                 \n",
            " block1_pool (MaxPooling2D)  (None, 112, 112, 64)      0         \n",
            "                                                                 \n",
            " block2_conv1 (Conv2D)       (None, 112, 112, 128)     73856     \n",
            "                                                                 \n",
            " block2_conv2 (Conv2D)       (None, 112, 112, 128)     147584    \n",
            "                                                                 \n",
            " block2_pool (MaxPooling2D)  (None, 56, 56, 128)       0         \n",
            "                                                                 \n",
            " block3_conv1 (Conv2D)       (None, 56, 56, 256)       295168    \n",
            "                                                                 \n",
            " block3_conv2 (Conv2D)       (None, 56, 56, 256)       590080    \n",
            "                                                                 \n",
            " block3_conv3 (Conv2D)       (None, 56, 56, 256)       590080    \n",
            "                                                                 \n",
            " block3_pool (MaxPooling2D)  (None, 28, 28, 256)       0         \n",
            "                                                                 \n",
            " block4_conv1 (Conv2D)       (None, 28, 28, 512)       1180160   \n",
            "                                                                 \n",
            " block4_conv2 (Conv2D)       (None, 28, 28, 512)       2359808   \n",
            "                                                                 \n",
            " block4_conv3 (Conv2D)       (None, 28, 28, 512)       2359808   \n",
            "                                                                 \n",
            " block4_pool (MaxPooling2D)  (None, 14, 14, 512)       0         \n",
            "                                                                 \n",
            " block5_conv1 (Conv2D)       (None, 14, 14, 512)       2359808   \n",
            "                                                                 \n",
            " block5_conv2 (Conv2D)       (None, 14, 14, 512)       2359808   \n",
            "                                                                 \n",
            " block5_conv3 (Conv2D)       (None, 14, 14, 512)       2359808   \n",
            "                                                                 \n",
            " block5_pool (MaxPooling2D)  (None, 7, 7, 512)         0         \n",
            "                                                                 \n",
            "=================================================================\n",
            "Total params: 14,714,688\n",
            "Trainable params: 0\n",
            "Non-trainable params: 14,714,688\n",
            "_________________________________________________________________\n"
          ]
        }
      ],
      "source": [
        "baseModel.trainable = False\n",
        "baseModel.summary()"
      ]
    },
    {
      "attachments": {},
      "cell_type": "markdown",
      "metadata": {
        "id": "ENpg9P6Q6SpL"
      },
      "source": [
        "## Tahap Pembuatan Model\n"
      ]
    },
    {
      "cell_type": "code",
      "execution_count": 19,
      "metadata": {},
      "outputs": [
        {
          "name": "stdout",
          "output_type": "stream",
          "text": [
            "Model: \"model_2\"\n",
            "_________________________________________________________________\n",
            " Layer (type)                Output Shape              Param #   \n",
            "=================================================================\n",
            " input_2 (InputLayer)        [(None, 224, 224, 3)]     0         \n",
            "                                                                 \n",
            " block1_conv1 (Conv2D)       (None, 224, 224, 64)      1792      \n",
            "                                                                 \n",
            " block1_conv2 (Conv2D)       (None, 224, 224, 64)      36928     \n",
            "                                                                 \n",
            " block1_pool (MaxPooling2D)  (None, 112, 112, 64)      0         \n",
            "                                                                 \n",
            " block2_conv1 (Conv2D)       (None, 112, 112, 128)     73856     \n",
            "                                                                 \n",
            " block2_conv2 (Conv2D)       (None, 112, 112, 128)     147584    \n",
            "                                                                 \n",
            " block2_pool (MaxPooling2D)  (None, 56, 56, 128)       0         \n",
            "                                                                 \n",
            " block3_conv1 (Conv2D)       (None, 56, 56, 256)       295168    \n",
            "                                                                 \n",
            " block3_conv2 (Conv2D)       (None, 56, 56, 256)       590080    \n",
            "                                                                 \n",
            " block3_conv3 (Conv2D)       (None, 56, 56, 256)       590080    \n",
            "                                                                 \n",
            " block3_pool (MaxPooling2D)  (None, 28, 28, 256)       0         \n",
            "                                                                 \n",
            " block4_conv1 (Conv2D)       (None, 28, 28, 512)       1180160   \n",
            "                                                                 \n",
            " block4_conv2 (Conv2D)       (None, 28, 28, 512)       2359808   \n",
            "                                                                 \n",
            " block4_conv3 (Conv2D)       (None, 28, 28, 512)       2359808   \n",
            "                                                                 \n",
            " block4_pool (MaxPooling2D)  (None, 14, 14, 512)       0         \n",
            "                                                                 \n",
            " block5_conv1 (Conv2D)       (None, 14, 14, 512)       2359808   \n",
            "                                                                 \n",
            " block5_conv2 (Conv2D)       (None, 14, 14, 512)       2359808   \n",
            "                                                                 \n",
            " block5_conv3 (Conv2D)       (None, 14, 14, 512)       2359808   \n",
            "                                                                 \n",
            " block5_pool (MaxPooling2D)  (None, 7, 7, 512)         0         \n",
            "                                                                 \n",
            " average_pooling2d_2 (Averag  (None, 1, 1, 512)        0         \n",
            " ePooling2D)                                                     \n",
            "                                                                 \n",
            " flatten (Flatten)           (None, 512)               0         \n",
            "                                                                 \n",
            " dense_4 (Dense)             (None, 128)               65664     \n",
            "                                                                 \n",
            " dropout_2 (Dropout)         (None, 128)               0         \n",
            "                                                                 \n",
            " dense_5 (Dense)             (None, 2)                 258       \n",
            "                                                                 \n",
            "=================================================================\n",
            "Total params: 14,780,610\n",
            "Trainable params: 65,922\n",
            "Non-trainable params: 14,714,688\n",
            "_________________________________________________________________\n"
          ]
        }
      ],
      "source": [
        "# Membentuk bagian head dari model yang akan ditempatkan pada base model\n",
        "\n",
        "headModel = baseModel.output\n",
        "headModel = AveragePooling2D(pool_size=(7, 7))(headModel)\n",
        "headModel = Flatten(name=\"flatten\")(headModel)\n",
        "headModel = Dense(128, activation=\"relu\")(headModel)\n",
        "headModel = Dropout(0.5)(headModel)\n",
        "headModel = Dense(2, activation=\"softmax\")(headModel)\n",
        "\n",
        "# Menempatkan head model pada base model\n",
        "model = Model(inputs=baseModel.input, outputs=headModel)\n",
        "model.summary()"
      ]
    },
    {
      "cell_type": "code",
      "execution_count": 20,
      "metadata": {
        "colab": {
          "base_uri": "https://localhost:8080/"
        },
        "id": "WXEyXB5NTU13",
        "outputId": "c5f827c0-3a25-4e98-8b38-2d9a88076619"
      },
      "outputs": [
        {
          "name": "stdout",
          "output_type": "stream",
          "text": [
            "Mengkompilasi model...\n",
            "Model: \"model_3\"\n",
            "_________________________________________________________________\n",
            " Layer (type)                Output Shape              Param #   \n",
            "=================================================================\n",
            " input_2 (InputLayer)        [(None, 224, 224, 3)]     0         \n",
            "                                                                 \n",
            " block1_conv1 (Conv2D)       (None, 224, 224, 64)      1792      \n",
            "                                                                 \n",
            " block1_conv2 (Conv2D)       (None, 224, 224, 64)      36928     \n",
            "                                                                 \n",
            " block1_pool (MaxPooling2D)  (None, 112, 112, 64)      0         \n",
            "                                                                 \n",
            " block2_conv1 (Conv2D)       (None, 112, 112, 128)     73856     \n",
            "                                                                 \n",
            " block2_conv2 (Conv2D)       (None, 112, 112, 128)     147584    \n",
            "                                                                 \n",
            " block2_pool (MaxPooling2D)  (None, 56, 56, 128)       0         \n",
            "                                                                 \n",
            " block3_conv1 (Conv2D)       (None, 56, 56, 256)       295168    \n",
            "                                                                 \n",
            " block3_conv2 (Conv2D)       (None, 56, 56, 256)       590080    \n",
            "                                                                 \n",
            " block3_conv3 (Conv2D)       (None, 56, 56, 256)       590080    \n",
            "                                                                 \n",
            " block3_pool (MaxPooling2D)  (None, 28, 28, 256)       0         \n",
            "                                                                 \n",
            " block4_conv1 (Conv2D)       (None, 28, 28, 512)       1180160   \n",
            "                                                                 \n",
            " block4_conv2 (Conv2D)       (None, 28, 28, 512)       2359808   \n",
            "                                                                 \n",
            " block4_conv3 (Conv2D)       (None, 28, 28, 512)       2359808   \n",
            "                                                                 \n",
            " block4_pool (MaxPooling2D)  (None, 14, 14, 512)       0         \n",
            "                                                                 \n",
            " block5_conv1 (Conv2D)       (None, 14, 14, 512)       2359808   \n",
            "                                                                 \n",
            " block5_conv2 (Conv2D)       (None, 14, 14, 512)       2359808   \n",
            "                                                                 \n",
            " block5_conv3 (Conv2D)       (None, 14, 14, 512)       2359808   \n",
            "                                                                 \n",
            " block5_pool (MaxPooling2D)  (None, 7, 7, 512)         0         \n",
            "                                                                 \n",
            " average_pooling2d_3 (Averag  (None, 1, 1, 512)        0         \n",
            " ePooling2D)                                                     \n",
            "                                                                 \n",
            " flatten (Flatten)           (None, 512)               0         \n",
            "                                                                 \n",
            " dense_6 (Dense)             (None, 128)               65664     \n",
            "                                                                 \n",
            " dropout_3 (Dropout)         (None, 128)               0         \n",
            "                                                                 \n",
            " dense_7 (Dense)             (None, 2)                 258       \n",
            "                                                                 \n",
            "=================================================================\n",
            "Total params: 14,780,610\n",
            "Trainable params: 65,922\n",
            "Non-trainable params: 14,714,688\n",
            "_________________________________________________________________\n"
          ]
        }
      ],
      "source": [
        "\n",
        "headModel = baseModel.output\n",
        "headModel = AveragePooling2D(pool_size=(7, 7))(headModel)\n",
        "headModel = Flatten(name=\"flatten\")(headModel)\n",
        "headModel = Dense(128, activation=\"relu\")(headModel)\n",
        "headModel = Dropout(0.5)(headModel)\n",
        "headModel = Dense(2, activation=\"softmax\")(headModel)\n",
        "\n",
        "# Menempatkan head model pada base model\n",
        "model = Model(inputs=baseModel.input, outputs=headModel)\n",
        "\n",
        "# Perulangan pada seluruh base model\n",
        "for layer in baseModel.layers:\n",
        "    layer.trainable = False\n",
        "\n",
        "# Persiapan kompilasi model\n",
        "print(\"Mengkompilasi model...\")\n",
        "opt = tf.keras.optimizers.legacy.SGD(learning_rate=INIT_LR, decay=INIT_LR / EPOCHS)\n",
        "\n",
        "\n",
        "model.compile(loss=\"binary_crossentropy\", optimizer=opt,metrics=[\"accuracy\"])\n",
        "\n",
        "model.summary()"
      ]
    },
    {
      "attachments": {},
      "cell_type": "markdown",
      "metadata": {
        "id": "lH42Hp3UWrPs"
      },
      "source": [
        "### Melakukan Pelatihan Model\n"
      ]
    },
    {
      "cell_type": "code",
      "execution_count": 21,
      "metadata": {},
      "outputs": [
        {
          "name": "stdout",
          "output_type": "stream",
          "text": [
            "Training head model...\n",
            "Epoch 1/100\n",
            "35/35 [==============================] - 19s 497ms/step - loss: 0.8263 - accuracy: 0.4964 - val_loss: 0.7824 - val_accuracy: 0.5000\n",
            "Epoch 2/100\n",
            "35/35 [==============================] - 17s 470ms/step - loss: 0.8193 - accuracy: 0.5000 - val_loss: 0.7728 - val_accuracy: 0.5000\n",
            "Epoch 3/100\n",
            "35/35 [==============================] - 17s 481ms/step - loss: 0.8010 - accuracy: 0.4893 - val_loss: 0.7641 - val_accuracy: 0.5000\n",
            "Epoch 4/100\n",
            "35/35 [==============================] - 17s 480ms/step - loss: 0.7949 - accuracy: 0.4982 - val_loss: 0.7559 - val_accuracy: 0.5000\n",
            "Epoch 5/100\n",
            "35/35 [==============================] - 17s 486ms/step - loss: 0.7794 - accuracy: 0.4938 - val_loss: 0.7491 - val_accuracy: 0.5000\n",
            "Epoch 6/100\n",
            "35/35 [==============================] - 17s 491ms/step - loss: 0.7796 - accuracy: 0.5098 - val_loss: 0.7424 - val_accuracy: 0.5000\n",
            "Epoch 7/100\n",
            "35/35 [==============================] - 18s 496ms/step - loss: 0.7785 - accuracy: 0.4893 - val_loss: 0.7365 - val_accuracy: 0.5000\n",
            "Epoch 8/100\n",
            "35/35 [==============================] - 18s 524ms/step - loss: 0.7734 - accuracy: 0.4902 - val_loss: 0.7310 - val_accuracy: 0.5000\n",
            "Epoch 9/100\n",
            "35/35 [==============================] - 18s 519ms/step - loss: 0.7667 - accuracy: 0.4893 - val_loss: 0.7262 - val_accuracy: 0.5000\n",
            "Epoch 10/100\n",
            "35/35 [==============================] - 19s 538ms/step - loss: 0.7475 - accuracy: 0.5170 - val_loss: 0.7216 - val_accuracy: 0.5000\n",
            "Epoch 11/100\n",
            "35/35 [==============================] - 19s 535ms/step - loss: 0.7518 - accuracy: 0.5027 - val_loss: 0.7173 - val_accuracy: 0.5000\n",
            "Epoch 12/100\n",
            "35/35 [==============================] - 18s 518ms/step - loss: 0.7613 - accuracy: 0.4902 - val_loss: 0.7134 - val_accuracy: 0.5000\n",
            "Epoch 13/100\n",
            "35/35 [==============================] - 18s 500ms/step - loss: 0.7484 - accuracy: 0.5134 - val_loss: 0.7101 - val_accuracy: 0.5000\n",
            "Epoch 14/100\n",
            "35/35 [==============================] - 18s 503ms/step - loss: 0.7288 - accuracy: 0.5268 - val_loss: 0.7071 - val_accuracy: 0.5000\n",
            "Epoch 15/100\n",
            "35/35 [==============================] - 19s 527ms/step - loss: 0.7493 - accuracy: 0.4848 - val_loss: 0.7041 - val_accuracy: 0.5000\n",
            "Epoch 16/100\n",
            "35/35 [==============================] - 18s 506ms/step - loss: 0.7426 - accuracy: 0.5071 - val_loss: 0.7014 - val_accuracy: 0.5000\n",
            "Epoch 17/100\n",
            "35/35 [==============================] - 19s 527ms/step - loss: 0.7323 - accuracy: 0.5161 - val_loss: 0.6989 - val_accuracy: 0.5000\n",
            "Epoch 18/100\n",
            "35/35 [==============================] - 18s 516ms/step - loss: 0.7417 - accuracy: 0.4955 - val_loss: 0.6966 - val_accuracy: 0.5000\n",
            "Epoch 19/100\n",
            "35/35 [==============================] - 18s 515ms/step - loss: 0.7329 - accuracy: 0.5161 - val_loss: 0.6944 - val_accuracy: 0.5000\n",
            "Epoch 20/100\n",
            "35/35 [==============================] - 18s 518ms/step - loss: 0.7318 - accuracy: 0.5161 - val_loss: 0.6924 - val_accuracy: 0.5000\n",
            "Epoch 21/100\n",
            "35/35 [==============================] - 18s 513ms/step - loss: 0.7278 - accuracy: 0.5161 - val_loss: 0.6906 - val_accuracy: 0.5000\n",
            "Epoch 22/100\n",
            "35/35 [==============================] - 19s 552ms/step - loss: 0.7283 - accuracy: 0.5188 - val_loss: 0.6889 - val_accuracy: 0.5000\n",
            "Epoch 23/100\n",
            "35/35 [==============================] - 18s 499ms/step - loss: 0.7152 - accuracy: 0.5339 - val_loss: 0.6873 - val_accuracy: 0.5042\n",
            "Epoch 24/100\n",
            "35/35 [==============================] - 18s 499ms/step - loss: 0.7249 - accuracy: 0.5107 - val_loss: 0.6857 - val_accuracy: 0.5063\n",
            "Epoch 25/100\n",
            "35/35 [==============================] - 18s 511ms/step - loss: 0.7299 - accuracy: 0.5170 - val_loss: 0.6844 - val_accuracy: 0.5063\n",
            "Epoch 26/100\n",
            "35/35 [==============================] - 18s 502ms/step - loss: 0.7230 - accuracy: 0.5089 - val_loss: 0.6830 - val_accuracy: 0.5083\n",
            "Epoch 27/100\n",
            "35/35 [==============================] - 18s 505ms/step - loss: 0.7168 - accuracy: 0.5348 - val_loss: 0.6816 - val_accuracy: 0.5083\n",
            "Epoch 28/100\n",
            "35/35 [==============================] - 18s 497ms/step - loss: 0.7200 - accuracy: 0.5455 - val_loss: 0.6804 - val_accuracy: 0.5125\n",
            "Epoch 29/100\n",
            "35/35 [==============================] - 17s 497ms/step - loss: 0.7064 - accuracy: 0.5455 - val_loss: 0.6793 - val_accuracy: 0.5125\n",
            "Epoch 30/100\n",
            "35/35 [==============================] - 20s 575ms/step - loss: 0.7215 - accuracy: 0.5464 - val_loss: 0.6780 - val_accuracy: 0.5167\n",
            "Epoch 31/100\n",
            "35/35 [==============================] - 22s 627ms/step - loss: 0.7099 - accuracy: 0.5250 - val_loss: 0.6769 - val_accuracy: 0.5188\n",
            "Epoch 32/100\n",
            "35/35 [==============================] - 21s 586ms/step - loss: 0.7194 - accuracy: 0.5125 - val_loss: 0.6759 - val_accuracy: 0.5271\n",
            "Epoch 33/100\n",
            "35/35 [==============================] - 18s 521ms/step - loss: 0.7096 - accuracy: 0.5482 - val_loss: 0.6749 - val_accuracy: 0.5354\n",
            "Epoch 34/100\n",
            "35/35 [==============================] - 19s 533ms/step - loss: 0.7198 - accuracy: 0.5232 - val_loss: 0.6739 - val_accuracy: 0.5396\n",
            "Epoch 35/100\n",
            "35/35 [==============================] - 18s 508ms/step - loss: 0.7038 - accuracy: 0.5473 - val_loss: 0.6730 - val_accuracy: 0.5458\n",
            "Epoch 36/100\n",
            "35/35 [==============================] - 18s 523ms/step - loss: 0.7173 - accuracy: 0.5214 - val_loss: 0.6721 - val_accuracy: 0.5583\n",
            "Epoch 37/100\n",
            "35/35 [==============================] - 19s 529ms/step - loss: 0.7071 - accuracy: 0.5429 - val_loss: 0.6712 - val_accuracy: 0.5625\n",
            "Epoch 38/100\n",
            "35/35 [==============================] - 18s 509ms/step - loss: 0.6926 - accuracy: 0.5589 - val_loss: 0.6703 - val_accuracy: 0.5708\n",
            "Epoch 39/100\n",
            "35/35 [==============================] - 18s 521ms/step - loss: 0.7132 - accuracy: 0.5330 - val_loss: 0.6694 - val_accuracy: 0.5771\n",
            "Epoch 40/100\n",
            "35/35 [==============================] - 18s 515ms/step - loss: 0.7024 - accuracy: 0.5500 - val_loss: 0.6686 - val_accuracy: 0.5875\n",
            "Epoch 41/100\n",
            "35/35 [==============================] - 18s 501ms/step - loss: 0.7098 - accuracy: 0.5366 - val_loss: 0.6678 - val_accuracy: 0.5958\n",
            "Epoch 42/100\n",
            "35/35 [==============================] - 18s 500ms/step - loss: 0.7085 - accuracy: 0.5429 - val_loss: 0.6670 - val_accuracy: 0.6021\n",
            "Epoch 43/100\n",
            "35/35 [==============================] - 17s 497ms/step - loss: 0.6941 - accuracy: 0.5732 - val_loss: 0.6663 - val_accuracy: 0.6167\n",
            "Epoch 44/100\n",
            "35/35 [==============================] - 19s 535ms/step - loss: 0.7049 - accuracy: 0.5402 - val_loss: 0.6655 - val_accuracy: 0.6250\n",
            "Epoch 45/100\n",
            "35/35 [==============================] - 20s 576ms/step - loss: 0.6919 - accuracy: 0.5625 - val_loss: 0.6648 - val_accuracy: 0.6417\n",
            "Epoch 46/100\n",
            "35/35 [==============================] - 19s 528ms/step - loss: 0.6987 - accuracy: 0.5527 - val_loss: 0.6641 - val_accuracy: 0.6604\n",
            "Epoch 47/100\n",
            "35/35 [==============================] - 18s 522ms/step - loss: 0.6958 - accuracy: 0.5661 - val_loss: 0.6634 - val_accuracy: 0.6708\n",
            "Epoch 48/100\n",
            "35/35 [==============================] - 20s 559ms/step - loss: 0.6934 - accuracy: 0.5830 - val_loss: 0.6627 - val_accuracy: 0.6750\n",
            "Epoch 49/100\n",
            "35/35 [==============================] - 20s 573ms/step - loss: 0.6928 - accuracy: 0.5589 - val_loss: 0.6621 - val_accuracy: 0.6833\n",
            "Epoch 50/100\n",
            "35/35 [==============================] - 20s 575ms/step - loss: 0.6995 - accuracy: 0.5562 - val_loss: 0.6614 - val_accuracy: 0.6938\n",
            "Epoch 51/100\n",
            "35/35 [==============================] - 20s 555ms/step - loss: 0.6931 - accuracy: 0.5679 - val_loss: 0.6608 - val_accuracy: 0.7063\n",
            "Epoch 52/100\n",
            "35/35 [==============================] - 19s 543ms/step - loss: 0.6968 - accuracy: 0.5589 - val_loss: 0.6601 - val_accuracy: 0.7146\n",
            "Epoch 53/100\n",
            "35/35 [==============================] - 18s 521ms/step - loss: 0.7046 - accuracy: 0.5518 - val_loss: 0.6595 - val_accuracy: 0.7375\n",
            "Epoch 54/100\n",
            "35/35 [==============================] - 18s 519ms/step - loss: 0.6969 - accuracy: 0.5437 - val_loss: 0.6588 - val_accuracy: 0.7542\n",
            "Epoch 55/100\n",
            "35/35 [==============================] - 19s 543ms/step - loss: 0.6958 - accuracy: 0.5554 - val_loss: 0.6582 - val_accuracy: 0.7688\n",
            "Epoch 56/100\n",
            "35/35 [==============================] - 19s 528ms/step - loss: 0.6918 - accuracy: 0.5741 - val_loss: 0.6576 - val_accuracy: 0.7771\n",
            "Epoch 57/100\n",
            "35/35 [==============================] - 19s 534ms/step - loss: 0.6972 - accuracy: 0.5518 - val_loss: 0.6570 - val_accuracy: 0.7854\n",
            "Epoch 58/100\n",
            "35/35 [==============================] - 19s 552ms/step - loss: 0.6923 - accuracy: 0.5679 - val_loss: 0.6564 - val_accuracy: 0.7875\n",
            "Epoch 59/100\n",
            "35/35 [==============================] - 19s 544ms/step - loss: 0.6824 - accuracy: 0.5866 - val_loss: 0.6558 - val_accuracy: 0.7958\n",
            "Epoch 60/100\n",
            "35/35 [==============================] - 18s 521ms/step - loss: 0.6927 - accuracy: 0.5705 - val_loss: 0.6552 - val_accuracy: 0.7917\n",
            "Epoch 61/100\n",
            "35/35 [==============================] - 19s 540ms/step - loss: 0.6948 - accuracy: 0.5786 - val_loss: 0.6546 - val_accuracy: 0.7979\n",
            "Epoch 62/100\n",
            "35/35 [==============================] - 19s 535ms/step - loss: 0.6921 - accuracy: 0.5580 - val_loss: 0.6540 - val_accuracy: 0.8000\n",
            "Epoch 63/100\n",
            "35/35 [==============================] - 19s 543ms/step - loss: 0.6851 - accuracy: 0.5804 - val_loss: 0.6534 - val_accuracy: 0.8042\n",
            "Epoch 64/100\n",
            "35/35 [==============================] - 19s 528ms/step - loss: 0.6955 - accuracy: 0.5545 - val_loss: 0.6529 - val_accuracy: 0.8125\n",
            "Epoch 65/100\n",
            "35/35 [==============================] - 18s 520ms/step - loss: 0.6846 - accuracy: 0.5902 - val_loss: 0.6523 - val_accuracy: 0.8125\n",
            "Epoch 66/100\n",
            "35/35 [==============================] - 20s 562ms/step - loss: 0.6900 - accuracy: 0.5804 - val_loss: 0.6517 - val_accuracy: 0.8229\n",
            "Epoch 67/100\n",
            "35/35 [==============================] - 19s 540ms/step - loss: 0.6903 - accuracy: 0.5679 - val_loss: 0.6512 - val_accuracy: 0.8313\n",
            "Epoch 68/100\n",
            "35/35 [==============================] - 20s 554ms/step - loss: 0.6761 - accuracy: 0.6036 - val_loss: 0.6506 - val_accuracy: 0.8313\n",
            "Epoch 69/100\n",
            "35/35 [==============================] - 20s 560ms/step - loss: 0.6829 - accuracy: 0.5821 - val_loss: 0.6501 - val_accuracy: 0.8313\n",
            "Epoch 70/100\n",
            "35/35 [==============================] - 21s 607ms/step - loss: 0.6839 - accuracy: 0.5813 - val_loss: 0.6496 - val_accuracy: 0.8354\n",
            "Epoch 71/100\n",
            "35/35 [==============================] - 19s 542ms/step - loss: 0.6868 - accuracy: 0.5866 - val_loss: 0.6491 - val_accuracy: 0.8375\n",
            "Epoch 72/100\n",
            "35/35 [==============================] - 19s 545ms/step - loss: 0.6753 - accuracy: 0.6027 - val_loss: 0.6486 - val_accuracy: 0.8417\n",
            "Epoch 73/100\n",
            "35/35 [==============================] - 19s 547ms/step - loss: 0.6819 - accuracy: 0.5768 - val_loss: 0.6480 - val_accuracy: 0.8438\n",
            "Epoch 74/100\n",
            "35/35 [==============================] - 19s 531ms/step - loss: 0.6897 - accuracy: 0.5786 - val_loss: 0.6476 - val_accuracy: 0.8438\n",
            "Epoch 75/100\n",
            "35/35 [==============================] - 19s 541ms/step - loss: 0.6808 - accuracy: 0.5902 - val_loss: 0.6470 - val_accuracy: 0.8521\n",
            "Epoch 76/100\n",
            "35/35 [==============================] - 20s 557ms/step - loss: 0.6857 - accuracy: 0.5768 - val_loss: 0.6465 - val_accuracy: 0.8583\n",
            "Epoch 77/100\n",
            "35/35 [==============================] - 19s 532ms/step - loss: 0.6810 - accuracy: 0.5946 - val_loss: 0.6460 - val_accuracy: 0.8604\n",
            "Epoch 78/100\n",
            "35/35 [==============================] - 21s 606ms/step - loss: 0.6759 - accuracy: 0.6107 - val_loss: 0.6455 - val_accuracy: 0.8667\n",
            "Epoch 79/100\n",
            "35/35 [==============================] - 21s 595ms/step - loss: 0.6890 - accuracy: 0.5875 - val_loss: 0.6450 - val_accuracy: 0.8687\n",
            "Epoch 80/100\n",
            "35/35 [==============================] - 20s 566ms/step - loss: 0.6734 - accuracy: 0.6107 - val_loss: 0.6445 - val_accuracy: 0.8750\n",
            "Epoch 81/100\n",
            "35/35 [==============================] - 19s 538ms/step - loss: 0.6783 - accuracy: 0.6000 - val_loss: 0.6440 - val_accuracy: 0.8729\n",
            "Epoch 82/100\n",
            "35/35 [==============================] - 20s 577ms/step - loss: 0.6724 - accuracy: 0.6143 - val_loss: 0.6435 - val_accuracy: 0.8792\n",
            "Epoch 83/100\n",
            "35/35 [==============================] - 20s 580ms/step - loss: 0.6824 - accuracy: 0.6018 - val_loss: 0.6430 - val_accuracy: 0.8771\n",
            "Epoch 84/100\n",
            "35/35 [==============================] - 21s 600ms/step - loss: 0.6682 - accuracy: 0.6313 - val_loss: 0.6425 - val_accuracy: 0.8771\n",
            "Epoch 85/100\n",
            "35/35 [==============================] - 20s 569ms/step - loss: 0.6739 - accuracy: 0.6027 - val_loss: 0.6421 - val_accuracy: 0.8792\n",
            "Epoch 86/100\n",
            "35/35 [==============================] - 20s 574ms/step - loss: 0.6674 - accuracy: 0.6161 - val_loss: 0.6416 - val_accuracy: 0.8792\n",
            "Epoch 87/100\n",
            "35/35 [==============================] - 20s 556ms/step - loss: 0.6826 - accuracy: 0.5929 - val_loss: 0.6411 - val_accuracy: 0.8813\n",
            "Epoch 88/100\n",
            "35/35 [==============================] - 20s 556ms/step - loss: 0.6759 - accuracy: 0.6000 - val_loss: 0.6407 - val_accuracy: 0.8833\n",
            "Epoch 89/100\n",
            "35/35 [==============================] - 20s 558ms/step - loss: 0.6792 - accuracy: 0.5813 - val_loss: 0.6402 - val_accuracy: 0.8875\n",
            "Epoch 90/100\n",
            "35/35 [==============================] - 19s 547ms/step - loss: 0.6819 - accuracy: 0.5982 - val_loss: 0.6397 - val_accuracy: 0.8875\n",
            "Epoch 91/100\n",
            "35/35 [==============================] - 19s 546ms/step - loss: 0.6786 - accuracy: 0.6036 - val_loss: 0.6393 - val_accuracy: 0.8854\n",
            "Epoch 92/100\n",
            "35/35 [==============================] - 19s 542ms/step - loss: 0.6678 - accuracy: 0.6250 - val_loss: 0.6388 - val_accuracy: 0.8833\n",
            "Epoch 93/100\n",
            "35/35 [==============================] - 19s 545ms/step - loss: 0.6631 - accuracy: 0.6214 - val_loss: 0.6384 - val_accuracy: 0.8833\n",
            "Epoch 94/100\n",
            "35/35 [==============================] - 26s 748ms/step - loss: 0.6804 - accuracy: 0.5964 - val_loss: 0.6379 - val_accuracy: 0.8875\n",
            "Epoch 95/100\n",
            "35/35 [==============================] - 21s 584ms/step - loss: 0.6633 - accuracy: 0.6268 - val_loss: 0.6375 - val_accuracy: 0.8875\n",
            "Epoch 96/100\n",
            "35/35 [==============================] - 22s 623ms/step - loss: 0.6796 - accuracy: 0.6116 - val_loss: 0.6370 - val_accuracy: 0.8875\n",
            "Epoch 97/100\n",
            "35/35 [==============================] - 19s 539ms/step - loss: 0.6701 - accuracy: 0.6241 - val_loss: 0.6366 - val_accuracy: 0.8875\n",
            "Epoch 98/100\n",
            "35/35 [==============================] - 20s 564ms/step - loss: 0.6668 - accuracy: 0.6205 - val_loss: 0.6362 - val_accuracy: 0.8896\n",
            "Epoch 99/100\n",
            "35/35 [==============================] - 20s 553ms/step - loss: 0.6749 - accuracy: 0.6196 - val_loss: 0.6357 - val_accuracy: 0.8896\n",
            "Epoch 100/100\n",
            "35/35 [==============================] - 19s 541ms/step - loss: 0.6729 - accuracy: 0.6250 - val_loss: 0.6353 - val_accuracy: 0.8896\n",
            "Training completed in 1901.92 seconds.\n"
          ]
        }
      ],
      "source": [
        "import time\n",
        "\n",
        "# ...\n",
        "\n",
        "print(\"Training head model...\")\n",
        "\n",
        "start_time = time.time()  # Memulai penghitungan waktu\n",
        "\n",
        "H = model.fit(\n",
        "    aug.flow(trainX, trainY, batch_size=BS),\n",
        "    steps_per_epoch=len(trainX) // BS,\n",
        "    validation_data=(testX, testY),\n",
        "    validation_steps=len(testX) // BS,\n",
        "    epochs=EPOCHS,\n",
        "    verbose=1)\n",
        "\n",
        "end_time = time.time()  # Mengakhiri penghitungan waktu\n",
        "training_duration = end_time - start_time  # Menghitung durasi waktu pelatihan dalam detik\n",
        "\n",
        "# ...\n",
        "\n",
        "print(f\"Training completed in {training_duration:.2f} seconds.\")  # Menampilkan durasi waktu pelatihan\n"
      ]
    },
    {
      "attachments": {},
      "cell_type": "markdown",
      "metadata": {
        "id": "MxqTwaGi7Wzs"
      },
      "source": [
        "## Menampilkan Grafik Model Hasil Pelatihan\n"
      ]
    },
    {
      "cell_type": "code",
      "execution_count": 22,
      "metadata": {
        "colab": {
          "base_uri": "https://localhost:8080/",
          "height": 471
        },
        "id": "OURpwhV87ac9",
        "outputId": "2321944e-4977-419e-a3f6-921b3801a1a0"
      },
      "outputs": [
        {
          "data": {
            "image/png": "[encoded data removed]",
            "text/plain": [
              "<Figure size 1500x1000 with 2 Axes>"
            ]
          },
          "metadata": {},
          "output_type": "display_data"
        }
      ],
      "source": [
        "N = EPOCHS\n",
        "fig = plt.figure(figsize=(7, 4))\n",
        "fig.set_figheight(10)\n",
        "fig.set_figwidth(15)\n",
        "\n",
        "plt.subplot(2, 2, 1)\n",
        "plt.plot(np.arange(0, N), H.history[\"accuracy\"], label=\"Training Accuracy\")\n",
        "plt.plot(np.arange(0, N),\n",
        "         H.history[\"val_accuracy\"], label=\"Validation Accuracy\")\n",
        "plt.legend()\n",
        "plt.xlabel(\"Epoch #\")\n",
        "plt.ylabel(\"Akurasi\")\n",
        "plt.title(\"Kurva Tingkat Akurasi\", size=15)\n",
        "plt.grid(zorder=0)\n",
        "\n",
        "plt.subplot(2, 2, 2)\n",
        "plt.plot(np.arange(0, N), H.history[\"loss\"], label=\"Training Loss\")\n",
        "plt.plot(np.arange(0, N), H.history[\"val_loss\"], label=\"Validation Loss\")\n",
        "plt.legend()\n",
        "plt.xlabel(\"Epoch #\")\n",
        "plt.ylabel(\"Error\")\n",
        "plt.title(\"Kurva Tingkat Error\", size=15)\n",
        "plt.grid(zorder=0)\n",
        "plt.show()"
      ]
    },
    {
      "attachments": {},
      "cell_type": "markdown",
      "metadata": {
        "id": "3Mqe8nNB7lp8"
      },
      "source": [
        "## Evaluasi Jaringan\n"
      ]
    },
    {
      "cell_type": "code",
      "execution_count": 23,
      "metadata": {
        "colab": {
          "base_uri": "https://localhost:8080/"
        },
        "id": "HLxROO1pg7Em",
        "outputId": "a1c09ec8-8171-4997-ad03-415a0327d317"
      },
      "outputs": [
        {
          "name": "stdout",
          "output_type": "stream",
          "text": [
            "['loss', 'accuracy']\n",
            "15/15 [==============================] - 5s 339ms/step - loss: 0.6353 - accuracy: 0.8896\n",
            "[0.6352813243865967, 0.8895833492279053]\n"
          ]
        }
      ],
      "source": [
        "# Memeriksa matriks model\n",
        "print(model.metrics_names)\n",
        "# Evaluasi data test\n",
        "'''\n",
        "print(model.evaluate(x= testX, y = testY))\n",
        "'''\n",
        "\n",
        "print(model.evaluate(x=testX, y=testY))\n",
        "# evaluasi fold"
      ]
    },
    {
      "cell_type": "code",
      "execution_count": 24,
      "metadata": {
        "colab": {
          "base_uri": "https://localhost:8080/"
        },
        "id": "ySJujhciZvlQ",
        "outputId": "2a63ec46-9249-4de9-cd1e-fb45cf24ab7e"
      },
      "outputs": [
        {
          "ename": "ResourceExhaustedError",
          "evalue": "Graph execution error:\n\nDetected at node 'model_3/block1_conv2/Relu' defined at (most recent call last):\n    File \"c:\\Users\\georg\\anaconda3\\envs\\tf\\lib\\runpy.py\", line 197, in _run_module_as_main\n      return _run_code(code, main_globals, None,\n    File \"c:\\Users\\georg\\anaconda3\\envs\\tf\\lib\\runpy.py\", line 87, in _run_code\n      exec(code, run_globals)\n    File \"c:\\Users\\georg\\anaconda3\\envs\\tf\\lib\\site-packages\\ipykernel_launcher.py\", line 17, in <module>\n      app.launch_new_instance()\n    File \"c:\\Users\\georg\\anaconda3\\envs\\tf\\lib\\site-packages\\traitlets\\config\\application.py\", line 1043, in launch_instance\n      app.start()\n    File \"c:\\Users\\georg\\anaconda3\\envs\\tf\\lib\\site-packages\\ipykernel\\kernelapp.py\", line 736, in start\n      self.io_loop.start()\n    File \"c:\\Users\\georg\\anaconda3\\envs\\tf\\lib\\site-packages\\tornado\\platform\\asyncio.py\", line 215, in start\n      self.asyncio_loop.run_forever()\n    File \"c:\\Users\\georg\\anaconda3\\envs\\tf\\lib\\asyncio\\base_events.py\", line 601, in run_forever\n      self._run_once()\n    File \"c:\\Users\\georg\\anaconda3\\envs\\tf\\lib\\asyncio\\base_events.py\", line 1905, in _run_once\n      handle._run()\n    File \"c:\\Users\\georg\\anaconda3\\envs\\tf\\lib\\asyncio\\events.py\", line 80, in _run\n      self._context.run(self._callback, *self._args)\n    File \"c:\\Users\\georg\\anaconda3\\envs\\tf\\lib\\site-packages\\ipykernel\\kernelbase.py\", line 516, in dispatch_queue\n      await self.process_one()\n    File \"c:\\Users\\georg\\anaconda3\\envs\\tf\\lib\\site-packages\\ipykernel\\kernelbase.py\", line 505, in process_one\n      await dispatch(*args)\n    File \"c:\\Users\\georg\\anaconda3\\envs\\tf\\lib\\site-packages\\ipykernel\\kernelbase.py\", line 412, in dispatch_shell\n      await result\n    File \"c:\\Users\\georg\\anaconda3\\envs\\tf\\lib\\site-packages\\ipykernel\\kernelbase.py\", line 740, in execute_request\n      reply_content = await reply_content\n    File \"c:\\Users\\georg\\anaconda3\\envs\\tf\\lib\\site-packages\\ipykernel\\ipkernel.py\", line 422, in do_execute\n      res = shell.run_cell(\n    File \"c:\\Users\\georg\\anaconda3\\envs\\tf\\lib\\site-packages\\ipykernel\\zmqshell.py\", line 546, in run_cell\n      return super().run_cell(*args, **kwargs)\n    File \"c:\\Users\\georg\\anaconda3\\envs\\tf\\lib\\site-packages\\IPython\\core\\interactiveshell.py\", line 3009, in run_cell\n      result = self._run_cell(\n    File \"c:\\Users\\georg\\anaconda3\\envs\\tf\\lib\\site-packages\\IPython\\core\\interactiveshell.py\", line 3064, in _run_cell\n      result = runner(coro)\n    File \"c:\\Users\\georg\\anaconda3\\envs\\tf\\lib\\site-packages\\IPython\\core\\async_helpers.py\", line 129, in _pseudo_sync_runner\n      coro.send(None)\n    File \"c:\\Users\\georg\\anaconda3\\envs\\tf\\lib\\site-packages\\IPython\\core\\interactiveshell.py\", line 3269, in run_cell_async\n      has_raised = await self.run_ast_nodes(code_ast.body, cell_name,\n    File \"c:\\Users\\georg\\anaconda3\\envs\\tf\\lib\\site-packages\\IPython\\core\\interactiveshell.py\", line 3448, in run_ast_nodes\n      if await self.run_code(code, result, async_=asy):\n    File \"c:\\Users\\georg\\anaconda3\\envs\\tf\\lib\\site-packages\\IPython\\core\\interactiveshell.py\", line 3508, in run_code\n      exec(code_obj, self.user_global_ns, self.user_ns)\n    File \"C:\\Users\\georg\\AppData\\Local\\Temp\\ipykernel_10544\\1077714855.py\", line 6, in <module>\n      YPred = model.predict(testX, batch_size=BS)\n    File \"c:\\Users\\georg\\anaconda3\\envs\\tf\\lib\\site-packages\\keras\\utils\\traceback_utils.py\", line 65, in error_handler\n      return fn(*args, **kwargs)\n    File \"c:\\Users\\georg\\anaconda3\\envs\\tf\\lib\\site-packages\\keras\\engine\\training.py\", line 2253, in predict\n      tmp_batch_outputs = self.predict_function(iterator)\n    File \"c:\\Users\\georg\\anaconda3\\envs\\tf\\lib\\site-packages\\keras\\engine\\training.py\", line 2041, in predict_function\n      return step_function(self, iterator)\n    File \"c:\\Users\\georg\\anaconda3\\envs\\tf\\lib\\site-packages\\keras\\engine\\training.py\", line 2027, in step_function\n      outputs = model.distribute_strategy.run(run_step, args=(data,))\n    File \"c:\\Users\\georg\\anaconda3\\envs\\tf\\lib\\site-packages\\keras\\engine\\training.py\", line 2015, in run_step\n      outputs = model.predict_step(data)\n    File \"c:\\Users\\georg\\anaconda3\\envs\\tf\\lib\\site-packages\\keras\\engine\\training.py\", line 1983, in predict_step\n      return self(x, training=False)\n    File \"c:\\Users\\georg\\anaconda3\\envs\\tf\\lib\\site-packages\\keras\\utils\\traceback_utils.py\", line 65, in error_handler\n      return fn(*args, **kwargs)\n    File \"c:\\Users\\georg\\anaconda3\\envs\\tf\\lib\\site-packages\\keras\\engine\\training.py\", line 557, in __call__\n      return super().__call__(*args, **kwargs)\n    File \"c:\\Users\\georg\\anaconda3\\envs\\tf\\lib\\site-packages\\keras\\utils\\traceback_utils.py\", line 65, in error_handler\n      return fn(*args, **kwargs)\n    File \"c:\\Users\\georg\\anaconda3\\envs\\tf\\lib\\site-packages\\keras\\engine\\base_layer.py\", line 1097, in __call__\n      outputs = call_fn(inputs, *args, **kwargs)\n    File \"c:\\Users\\georg\\anaconda3\\envs\\tf\\lib\\site-packages\\keras\\utils\\traceback_utils.py\", line 96, in error_handler\n      return fn(*args, **kwargs)\n    File \"c:\\Users\\georg\\anaconda3\\envs\\tf\\lib\\site-packages\\keras\\engine\\functional.py\", line 510, in call\n      return self._run_internal_graph(inputs, training=training, mask=mask)\n    File \"c:\\Users\\georg\\anaconda3\\envs\\tf\\lib\\site-packages\\keras\\engine\\functional.py\", line 667, in _run_internal_graph\n      outputs = node.layer(*args, **kwargs)\n    File \"c:\\Users\\georg\\anaconda3\\envs\\tf\\lib\\site-packages\\keras\\utils\\traceback_utils.py\", line 65, in error_handler\n      return fn(*args, **kwargs)\n    File \"c:\\Users\\georg\\anaconda3\\envs\\tf\\lib\\site-packages\\keras\\engine\\base_layer.py\", line 1097, in __call__\n      outputs = call_fn(inputs, *args, **kwargs)\n    File \"c:\\Users\\georg\\anaconda3\\envs\\tf\\lib\\site-packages\\keras\\utils\\traceback_utils.py\", line 96, in error_handler\n      return fn(*args, **kwargs)\n    File \"c:\\Users\\georg\\anaconda3\\envs\\tf\\lib\\site-packages\\keras\\layers\\convolutional\\base_conv.py\", line 314, in call\n      return self.activation(outputs)\n    File \"c:\\Users\\georg\\anaconda3\\envs\\tf\\lib\\site-packages\\keras\\activations.py\", line 317, in relu\n      return backend.relu(\n    File \"c:\\Users\\georg\\anaconda3\\envs\\tf\\lib\\site-packages\\keras\\backend.py\", line 5366, in relu\n      x = tf.nn.relu(x)\nNode: 'model_3/block1_conv2/Relu'\nOOM when allocating tensor with shape[32,64,224,224] and type float on /job:localhost/replica:0/task:0/device:GPU:0 by allocator GPU_0_bfc\n\t [[{{node model_3/block1_conv2/Relu}}]]\nHint: If you want to see a list of allocated tensors when OOM happens, add report_tensor_allocations_upon_oom to RunOptions for current allocation info. This isn't available when running in Eager mode.\n [Op:__inference_predict_function_73968]",
          "output_type": "error",
          "traceback": [
            "\u001b[1;31m---------------------------------------------------------------------------\u001b[0m",
            "\u001b[1;31mResourceExhaustedError\u001b[0m                    Traceback (most recent call last)",
            "Cell \u001b[1;32mIn[24], line 6\u001b[0m\n\u001b[0;32m      3\u001b[0m yTrue \u001b[39m=\u001b[39m np\u001b[39m.\u001b[39margmax(testY, axis\u001b[39m=\u001b[39m\u001b[39m1\u001b[39m)\n\u001b[0;32m      5\u001b[0m \u001b[39m# Label prediksi\u001b[39;00m\n\u001b[1;32m----> 6\u001b[0m YPred \u001b[39m=\u001b[39m model\u001b[39m.\u001b[39;49mpredict(testX, batch_size\u001b[39m=\u001b[39;49mBS)\n\u001b[0;32m      7\u001b[0m yPred \u001b[39m=\u001b[39m np\u001b[39m.\u001b[39margmax(YPred, axis\u001b[39m=\u001b[39m\u001b[39m1\u001b[39m)\n\u001b[0;32m      9\u001b[0m \u001b[39mprint\u001b[39m(yTrue)\n",
            "File \u001b[1;32mc:\\Users\\georg\\anaconda3\\envs\\tf\\lib\\site-packages\\keras\\utils\\traceback_utils.py:70\u001b[0m, in \u001b[0;36mfilter_traceback.<locals>.error_handler\u001b[1;34m(*args, **kwargs)\u001b[0m\n\u001b[0;32m     67\u001b[0m     filtered_tb \u001b[39m=\u001b[39m _process_traceback_frames(e\u001b[39m.\u001b[39m__traceback__)\n\u001b[0;32m     68\u001b[0m     \u001b[39m# To get the full stack trace, call:\u001b[39;00m\n\u001b[0;32m     69\u001b[0m     \u001b[39m# `tf.debugging.disable_traceback_filtering()`\u001b[39;00m\n\u001b[1;32m---> 70\u001b[0m     \u001b[39mraise\u001b[39;00m e\u001b[39m.\u001b[39mwith_traceback(filtered_tb) \u001b[39mfrom\u001b[39;00m \u001b[39mNone\u001b[39;00m\n\u001b[0;32m     71\u001b[0m \u001b[39mfinally\u001b[39;00m:\n\u001b[0;32m     72\u001b[0m     \u001b[39mdel\u001b[39;00m filtered_tb\n",
            "File \u001b[1;32mc:\\Users\\georg\\anaconda3\\envs\\tf\\lib\\site-packages\\tensorflow\\python\\eager\\execute.py:54\u001b[0m, in \u001b[0;36mquick_execute\u001b[1;34m(op_name, num_outputs, inputs, attrs, ctx, name)\u001b[0m\n\u001b[0;32m     52\u001b[0m \u001b[39mtry\u001b[39;00m:\n\u001b[0;32m     53\u001b[0m   ctx\u001b[39m.\u001b[39mensure_initialized()\n\u001b[1;32m---> 54\u001b[0m   tensors \u001b[39m=\u001b[39m pywrap_tfe\u001b[39m.\u001b[39mTFE_Py_Execute(ctx\u001b[39m.\u001b[39m_handle, device_name, op_name,\n\u001b[0;32m     55\u001b[0m                                       inputs, attrs, num_outputs)\n\u001b[0;32m     56\u001b[0m \u001b[39mexcept\u001b[39;00m core\u001b[39m.\u001b[39m_NotOkStatusException \u001b[39mas\u001b[39;00m e:\n\u001b[0;32m     57\u001b[0m   \u001b[39mif\u001b[39;00m name \u001b[39mis\u001b[39;00m \u001b[39mnot\u001b[39;00m \u001b[39mNone\u001b[39;00m:\n",
            "\u001b[1;31mResourceExhaustedError\u001b[0m: Graph execution error:\n\nDetected at node 'model_3/block1_conv2/Relu' defined at (most recent call last):\n    File \"c:\\Users\\georg\\anaconda3\\envs\\tf\\lib\\runpy.py\", line 197, in _run_module_as_main\n      return _run_code(code, main_globals, None,\n    File \"c:\\Users\\georg\\anaconda3\\envs\\tf\\lib\\runpy.py\", line 87, in _run_code\n      exec(code, run_globals)\n    File \"c:\\Users\\georg\\anaconda3\\envs\\tf\\lib\\site-packages\\ipykernel_launcher.py\", line 17, in <module>\n      app.launch_new_instance()\n    File \"c:\\Users\\georg\\anaconda3\\envs\\tf\\lib\\site-packages\\traitlets\\config\\application.py\", line 1043, in launch_instance\n      app.start()\n    File \"c:\\Users\\georg\\anaconda3\\envs\\tf\\lib\\site-packages\\ipykernel\\kernelapp.py\", line 736, in start\n      self.io_loop.start()\n    File \"c:\\Users\\georg\\anaconda3\\envs\\tf\\lib\\site-packages\\tornado\\platform\\asyncio.py\", line 215, in start\n      self.asyncio_loop.run_forever()\n    File \"c:\\Users\\georg\\anaconda3\\envs\\tf\\lib\\asyncio\\base_events.py\", line 601, in run_forever\n      self._run_once()\n    File \"c:\\Users\\georg\\anaconda3\\envs\\tf\\lib\\asyncio\\base_events.py\", line 1905, in _run_once\n      handle._run()\n    File \"c:\\Users\\georg\\anaconda3\\envs\\tf\\lib\\asyncio\\events.py\", line 80, in _run\n      self._context.run(self._callback, *self._args)\n    File \"c:\\Users\\georg\\anaconda3\\envs\\tf\\lib\\site-packages\\ipykernel\\kernelbase.py\", line 516, in dispatch_queue\n      await self.process_one()\n    File \"c:\\Users\\georg\\anaconda3\\envs\\tf\\lib\\site-packages\\ipykernel\\kernelbase.py\", line 505, in process_one\n      await dispatch(*args)\n    File \"c:\\Users\\georg\\anaconda3\\envs\\tf\\lib\\site-packages\\ipykernel\\kernelbase.py\", line 412, in dispatch_shell\n      await result\n    File \"c:\\Users\\georg\\anaconda3\\envs\\tf\\lib\\site-packages\\ipykernel\\kernelbase.py\", line 740, in execute_request\n      reply_content = await reply_content\n    File \"c:\\Users\\georg\\anaconda3\\envs\\tf\\lib\\site-packages\\ipykernel\\ipkernel.py\", line 422, in do_execute\n      res = shell.run_cell(\n    File \"c:\\Users\\georg\\anaconda3\\envs\\tf\\lib\\site-packages\\ipykernel\\zmqshell.py\", line 546, in run_cell\n      return super().run_cell(*args, **kwargs)\n    File \"c:\\Users\\georg\\anaconda3\\envs\\tf\\lib\\site-packages\\IPython\\core\\interactiveshell.py\", line 3009, in run_cell\n      result = self._run_cell(\n    File \"c:\\Users\\georg\\anaconda3\\envs\\tf\\lib\\site-packages\\IPython\\core\\interactiveshell.py\", line 3064, in _run_cell\n      result = runner(coro)\n    File \"c:\\Users\\georg\\anaconda3\\envs\\tf\\lib\\site-packages\\IPython\\core\\async_helpers.py\", line 129, in _pseudo_sync_runner\n      coro.send(None)\n    File \"c:\\Users\\georg\\anaconda3\\envs\\tf\\lib\\site-packages\\IPython\\core\\interactiveshell.py\", line 3269, in run_cell_async\n      has_raised = await self.run_ast_nodes(code_ast.body, cell_name,\n    File \"c:\\Users\\georg\\anaconda3\\envs\\tf\\lib\\site-packages\\IPython\\core\\interactiveshell.py\", line 3448, in run_ast_nodes\n      if await self.run_code(code, result, async_=asy):\n    File \"c:\\Users\\georg\\anaconda3\\envs\\tf\\lib\\site-packages\\IPython\\core\\interactiveshell.py\", line 3508, in run_code\n      exec(code_obj, self.user_global_ns, self.user_ns)\n    File \"C:\\Users\\georg\\AppData\\Local\\Temp\\ipykernel_10544\\1077714855.py\", line 6, in <module>\n      YPred = model.predict(testX, batch_size=BS)\n    File \"c:\\Users\\georg\\anaconda3\\envs\\tf\\lib\\site-packages\\keras\\utils\\traceback_utils.py\", line 65, in error_handler\n      return fn(*args, **kwargs)\n    File \"c:\\Users\\georg\\anaconda3\\envs\\tf\\lib\\site-packages\\keras\\engine\\training.py\", line 2253, in predict\n      tmp_batch_outputs = self.predict_function(iterator)\n    File \"c:\\Users\\georg\\anaconda3\\envs\\tf\\lib\\site-packages\\keras\\engine\\training.py\", line 2041, in predict_function\n      return step_function(self, iterator)\n    File \"c:\\Users\\georg\\anaconda3\\envs\\tf\\lib\\site-packages\\keras\\engine\\training.py\", line 2027, in step_function\n      outputs = model.distribute_strategy.run(run_step, args=(data,))\n    File \"c:\\Users\\georg\\anaconda3\\envs\\tf\\lib\\site-packages\\keras\\engine\\training.py\", line 2015, in run_step\n      outputs = model.predict_step(data)\n    File \"c:\\Users\\georg\\anaconda3\\envs\\tf\\lib\\site-packages\\keras\\engine\\training.py\", line 1983, in predict_step\n      return self(x, training=False)\n    File \"c:\\Users\\georg\\anaconda3\\envs\\tf\\lib\\site-packages\\keras\\utils\\traceback_utils.py\", line 65, in error_handler\n      return fn(*args, **kwargs)\n    File \"c:\\Users\\georg\\anaconda3\\envs\\tf\\lib\\site-packages\\keras\\engine\\training.py\", line 557, in __call__\n      return super().__call__(*args, **kwargs)\n    File \"c:\\Users\\georg\\anaconda3\\envs\\tf\\lib\\site-packages\\keras\\utils\\traceback_utils.py\", line 65, in error_handler\n      return fn(*args, **kwargs)\n    File \"c:\\Users\\georg\\anaconda3\\envs\\tf\\lib\\site-packages\\keras\\engine\\base_layer.py\", line 1097, in __call__\n      outputs = call_fn(inputs, *args, **kwargs)\n    File \"c:\\Users\\georg\\anaconda3\\envs\\tf\\lib\\site-packages\\keras\\utils\\traceback_utils.py\", line 96, in error_handler\n      return fn(*args, **kwargs)\n    File \"c:\\Users\\georg\\anaconda3\\envs\\tf\\lib\\site-packages\\keras\\engine\\functional.py\", line 510, in call\n      return self._run_internal_graph(inputs, training=training, mask=mask)\n    File \"c:\\Users\\georg\\anaconda3\\envs\\tf\\lib\\site-packages\\keras\\engine\\functional.py\", line 667, in _run_internal_graph\n      outputs = node.layer(*args, **kwargs)\n    File \"c:\\Users\\georg\\anaconda3\\envs\\tf\\lib\\site-packages\\keras\\utils\\traceback_utils.py\", line 65, in error_handler\n      return fn(*args, **kwargs)\n    File \"c:\\Users\\georg\\anaconda3\\envs\\tf\\lib\\site-packages\\keras\\engine\\base_layer.py\", line 1097, in __call__\n      outputs = call_fn(inputs, *args, **kwargs)\n    File \"c:\\Users\\georg\\anaconda3\\envs\\tf\\lib\\site-packages\\keras\\utils\\traceback_utils.py\", line 96, in error_handler\n      return fn(*args, **kwargs)\n    File \"c:\\Users\\georg\\anaconda3\\envs\\tf\\lib\\site-packages\\keras\\layers\\convolutional\\base_conv.py\", line 314, in call\n      return self.activation(outputs)\n    File \"c:\\Users\\georg\\anaconda3\\envs\\tf\\lib\\site-packages\\keras\\activations.py\", line 317, in relu\n      return backend.relu(\n    File \"c:\\Users\\georg\\anaconda3\\envs\\tf\\lib\\site-packages\\keras\\backend.py\", line 5366, in relu\n      x = tf.nn.relu(x)\nNode: 'model_3/block1_conv2/Relu'\nOOM when allocating tensor with shape[32,64,224,224] and type float on /job:localhost/replica:0/task:0/device:GPU:0 by allocator GPU_0_bfc\n\t [[{{node model_3/block1_conv2/Relu}}]]\nHint: If you want to see a list of allocated tensors when OOM happens, add report_tensor_allocations_upon_oom to RunOptions for current allocation info. This isn't available when running in Eager mode.\n [Op:__inference_predict_function_73968]"
          ]
        }
      ],
      "source": [
        "# Menampilkan matriks yang benar dan matriks hasil prediksi\n",
        "# Label yang benar\n",
        "yTrue = np.argmax(testY, axis=1)\n",
        "\n",
        "# Label prediksi\n",
        "YPred = model.predict(testX, batch_size=BS)\n",
        "yPred = np.argmax(YPred, axis=1)\n",
        "\n",
        "print(yTrue)\n",
        "print(yPred)"
      ]
    },
    {
      "attachments": {},
      "cell_type": "markdown",
      "metadata": {
        "id": "yl0Y-D41imCP"
      },
      "source": [
        "## Confusion Matrix\n"
      ]
    },
    {
      "cell_type": "code",
      "execution_count": null,
      "metadata": {
        "colab": {
          "base_uri": "https://localhost:8080/"
        },
        "id": "EL_ROzJdh6pm",
        "outputId": "d85cbdc9-735a-47f3-dd2b-ebaa9d705de3"
      },
      "outputs": [],
      "source": [
        "\n",
        "def get_confusion_matrix(yTrue, yPred):\n",
        "    n_classes = len(np.unique(yTrue))\n",
        "    conf = np.zeros((n_classes, n_classes))\n",
        "    for actual, pred in zip(yTrue, yPred):\n",
        "        conf[int(actual)][int(pred)] += 1\n",
        "    return conf.astype('int')"
      ]
    },
    {
      "cell_type": "code",
      "execution_count": null,
      "metadata": {
        "colab": {
          "base_uri": "https://localhost:8080/"
        },
        "id": "YxoC6xxjaCrf",
        "outputId": "789d26ad-0fe5-42b4-b099-84c5631bd977"
      },
      "outputs": [
        {
          "data": {
            "text/plain": [
              "array([[230,  10],\n",
              "       [  0, 240]])"
            ]
          },
          "execution_count": 16,
          "metadata": {},
          "output_type": "execute_result"
        }
      ],
      "source": [
        "conf = get_confusion_matrix(yTrue, yPred)\n",
        "conf"
      ]
    },
    {
      "cell_type": "code",
      "execution_count": null,
      "metadata": {
        "colab": {
          "base_uri": "https://localhost:8080/",
          "height": 541
        },
        "id": "Ss9YmprkdirH",
        "outputId": "a46b056d-74e4-4028-c5b4-30566ad16782"
      },
      "outputs": [
        {
          "data": {
            "text/plain": [
              "Text(0.5, 23.52222222222222, 'Label Prediksi')"
            ]
          },
          "execution_count": 17,
          "metadata": {},
          "output_type": "execute_result"
        },
        {
          "data": {
            "image/png": "[encoded data removed]",
            "text/plain": [
              "<Figure size 640x480 with 2 Axes>"
            ]
          },
          "metadata": {},
          "output_type": "display_data"
        }
      ],
      "source": [
        "classes = [0, 1]\n",
        "# Plot confusion matrix\n",
        "plt.imshow(conf, interpolation='nearest', cmap=plt.cm.Greens)\n",
        "plt.title(\"Confusion Matrix\")\n",
        "plt.colorbar()\n",
        "tick_marks = np.arange(len(classes))\n",
        "plt.xticks(tick_marks, classes)\n",
        "plt.yticks(tick_marks, classes)\n",
        "\n",
        "fmt = 'd'\n",
        "thresh = conf.max() / 2.\n",
        "for i, j in itertools.product(range(conf.shape[0]), range(conf.shape[1])):\n",
        "    plt.text(j, i, format(conf[i, j], fmt),\n",
        "             horizontalalignment=\"center\",\n",
        "             color=\"white\" if conf[i, j] > thresh else \"black\")\n",
        "\n",
        "plt.tight_layout()\n",
        "plt.ylabel('Label benar')\n",
        "plt.xlabel('Label Prediksi')"
      ]
    },
    {
      "attachments": {},
      "cell_type": "markdown",
      "metadata": {
        "id": "Sr58aW7Ui7PD"
      },
      "source": [
        "Analisis mAP\n"
      ]
    },
    {
      "cell_type": "code",
      "execution_count": null,
      "metadata": {},
      "outputs": [
        {
          "name": "stdout",
          "output_type": "stream",
          "text": [
            "Akurasi: 0.9791666666666666\n",
            "Recall: 1.0\n",
            "Presisi: 0.96\n",
            "F1-Score: 0.9795918367346939\n"
          ]
        }
      ],
      "source": [
        "from sklearn.metrics import accuracy_score, recall_score, precision_score, f1_score\n",
        "# menghitung nilai accuracy\n",
        "accuracy = accuracy_score(yTrue, yPred)\n",
        "\n",
        "# Menghitung nilai recall\n",
        "recall = recall_score(yTrue, yPred)\n",
        "\n",
        "# Menghitung nilai presisi\n",
        "precision = precision_score(yTrue, yPred)\n",
        "\n",
        "# Menghitung nilai F1-Score\n",
        "f1 = f1_score(yTrue, yPred)\n",
        "\n",
        "print(\"Akurasi:\", accuracy)\n",
        "print(\"Recall:\", recall)\n",
        "print(\"Presisi:\", precision)\n",
        "print(\"F1-Score:\", f1)"
      ]
    },
    {
      "cell_type": "code",
      "execution_count": null,
      "metadata": {
        "colab": {
          "base_uri": "https://localhost:8080/"
        },
        "id": "BDPEy5zamOoi",
        "outputId": "cf046df8-a326-4673-82da-695545bba41b"
      },
      "outputs": [
        {
          "name": "stdout",
          "output_type": "stream",
          "text": [
            "15/15 [==============================] - 4s 270ms/step\n",
            "              precision    recall  f1-score   support\n",
            "\n",
            "   with_mask       1.00      0.96      0.98       240\n",
            "without_mask       0.96      1.00      0.98       240\n",
            "\n",
            "    accuracy                           0.98       480\n",
            "   macro avg       0.98      0.98      0.98       480\n",
            "weighted avg       0.98      0.98      0.98       480\n",
            "\n"
          ]
        }
      ],
      "source": [
        "# Membuat prediksi dari pengujian\n",
        "predIdxs = model.predict(testX, batch_size=BS)\n",
        "\n",
        "# Untuk setiap gambar dalam set pengujian, kita perlu menemukan indeks label\n",
        "# dengan probabilitas prediksi terbesar\n",
        "predIdxs = np.argmax(predIdxs, axis=1)\n",
        "\n",
        "# Menampilkan laporan klasifikasi yang diformat dengan baik\n",
        "print(classification_report(testY.argmax(axis=1), predIdxs,\n",
        "                            target_names=lb.classes_))"
      ]
    },
    {
      "attachments": {},
      "cell_type": "markdown",
      "metadata": {
        "id": "S8U7B1jv8ZQr"
      },
      "source": [
        "## Menyimpan dan Konversi Model ke \".tflite\"\n",
        "\n",
        "Menyimpan model menggunakan tf.saved_model/save dan kemudian mengkonversi model tersimpan ke format yang kompatibel tf lite.\n"
      ]
    },
    {
      "attachments": {},
      "cell_type": "markdown",
      "metadata": {
        "id": "D-H94fpq_E0J"
      },
      "source": [
        "# Pengujian Model dengan MTCNN\n"
      ]
    },
    {
      "attachments": {},
      "cell_type": "markdown",
      "metadata": {
        "id": "9T0GaCA5_SRw"
      },
      "source": [
        "Model diujikan pada gambar dan secara real-time dengan menggunakan MTCNN yang digunakan untuk mendeteksi wajah.\n"
      ]
    },
    {
      "attachments": {},
      "cell_type": "markdown",
      "metadata": {
        "id": "nej9QmRT8-DO"
      },
      "source": [
        "## Penggunaan Model pada Gambar\n"
      ]
    },
    {
      "attachments": {},
      "cell_type": "markdown",
      "metadata": {
        "id": "njXIK_L3dVXx"
      },
      "source": [
        "## Pengujian Deteksi Perframe Capture\n"
      ]
    },
    {
      "attachments": {},
      "cell_type": "markdown",
      "metadata": {
        "id": "c6ziSC8bK9zR"
      },
      "source": [
        "## Pengujian Streaming Video\n"
      ]
    }
  ],
  "metadata": {
    "accelerator": "GPU",
    "colab": {
      "collapsed_sections": [
        "njXIK_L3dVXx"
      ],
      "gpuType": "T4",
      "provenance": [],
      "toc_visible": true
    },
    "gpuClass": "standard",
    "kernelspec": {
      "display_name": "Python 3",
      "name": "python3"
    },
    "language_info": {
      "codemirror_mode": {
        "name": "ipython",
        "version": 3
      },
      "file_extension": ".py",
      "mimetype": "text/x-python",
      "name": "python",
      "nbconvert_exporter": "python",
      "pygments_lexer": "ipython3",
      "version": "3.9.17"
    }
  },
  "nbformat": 4,
  "nbformat_minor": 0
}
